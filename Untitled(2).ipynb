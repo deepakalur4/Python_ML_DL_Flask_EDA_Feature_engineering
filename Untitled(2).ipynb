{
 "cells": [
  {
   "cell_type": "code",
   "execution_count": 1,
   "id": "616e05bb-41b1-4d39-995a-18b587c8462f",
   "metadata": {},
   "outputs": [],
   "source": [
    "# single Inhertance"
   ]
  },
  {
   "cell_type": "code",
   "execution_count": 2,
   "id": "ae6e5655-f91f-47e5-970a-a48aaff6d40b",
   "metadata": {},
   "outputs": [],
   "source": [
    "class Parent:\n",
    "    def func1(self):\n",
    "        print(\"Hello from parent class\")\n",
    "        \n",
    "class child(Parent):\n",
    "    def func2(self):\n",
    "        print(\"Hello Child\")\n",
    "        \n",
    "        "
   ]
  },
  {
   "cell_type": "code",
   "execution_count": 3,
   "id": "a1c90f40-0f95-4f0f-9488-ecf9e5aea51a",
   "metadata": {},
   "outputs": [],
   "source": [
    "test=child()"
   ]
  },
  {
   "cell_type": "code",
   "execution_count": 4,
   "id": "1c0f8f58-297f-40af-a177-4d5f4b1d8fc7",
   "metadata": {},
   "outputs": [
    {
     "name": "stdout",
     "output_type": "stream",
     "text": [
      "Hello from parent class\n"
     ]
    }
   ],
   "source": [
    "test.func1()"
   ]
  },
  {
   "cell_type": "code",
   "execution_count": 5,
   "id": "3c021569-de12-455e-9dbf-ce0c4d3495dc",
   "metadata": {},
   "outputs": [
    {
     "name": "stdout",
     "output_type": "stream",
     "text": [
      "Hello Child\n"
     ]
    }
   ],
   "source": [
    "test.func2()"
   ]
  },
  {
   "cell_type": "code",
   "execution_count": 7,
   "id": "147f805f-d3cd-4231-bcf2-13d45ec957bc",
   "metadata": {},
   "outputs": [],
   "source": [
    "class Ineuron:\n",
    "    company_website= \"https://ineuron.ai\"\n",
    "    name= 'iNeuron'\n",
    "    \n",
    "    def contact_details(self):\n",
    "        print(\"'Contact us at\", self.company_website)\n",
    "        \n",
    "        \n",
    "class Datascience(Ineuron):\n",
    "    \n",
    "    def __init__(self):\n",
    "        self.year_of_establishment = 2018\n",
    "        \n",
    "    def est_details(self):\n",
    "        print( \"est deatils\",self.name,self.year_0f_establishment)\n",
    "        \n",
    "        \n",
    "    \n",
    "    "
   ]
  },
  {
   "cell_type": "code",
   "execution_count": 8,
   "id": "799d051f-641f-4c16-9525-53b2ccdfbd79",
   "metadata": {},
   "outputs": [],
   "source": [
    "ds=Datascience()"
   ]
  },
  {
   "cell_type": "code",
   "execution_count": 10,
   "id": "118b1f4d-5356-4a84-bf4e-430be46b8da2",
   "metadata": {},
   "outputs": [
    {
     "name": "stdout",
     "output_type": "stream",
     "text": [
      "'Contact us at https://ineuron.ai\n"
     ]
    }
   ],
   "source": [
    "ds.contact_details()"
   ]
  },
  {
   "cell_type": "code",
   "execution_count": 11,
   "id": "cffe9924-b104-4a17-8022-0e9fd324070d",
   "metadata": {},
   "outputs": [
    {
     "data": {
      "text/plain": [
       "2018"
      ]
     },
     "execution_count": 11,
     "metadata": {},
     "output_type": "execute_result"
    }
   ],
   "source": [
    "ds.year_of_establishment"
   ]
  },
  {
   "cell_type": "code",
   "execution_count": 12,
   "id": "936af0b1-d647-4033-b6ed-e8bd33f4e7b3",
   "metadata": {},
   "outputs": [],
   "source": [
    "# Multiple Inheritance"
   ]
  },
  {
   "cell_type": "code",
   "execution_count": 25,
   "id": "48b8b1d8-23e8-4a5a-99e5-8571fcba6155",
   "metadata": {},
   "outputs": [],
   "source": [
    "class Parent1:\n",
    "    def func1(self):\n",
    "        print(\"Hello from parent1\")\n",
    "    \n",
    "class Parent2:\n",
    "    def func2(self):\n",
    "        print(\"Hello from parent2\")\n",
    "        \n",
    "class Parent3:\n",
    "    def func2(self):\n",
    "        print(\"Hello from parent3\")\n",
    "    \n",
    "    \n",
    "class child(Parent1,Parent2):\n",
    "    def func3(self):\n",
    "        print(\"Hello child\")"
   ]
  },
  {
   "cell_type": "code",
   "execution_count": 14,
   "id": "452620ac-8a81-412c-a2ea-2131c7b03ac1",
   "metadata": {},
   "outputs": [],
   "source": [
    "test=child()"
   ]
  },
  {
   "cell_type": "code",
   "execution_count": 15,
   "id": "0f3a63ec-6206-4c34-93e7-6ced77ee4adb",
   "metadata": {},
   "outputs": [
    {
     "name": "stdout",
     "output_type": "stream",
     "text": [
      "Hello from parent2\n"
     ]
    }
   ],
   "source": [
    "test.func2()"
   ]
  },
  {
   "cell_type": "code",
   "execution_count": 16,
   "id": "8f083cbe-b84e-4cae-8ac4-393699577207",
   "metadata": {},
   "outputs": [],
   "source": [
    "#parent class1 \n",
    "class Batch_number:\n",
    "    batchnumber=\"\"\n",
    "    def __init__(self,a,b,c):\n",
    "        self.a=a\n",
    "        self.b=b\n",
    "        self.c=c\n",
    "        \n",
    "    def batch(self):\n",
    "        print(self.batchnumber)\n",
    "        \n",
    "\n",
    "    \n",
    "#parent class 2\n",
    "\n",
    "class course_name:\n",
    "    cname=\"\"\n",
    "    def course(self):\n",
    "        print(self.cname)\n",
    "        \n",
    "\n",
    "    \n",
    "#child child\n",
    "\n",
    "class Student(Batch_number, course_name):\n",
    "    \n",
    "    def show(self):\n",
    "        print(\"Btach:\", self.batchnumber)\n",
    "        print(\"Course\", self.cname)\n",
    "        \n",
    "              \n",
    "\n",
    "            \n",
    "              \n"
   ]
  },
  {
   "cell_type": "code",
   "execution_count": 18,
   "id": "b9145cec-ef05-48e2-9e12-c5e87b44703c",
   "metadata": {},
   "outputs": [],
   "source": [
    "s1=Student(4,5,6)"
   ]
  },
  {
   "cell_type": "code",
   "execution_count": 19,
   "id": "40b038cc-5cc6-4024-96a8-824aae702131",
   "metadata": {},
   "outputs": [],
   "source": [
    "s1.batchnumber=\"2\""
   ]
  },
  {
   "cell_type": "code",
   "execution_count": 20,
   "id": "156f6ca4-2559-4f66-9f78-92c5879d10ac",
   "metadata": {},
   "outputs": [],
   "source": [
    "s1.cname=\"fsds\""
   ]
  },
  {
   "cell_type": "code",
   "execution_count": 21,
   "id": "9b2dea01-e1a8-4b16-a4db-22bd6364a6f0",
   "metadata": {},
   "outputs": [
    {
     "name": "stdout",
     "output_type": "stream",
     "text": [
      "fsds\n"
     ]
    }
   ],
   "source": [
    "s1.course()"
   ]
  },
  {
   "cell_type": "code",
   "execution_count": 22,
   "id": "a4bd7641-8f3d-4843-a377-f1781b37f5b5",
   "metadata": {},
   "outputs": [
    {
     "name": "stdout",
     "output_type": "stream",
     "text": [
      "Btach: 2\n",
      "Course fsds\n"
     ]
    }
   ],
   "source": [
    "s1.show()"
   ]
  },
  {
   "cell_type": "code",
   "execution_count": 23,
   "id": "9a65a11f-4ee1-439a-a790-9f1dd17513cc",
   "metadata": {},
   "outputs": [
    {
     "name": "stdout",
     "output_type": "stream",
     "text": [
      "2\n"
     ]
    }
   ],
   "source": [
    "s1.batch()"
   ]
  },
  {
   "cell_type": "code",
   "execution_count": 24,
   "id": "71b379dd-22a2-42de-81a6-1d7709d6def9",
   "metadata": {},
   "outputs": [],
   "source": [
    "class Person:\n",
    "    def func1(self):\n",
    "        print(\"Hello from Parent1\")\n",
    "        \n",
    "class Company:\n",
    "    def func2(self):\n",
    "        print(\"Hello from Parent2\")\n",
    "        \n",
    "# Multiple Ingeritance\n",
    "class Employee(Person,Company):\n",
    "    \n",
    "    def func3(self):\n",
    "        print(\"Hello Child\")\n"
   ]
  },
  {
   "cell_type": "code",
   "execution_count": 26,
   "id": "87c376cf-fc8d-47de-b26a-ac67dd74e349",
   "metadata": {},
   "outputs": [],
   "source": [
    "class Person:\n",
    "    name = \"\"\n",
    "    \n",
    "class Company:\n",
    "    c_name=\"\"\n",
    "    \n",
    "class Employee(Person,Company):\n",
    "    def showDetails(self):\n",
    "        return \" Name is: \" + self.name + \" and company name is: \" + self.c_name\n"
   ]
  },
  {
   "cell_type": "code",
   "execution_count": 27,
   "id": "b72b79ad-e34a-4c99-bd77-0f7048cb1e61",
   "metadata": {},
   "outputs": [],
   "source": [
    "#multi level\n",
    "\n",
    "\n",
    "class test1:\n",
    "    def a(self):\n",
    "        print(\"Inside test1....\")\n",
    "        \n",
    "\n",
    "class test2(test1):\n",
    "    def b(self):\n",
    "        print(\"Inside test2\")\n",
    "        \n",
    "class test3(test2):\n",
    "    def c(self):\n",
    "        print(\"Inside test3...\")\n",
    "        "
   ]
  },
  {
   "cell_type": "code",
   "execution_count": 28,
   "id": "83591178-68c0-4e60-ab71-e066c75a8a86",
   "metadata": {},
   "outputs": [],
   "source": [
    "t1=test3()"
   ]
  },
  {
   "cell_type": "code",
   "execution_count": 29,
   "id": "c9fd64ff-5f05-49f5-b802-4df69e80e18f",
   "metadata": {},
   "outputs": [
    {
     "name": "stdout",
     "output_type": "stream",
     "text": [
      "Inside test1....\n"
     ]
    }
   ],
   "source": [
    "t1.a()"
   ]
  },
  {
   "cell_type": "code",
   "execution_count": 31,
   "id": "a9d7ac70-8926-4b87-821c-190b3052bbf6",
   "metadata": {},
   "outputs": [],
   "source": [
    "t2=test1()"
   ]
  },
  {
   "cell_type": "code",
   "execution_count": null,
   "id": "b620c27e-386a-43fb-9a48-49ce69f3ac62",
   "metadata": {},
   "outputs": [],
   "source": [
    "t2.a"
   ]
  },
  {
   "cell_type": "code",
   "execution_count": null,
   "id": "046d2b1b-0798-44e2-b4db-de283a8a86ed",
   "metadata": {},
   "outputs": [],
   "source": []
  },
  {
   "cell_type": "code",
   "execution_count": 32,
   "id": "e2d2d249-6861-4d68-89a0-e5d0ddf2ff31",
   "metadata": {},
   "outputs": [],
   "source": [
    "class Vehicle:\n",
    "    def info(self):\n",
    "        print(\"Inside vehical class\")\n",
    "        \n",
    "\n",
    "class Car(Vehicle):\n",
    "    def car_info(self):\n",
    "        print(\"insdie car class\")\n",
    "        \n",
    "\n",
    "class sportcar(Car):\n",
    "    def sportscar(self):\n",
    "        print(\"inside sports car\")\n",
    "        \n",
    "        \n",
    "    \n",
    "    "
   ]
  },
  {
   "cell_type": "code",
   "execution_count": 33,
   "id": "b3453ccf-ec15-41c9-b6e6-c95b6f39e236",
   "metadata": {},
   "outputs": [],
   "source": [
    "s1=sportcar()"
   ]
  },
  {
   "cell_type": "code",
   "execution_count": 34,
   "id": "593935fa-403e-49a2-b49f-e785e5954080",
   "metadata": {},
   "outputs": [
    {
     "name": "stdout",
     "output_type": "stream",
     "text": [
      "insdie car class\n"
     ]
    }
   ],
   "source": [
    "s1.car_info()"
   ]
  },
  {
   "cell_type": "code",
   "execution_count": 37,
   "id": "8d1f1fad-9cb1-4b21-ab22-6c9ff8c21ad9",
   "metadata": {},
   "outputs": [],
   "source": [
    "class Phones:\n",
    "    def __init__(self,brand,model,price):\n",
    "        self.brand=brand\n",
    "        self.model=model\n",
    "        self.price=price\n",
    "        \n",
    "    def specs(self):\n",
    "        return (\"brand\",self.brand,\"price\", self.price)\n",
    "    \n",
    "    def typeofphone(self):\n",
    "        if self.price > 25000:\n",
    "            return 'This is a Budget phone'\n",
    "        else:\n",
    "            return 'this is mid range phone'\n",
    "        \n",
    "\n",
    "        \n",
    "class Smartphone(Phones):\n",
    "    def __init__(self,brand,model,price,ram,storage):\n",
    "        super().__init__(brand,model,price)\n",
    "        self.ram=ram\n",
    "        self.storage=storage\n",
    "        \n",
    "    \n",
    "\n",
    "class Flashipphone(Smartphone):\n",
    "    def __init__(self,brand,model,price,ram,storage, frontcamera,backcamera, display):\n",
    "        super().__init__(brand,model,price,ram,storage)\n",
    "        self.frontcamera=frontcamera\n",
    "        self.backcamera=backcamera\n",
    "        self.display=display\n",
    "        \n",
    "        \n",
    "        \n",
    "    \n",
    "        \n",
    "    "
   ]
  },
  {
   "cell_type": "code",
   "execution_count": 39,
   "id": "0838ef95-1ea0-4772-8fce-5b30084a6aca",
   "metadata": {},
   "outputs": [],
   "source": [
    "p1=Flashipphone('Samsung','s3',60000,128,60,'yes','yes','yes')"
   ]
  },
  {
   "cell_type": "code",
   "execution_count": 40,
   "id": "8e3cbe77-922b-4535-8678-a94ad40433ff",
   "metadata": {},
   "outputs": [
    {
     "data": {
      "text/plain": [
       "('brand', 'Samsung', 'price', 60000)"
      ]
     },
     "execution_count": 40,
     "metadata": {},
     "output_type": "execute_result"
    }
   ],
   "source": [
    "p1.specs()"
   ]
  },
  {
   "cell_type": "code",
   "execution_count": 41,
   "id": "6bc6bca4-571f-48e1-aee2-d2702b478a47",
   "metadata": {},
   "outputs": [
    {
     "data": {
      "text/plain": [
       "'This is a Budget phone'"
      ]
     },
     "execution_count": 41,
     "metadata": {},
     "output_type": "execute_result"
    }
   ],
   "source": [
    "p1.typeofphone()"
   ]
  },
  {
   "cell_type": "code",
   "execution_count": 42,
   "id": "47d343ff-9dfe-4f7a-bdba-710e6e3e3e6e",
   "metadata": {},
   "outputs": [
    {
     "data": {
      "text/plain": [
       "'yes'"
      ]
     },
     "execution_count": 42,
     "metadata": {},
     "output_type": "execute_result"
    }
   ],
   "source": [
    "p1.frontcamera"
   ]
  },
  {
   "cell_type": "code",
   "execution_count": 43,
   "id": "11843d37-6f99-45e6-a5af-ddba17059d49",
   "metadata": {},
   "outputs": [],
   "source": [
    "#hierachical inheritance"
   ]
  },
  {
   "cell_type": "code",
   "execution_count": 61,
   "id": "23e0dd8c-77aa-4986-911a-2d6b129665e6",
   "metadata": {},
   "outputs": [],
   "source": [
    "class Vehicle:\n",
    "    def info(self):\n",
    "        print(\"This is Vechicle\")\n",
    "        \n",
    "\n",
    "class Car(Vehicle):\n",
    "    def car_info(self,name):\n",
    "        print(\"car name\",name)\n",
    "        \n",
    "\n",
    "class Truck(Vehicle):\n",
    "    def truck_info(self,name):\n",
    "        print(\"truck name\",name)\n",
    "    \n",
    "\n",
    "    "
   ]
  },
  {
   "cell_type": "code",
   "execution_count": 67,
   "id": "197287ca-e98f-4985-80fe-716468048b25",
   "metadata": {},
   "outputs": [],
   "source": [
    "s1=Car()"
   ]
  },
  {
   "cell_type": "code",
   "execution_count": 68,
   "id": "9df74c6a-5ba3-4c97-a6d9-528536bea5fb",
   "metadata": {},
   "outputs": [
    {
     "name": "stdout",
     "output_type": "stream",
     "text": [
      "This is Vechicle\n"
     ]
    }
   ],
   "source": [
    "s1.info()"
   ]
  },
  {
   "cell_type": "code",
   "execution_count": null,
   "id": "2ab9ce07-c521-434e-9191-cc1ab39d30b9",
   "metadata": {},
   "outputs": [],
   "source": []
  },
  {
   "cell_type": "code",
   "execution_count": 69,
   "id": "347c06b3-471b-4616-a5af-1aff5e5274dd",
   "metadata": {},
   "outputs": [
    {
     "name": "stdout",
     "output_type": "stream",
     "text": [
      "car name nano\n"
     ]
    }
   ],
   "source": [
    "s1.car_info('nano')"
   ]
  },
  {
   "cell_type": "code",
   "execution_count": null,
   "id": "7270ee25-4578-4b7f-a2e4-a80b6c93c588",
   "metadata": {},
   "outputs": [],
   "source": []
  },
  {
   "cell_type": "code",
   "execution_count": 47,
   "id": "91c7ab06-1087-4911-802a-f8014eb0f7f2",
   "metadata": {},
   "outputs": [],
   "source": [
    "t1=Truck()"
   ]
  },
  {
   "cell_type": "code",
   "execution_count": 52,
   "id": "ef380c00-4606-435f-a6bd-2f81c5edde18",
   "metadata": {},
   "outputs": [
    {
     "name": "stdout",
     "output_type": "stream",
     "text": [
      "truck name sgfju\n"
     ]
    }
   ],
   "source": [
    "t1.truck_info('sgfju')"
   ]
  },
  {
   "cell_type": "code",
   "execution_count": 71,
   "id": "48986627-e303-49f5-9892-8bdae9551312",
   "metadata": {},
   "outputs": [],
   "source": [
    "class Vehicle:\n",
    "    def info(self):\n",
    "        print(\"This is Vechicle\")\n",
    "        \n",
    "\n",
    "class Car(Vehicle):\n",
    "    def car_info(self,name):\n",
    "        print(\"car name\",name)\n",
    "        \n",
    "\n",
    "class Truck(Vehicle):\n",
    "    def truck_info(self,name):\n",
    "        print(\"truck name\",name)\n",
    "        \n",
    "\n",
    "class Sportscar(Car,Vehicle):\n",
    "    def sportscar(self):\n",
    "        print(\"inisde from sports class\")"
   ]
  },
  {
   "cell_type": "code",
   "execution_count": 72,
   "id": "0d7d0d02-d5d7-4d3e-bb5e-fe16d0850a0a",
   "metadata": {},
   "outputs": [],
   "source": [
    "d1=Sportscar()"
   ]
  },
  {
   "cell_type": "code",
   "execution_count": null,
   "id": "6dcdade4-b249-4767-94b4-6b9fe9e5d7ec",
   "metadata": {},
   "outputs": [],
   "source": [
    "d1."
   ]
  },
  {
   "cell_type": "code",
   "execution_count": 73,
   "id": "17e12498-b529-4de5-bb5b-d297ab6c167c",
   "metadata": {},
   "outputs": [],
   "source": [
    "#super"
   ]
  },
  {
   "cell_type": "code",
   "execution_count": null,
   "id": "f5ce934a-77ff-436a-90c6-67172ff52f70",
   "metadata": {},
   "outputs": [],
   "source": [
    "\n",
    "1. super() is used when we nedd to build classes(child class) that extend the \n",
    "functionality of previously build classes(parent class)\n",
    "\n",
    "2.  super function in python is used to access method of immediate parent class"
   ]
  },
  {
   "cell_type": "code",
   "execution_count": 75,
   "id": "82172a8c-ebbc-401d-b4ac-30fe6b92be4f",
   "metadata": {},
   "outputs": [],
   "source": [
    "class Company:\n",
    "    def company_name(self):\n",
    "        return 'ineuron'\n",
    "    \n",
    "\n",
    "class Employee(Company):\n",
    "    def info(self):\n",
    "        c_name= super().company_name()\n",
    "        print(\"i work at\", c_name)\n",
    "        "
   ]
  },
  {
   "cell_type": "code",
   "execution_count": 76,
   "id": "032a51c6-f4ca-4073-abe9-fda3ad8ecb98",
   "metadata": {},
   "outputs": [],
   "source": [
    "emp=Employee()"
   ]
  },
  {
   "cell_type": "code",
   "execution_count": 77,
   "id": "777f2718-ca4c-4559-b9b6-f85a270f5c9e",
   "metadata": {},
   "outputs": [
    {
     "data": {
      "text/plain": [
       "'ineuron'"
      ]
     },
     "execution_count": 77,
     "metadata": {},
     "output_type": "execute_result"
    }
   ],
   "source": [
    "emp.company_name()"
   ]
  },
  {
   "cell_type": "code",
   "execution_count": 78,
   "id": "3b47ad7e-4e06-4a7a-b4f5-750a7c45a78d",
   "metadata": {},
   "outputs": [
    {
     "name": "stdout",
     "output_type": "stream",
     "text": [
      "i work at ineuron\n"
     ]
    }
   ],
   "source": [
    "emp.info()"
   ]
  },
  {
   "cell_type": "code",
   "execution_count": null,
   "id": "e2dc9fa9-5068-419f-894f-80b99c594437",
   "metadata": {},
   "outputs": [],
   "source": [
    "when you intialize a child class in python you can  call super().__init__() method\n",
    "this initilize the parent class objcet into child class"
   ]
  },
  {
   "cell_type": "code",
   "execution_count": 101,
   "id": "3014bfa3-1598-4afe-a6a3-d6ba340709e8",
   "metadata": {},
   "outputs": [],
   "source": [
    "class Parent:\n",
    "    def __init__(self,v1,v2):\n",
    "        self.v1=v1\n",
    "        self.v2=v2\n",
    "\n",
    "class child(Parent):\n",
    "    def __init__(self,v1,v2,v3):\n",
    "        super().__init__(v1,v2)\n",
    "        self.v3=v3\n",
    "        \n",
    "        "
   ]
  },
  {
   "cell_type": "code",
   "execution_count": 102,
   "id": "b983bee8-2f87-48c9-a735-e1e5ed1c85f4",
   "metadata": {},
   "outputs": [],
   "source": [
    "c1=child(2,3,4)"
   ]
  },
  {
   "cell_type": "code",
   "execution_count": 103,
   "id": "dc72533a-9ffe-40b3-bf47-6e13455fd313",
   "metadata": {},
   "outputs": [
    {
     "data": {
      "text/plain": [
       "4"
      ]
     },
     "execution_count": 103,
     "metadata": {},
     "output_type": "execute_result"
    }
   ],
   "source": [
    "c1.v3"
   ]
  },
  {
   "cell_type": "code",
   "execution_count": null,
   "id": "6c7ca777-600b-4e43-89c8-bf3419782e45",
   "metadata": {},
   "outputs": [],
   "source": [
    "class classname(parentclass):\n",
    "    def method(self,arg):\n",
    "        super([classname],[self]).method(args)"
   ]
  },
  {
   "cell_type": "code",
   "execution_count": 98,
   "id": "84a3ea3e-4949-4c98-b402-733993d332e6",
   "metadata": {},
   "outputs": [],
   "source": [
    "class Parent:\n",
    "    def __init__(self):\n",
    "        print(\"This is the parent class\")\n",
    "        \n",
    "        \n",
    "class Parent1:\n",
    "    def __init__(self):\n",
    "        print(\"This is the parent1 class\")\n",
    "        \n",
    "    def info(self):\n",
    "        print(\"info\")\n",
    "class Parent2:\n",
    "    def __init__(self):\n",
    "        print(\"This is the parent2 class\")\n",
    "        \n",
    "        \n",
    "class Child(Parent1,Parent2,Parent):\n",
    "    def hello():\n",
    "        print(\"hello\")\n",
    "    \n",
    "        super(Child,self).__init__()\n",
    "    "
   ]
  },
  {
   "cell_type": "code",
   "execution_count": 96,
   "id": "fd3a67bf-9a0c-4546-b160-8b2aaa0e1182",
   "metadata": {},
   "outputs": [
    {
     "name": "stdout",
     "output_type": "stream",
     "text": [
      "This is the parent1 class\n"
     ]
    }
   ],
   "source": [
    "t1=Child()"
   ]
  },
  {
   "cell_type": "code",
   "execution_count": null,
   "id": "0690a2e0-6a7c-420a-92c4-e21cfa72add6",
   "metadata": {},
   "outputs": [],
   "source": [
    "t1.hello"
   ]
  },
  {
   "cell_type": "code",
   "execution_count": null,
   "id": "8aad1d77-6152-4872-ab24-59e694ea078f",
   "metadata": {},
   "outputs": [],
   "source": [
    "t1."
   ]
  }
 ],
 "metadata": {
  "kernelspec": {
   "display_name": "Python 3 (ipykernel)",
   "language": "python",
   "name": "python3"
  },
  "language_info": {
   "codemirror_mode": {
    "name": "ipython",
    "version": 3
   },
   "file_extension": ".py",
   "mimetype": "text/x-python",
   "name": "python",
   "nbconvert_exporter": "python",
   "pygments_lexer": "ipython3",
   "version": "3.10.6"
  }
 },
 "nbformat": 4,
 "nbformat_minor": 5
}
