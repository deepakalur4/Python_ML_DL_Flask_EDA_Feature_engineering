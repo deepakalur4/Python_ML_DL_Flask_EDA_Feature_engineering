{
 "cells": [
  {
   "cell_type": "code",
   "execution_count": 1,
   "id": "fbe5829c-c3dd-4b70-884c-6c94bd5d2cda",
   "metadata": {},
   "outputs": [],
   "source": [
    "def test1():\n",
    "    a = 5+6\n",
    "    return a "
   ]
  },
  {
   "cell_type": "code",
   "execution_count": 2,
   "id": "42946d2c-882c-408d-9b45-9bb914f4f2d4",
   "metadata": {},
   "outputs": [
    {
     "data": {
      "text/plain": [
       "11"
      ]
     },
     "execution_count": 2,
     "metadata": {},
     "output_type": "execute_result"
    }
   ],
   "source": [
    "test1()"
   ]
  },
  {
   "cell_type": "code",
   "execution_count": 3,
   "id": "3784532a-bf53-4b23-bf1c-e3b0ed23eee2",
   "metadata": {},
   "outputs": [],
   "source": [
    "def test2(a,b):\n",
    "    return a+b"
   ]
  },
  {
   "cell_type": "code",
   "execution_count": 4,
   "id": "daa4601a-7a72-4b13-8ae1-8de459eeab69",
   "metadata": {},
   "outputs": [
    {
     "data": {
      "text/plain": [
       "3"
      ]
     },
     "execution_count": 4,
     "metadata": {},
     "output_type": "execute_result"
    }
   ],
   "source": [
    "test2(1,2)"
   ]
  },
  {
   "cell_type": "code",
   "execution_count": 5,
   "id": "21b47c44-d204-4ea1-a9e1-5381c1945d02",
   "metadata": {},
   "outputs": [
    {
     "data": {
      "text/plain": [
       "'sudhkumar'"
      ]
     },
     "execution_count": 5,
     "metadata": {},
     "output_type": "execute_result"
    }
   ],
   "source": [
    "test2(\"sudh\" , \"kumar\")"
   ]
  },
  {
   "cell_type": "code",
   "execution_count": 6,
   "id": "0a710be4-3a0a-480c-948c-3da1acb76310",
   "metadata": {},
   "outputs": [
    {
     "data": {
      "text/plain": [
       "'sdfsdfdsf'"
      ]
     },
     "execution_count": 6,
     "metadata": {},
     "output_type": "execute_result"
    }
   ],
   "source": [
    "test2(b = \"sdfdsf\" , a = \"sdf\")"
   ]
  },
  {
   "cell_type": "code",
   "execution_count": 7,
   "id": "041f6793-b180-43cd-bc99-ff760bc5ea53",
   "metadata": {},
   "outputs": [],
   "source": [
    "def test3(*args) : \n",
    "    return args"
   ]
  },
  {
   "cell_type": "code",
   "execution_count": 9,
   "id": "247de19f-b4ff-4a43-86d9-f7362b341d40",
   "metadata": {},
   "outputs": [
    {
     "data": {
      "text/plain": [
       "tuple"
      ]
     },
     "execution_count": 9,
     "metadata": {},
     "output_type": "execute_result"
    }
   ],
   "source": [
    "type(test3(1,2,3,4,\"sudh\"))"
   ]
  },
  {
   "cell_type": "code",
   "execution_count": 10,
   "id": "55370568-47a8-4b6b-9498-92c035b581ed",
   "metadata": {},
   "outputs": [
    {
     "data": {
      "text/plain": [
       "([1, 2, 3, 4, 5], 'sudh', 'ineuron', (5+7j), (4, 5, 6))"
      ]
     },
     "execution_count": 10,
     "metadata": {},
     "output_type": "execute_result"
    }
   ],
   "source": [
    "test3([1,2,3,4,5] , \"sudh\" , \"ineuron\" , 5+7j, (4,5,6))"
   ]
  },
  {
   "cell_type": "code",
   "execution_count": 11,
   "id": "30b18742-b761-4e06-a351-834a86977c3f",
   "metadata": {},
   "outputs": [],
   "source": [
    "def test4(*args):\n",
    "    return list(args)"
   ]
  },
  {
   "cell_type": "code",
   "execution_count": 12,
   "id": "dd5b1f2d-fb99-43ea-bb52-620748b12c20",
   "metadata": {},
   "outputs": [
    {
     "data": {
      "text/plain": [
       "['sudh', True, (8+7j), 34, 34.56]"
      ]
     },
     "execution_count": 12,
     "metadata": {},
     "output_type": "execute_result"
    }
   ],
   "source": [
    "test4(\"sudh\" , True , 8+7j , 34, 34.56)"
   ]
  },
  {
   "cell_type": "code",
   "execution_count": 15,
   "id": "0fb33bec-d35c-42bb-b7c3-c063deab475f",
   "metadata": {},
   "outputs": [],
   "source": [
    "def test5(*args) :\n",
    "        l = []\n",
    "        for i in args : \n",
    "            l.append(i)\n",
    "        return l\n",
    "        \n",
    "    "
   ]
  },
  {
   "cell_type": "code",
   "execution_count": 16,
   "id": "10ca7ae3-4ef9-4b9a-8c8a-34c90ab72fc1",
   "metadata": {},
   "outputs": [
    {
     "data": {
      "text/plain": [
       "[34, 56, 23, 87]"
      ]
     },
     "execution_count": 16,
     "metadata": {},
     "output_type": "execute_result"
    }
   ],
   "source": [
    "test5(34,56,23,87)"
   ]
  },
  {
   "cell_type": "code",
   "execution_count": 17,
   "id": "56faa0f7-49ba-4024-8a5d-136dc9ad9ffd",
   "metadata": {},
   "outputs": [],
   "source": [
    "def test6(*sudh) : \n",
    "    return list(sudh)\n",
    "    "
   ]
  },
  {
   "cell_type": "code",
   "execution_count": 18,
   "id": "1c11c11c-2516-44ca-bd45-9e9e48d0c759",
   "metadata": {},
   "outputs": [
    {
     "data": {
      "text/plain": [
       "[23, 45, 67, 67989]"
      ]
     },
     "execution_count": 18,
     "metadata": {},
     "output_type": "execute_result"
    }
   ],
   "source": [
    "test6(23,45,67,67989)"
   ]
  },
  {
   "cell_type": "code",
   "execution_count": 19,
   "id": "2b939e3a-3689-466c-8ad9-5b28b2734006",
   "metadata": {},
   "outputs": [],
   "source": [
    "l = [1,2,3,4,5,6]\n",
    "t = (4,5,6, 8+7j)\n",
    "s = {3,4,5,6 , 6 , 5,6,6,6,6,6}"
   ]
  },
  {
   "cell_type": "code",
   "execution_count": 20,
   "id": "860bf88b-61c0-4abe-ba5a-2e3f4796b872",
   "metadata": {},
   "outputs": [
    {
     "data": {
      "text/plain": [
       "[1, 2, 3, 4, 5, 6]"
      ]
     },
     "execution_count": 20,
     "metadata": {},
     "output_type": "execute_result"
    }
   ],
   "source": [
    "l"
   ]
  },
  {
   "cell_type": "code",
   "execution_count": 21,
   "id": "3417b828-49d4-4c4e-8b73-12948e07787f",
   "metadata": {},
   "outputs": [
    {
     "data": {
      "text/plain": [
       "{3, 4, 5, 6}"
      ]
     },
     "execution_count": 21,
     "metadata": {},
     "output_type": "execute_result"
    }
   ],
   "source": [
    "s"
   ]
  },
  {
   "cell_type": "code",
   "execution_count": 22,
   "id": "52983eaa-42e0-4d9b-b528-6969d9c6c2c8",
   "metadata": {},
   "outputs": [],
   "source": [
    "d = {}"
   ]
  },
  {
   "cell_type": "code",
   "execution_count": 23,
   "id": "888fcce6-c9ce-4f66-9233-45286532de83",
   "metadata": {},
   "outputs": [
    {
     "data": {
      "text/plain": [
       "dict"
      ]
     },
     "execution_count": 23,
     "metadata": {},
     "output_type": "execute_result"
    }
   ],
   "source": [
    "type(d)"
   ]
  },
  {
   "cell_type": "code",
   "execution_count": 24,
   "id": "cb25eff5-d8fc-4080-8e21-47af221663b5",
   "metadata": {},
   "outputs": [],
   "source": [
    "d1 = {2,3,4,5}"
   ]
  },
  {
   "cell_type": "code",
   "execution_count": 25,
   "id": "f8e2cc93-5561-4e80-9def-39faf1700d4d",
   "metadata": {},
   "outputs": [
    {
     "data": {
      "text/plain": [
       "set"
      ]
     },
     "execution_count": 25,
     "metadata": {},
     "output_type": "execute_result"
    }
   ],
   "source": [
    "type(d1)"
   ]
  },
  {
   "cell_type": "code",
   "execution_count": 28,
   "id": "f102bfc3-98c0-49ac-93a4-bf58288cc90f",
   "metadata": {},
   "outputs": [],
   "source": [
    "d2 = {\"key1\" : \"sudh\" , \"key2\" : [2,3,4,5]}"
   ]
  },
  {
   "cell_type": "code",
   "execution_count": 27,
   "id": "00ff2fb6-dc79-4a8f-a6cd-d88ed75e269e",
   "metadata": {},
   "outputs": [
    {
     "data": {
      "text/plain": [
       "[1, 2, 3, 4, 5, 6]"
      ]
     },
     "execution_count": 27,
     "metadata": {},
     "output_type": "execute_result"
    }
   ],
   "source": [
    "l "
   ]
  },
  {
   "cell_type": "code",
   "execution_count": 29,
   "id": "ca0c6e04-2dee-448c-9a5f-b00341d67b3c",
   "metadata": {},
   "outputs": [
    {
     "data": {
      "text/plain": [
       "{'key1': 'sudh', 'key2': [2, 3, 4, 5]}"
      ]
     },
     "execution_count": 29,
     "metadata": {},
     "output_type": "execute_result"
    }
   ],
   "source": [
    "d2"
   ]
  },
  {
   "cell_type": "code",
   "execution_count": 30,
   "id": "6fb4fa42-32e1-496b-843c-aeeece52717f",
   "metadata": {},
   "outputs": [],
   "source": [
    "d3 = { 234324 : \"sudh\"}"
   ]
  },
  {
   "cell_type": "code",
   "execution_count": 31,
   "id": "33bd53c8-7af8-407e-ad81-a8efe6ab491f",
   "metadata": {},
   "outputs": [
    {
     "data": {
      "text/plain": [
       "{234324: 'sudh'}"
      ]
     },
     "execution_count": 31,
     "metadata": {},
     "output_type": "execute_result"
    }
   ],
   "source": [
    "d3"
   ]
  },
  {
   "cell_type": "code",
   "execution_count": 34,
   "id": "94e74ef7-c6e0-4b4d-bc51-2027e71d2f84",
   "metadata": {},
   "outputs": [],
   "source": [
    "d4 = { \"$sudh\" : \"sudh\"}"
   ]
  },
  {
   "cell_type": "code",
   "execution_count": 36,
   "id": "80a1b5b1-b80a-4eaf-b4f7-1036bfdf8aae",
   "metadata": {},
   "outputs": [
    {
     "ename": "TypeError",
     "evalue": "unhashable type: 'list'",
     "output_type": "error",
     "traceback": [
      "\u001b[0;31m---------------------------------------------------------------------------\u001b[0m",
      "\u001b[0;31mTypeError\u001b[0m                                 Traceback (most recent call last)",
      "Cell \u001b[0;32mIn [36], line 1\u001b[0m\n\u001b[0;32m----> 1\u001b[0m d5 \u001b[38;5;241m=\u001b[39m {[\u001b[38;5;241m1\u001b[39m,\u001b[38;5;241m2\u001b[39m,\u001b[38;5;241m3\u001b[39m,\u001b[38;5;241m4\u001b[39m] : \u001b[38;5;124m\"\u001b[39m\u001b[38;5;124msudh\u001b[39m\u001b[38;5;124m\"\u001b[39m}\n",
      "\u001b[0;31mTypeError\u001b[0m: unhashable type: 'list'"
     ]
    }
   ],
   "source": [
    "d5 = {[1,2,3,4] : \"sudh\"}"
   ]
  },
  {
   "cell_type": "code",
   "execution_count": 37,
   "id": "573dd6a8-9906-43be-8a7b-d294dd3aff1e",
   "metadata": {},
   "outputs": [],
   "source": [
    "d6 = {(1,2,3,4,5) : \"sudh\"}"
   ]
  },
  {
   "cell_type": "code",
   "execution_count": 43,
   "id": "a2991c1c-c221-4468-92a2-45a910c5b0e3",
   "metadata": {},
   "outputs": [],
   "source": [
    "d7 = { \"name\" : \"sudhanshu\" , \"org\" : \"ineuron\" , \"mail id \" : \"sudhanshu@ineuron.ai\" , \"name\" : \"sudh\" , \"name1\" : \"sudh\"}"
   ]
  },
  {
   "cell_type": "code",
   "execution_count": 44,
   "id": "0a7380e1-f6ac-4098-8df7-56aa3cedc1e0",
   "metadata": {},
   "outputs": [
    {
     "data": {
      "text/plain": [
       "{'name': 'sudh',\n",
       " 'org': 'ineuron',\n",
       " 'mail id ': 'sudhanshu@ineuron.ai',\n",
       " 'name1': 'sudh'}"
      ]
     },
     "execution_count": 44,
     "metadata": {},
     "output_type": "execute_result"
    }
   ],
   "source": [
    "d7"
   ]
  },
  {
   "cell_type": "code",
   "execution_count": 46,
   "id": "00073933-c63e-4cba-a899-7aef58168454",
   "metadata": {},
   "outputs": [],
   "source": [
    "d8 = {\"name\": \"sudh\" , \"mentor\" : {\"fsds\": \"imran\" , \"fsda\":\"anand\" , \"bigdata\" : \"shashank\" }}"
   ]
  },
  {
   "cell_type": "code",
   "execution_count": 47,
   "id": "ff2caa88-53d5-48ae-b835-abc994dd8a9b",
   "metadata": {},
   "outputs": [
    {
     "data": {
      "text/plain": [
       "{'name': 'sudh',\n",
       " 'mentor': {'fsds': 'imran', 'fsda': 'anand', 'bigdata': 'shashank'}}"
      ]
     },
     "execution_count": 47,
     "metadata": {},
     "output_type": "execute_result"
    }
   ],
   "source": [
    "d8"
   ]
  },
  {
   "cell_type": "code",
   "execution_count": 48,
   "id": "aec10b89-92b8-43c9-b9ea-fc5e9106e0ac",
   "metadata": {},
   "outputs": [
    {
     "data": {
      "text/plain": [
       "{'name': 'sudh',\n",
       " 'org': 'ineuron',\n",
       " 'mail id ': 'sudhanshu@ineuron.ai',\n",
       " 'name1': 'sudh'}"
      ]
     },
     "execution_count": 48,
     "metadata": {},
     "output_type": "execute_result"
    }
   ],
   "source": [
    "d7"
   ]
  },
  {
   "cell_type": "code",
   "execution_count": 49,
   "id": "c9133120-a6f5-4461-8757-4b86183ab1d4",
   "metadata": {},
   "outputs": [
    {
     "data": {
      "text/plain": [
       "[1, 2, 3, 4, 5, 6]"
      ]
     },
     "execution_count": 49,
     "metadata": {},
     "output_type": "execute_result"
    }
   ],
   "source": [
    "l"
   ]
  },
  {
   "cell_type": "code",
   "execution_count": 50,
   "id": "87071d66-322d-4d1c-9c72-598696c7df96",
   "metadata": {},
   "outputs": [
    {
     "data": {
      "text/plain": [
       "2"
      ]
     },
     "execution_count": 50,
     "metadata": {},
     "output_type": "execute_result"
    }
   ],
   "source": [
    "l[1]"
   ]
  },
  {
   "cell_type": "code",
   "execution_count": 51,
   "id": "1b8b23e4-5c39-4759-8d54-42fb4968593a",
   "metadata": {},
   "outputs": [
    {
     "data": {
      "text/plain": [
       "'sudhanshu@ineuron.ai'"
      ]
     },
     "execution_count": 51,
     "metadata": {},
     "output_type": "execute_result"
    }
   ],
   "source": [
    "d7['mail id ']"
   ]
  },
  {
   "cell_type": "code",
   "execution_count": 52,
   "id": "922934af-640a-4681-9674-0f6365895560",
   "metadata": {},
   "outputs": [
    {
     "ename": "KeyError",
     "evalue": "2",
     "output_type": "error",
     "traceback": [
      "\u001b[0;31m---------------------------------------------------------------------------\u001b[0m",
      "\u001b[0;31mKeyError\u001b[0m                                  Traceback (most recent call last)",
      "Cell \u001b[0;32mIn [52], line 1\u001b[0m\n\u001b[0;32m----> 1\u001b[0m \u001b[43md7\u001b[49m\u001b[43m[\u001b[49m\u001b[38;5;241;43m2\u001b[39;49m\u001b[43m]\u001b[49m\n",
      "\u001b[0;31mKeyError\u001b[0m: 2"
     ]
    }
   ],
   "source": [
    "d7[2]"
   ]
  },
  {
   "cell_type": "code",
   "execution_count": 53,
   "id": "0665b20d-ebda-4797-80bd-257e3ffdbe63",
   "metadata": {},
   "outputs": [
    {
     "data": {
      "text/plain": [
       "{'name': 'sudh',\n",
       " 'org': 'ineuron',\n",
       " 'mail id ': 'sudhanshu@ineuron.ai',\n",
       " 'name1': 'sudh'}"
      ]
     },
     "execution_count": 53,
     "metadata": {},
     "output_type": "execute_result"
    }
   ],
   "source": [
    "d7"
   ]
  },
  {
   "cell_type": "code",
   "execution_count": 54,
   "id": "7c8eb678-8f1a-4511-90a8-0929ad944b22",
   "metadata": {},
   "outputs": [
    {
     "data": {
      "text/plain": [
       "{'name': 'sudh',\n",
       " 'mentor': {'fsds': 'imran', 'fsda': 'anand', 'bigdata': 'shashank'}}"
      ]
     },
     "execution_count": 54,
     "metadata": {},
     "output_type": "execute_result"
    }
   ],
   "source": [
    "d8"
   ]
  },
  {
   "cell_type": "code",
   "execution_count": 56,
   "id": "e41096c8-48f8-4f58-9f0d-2ae5682506ff",
   "metadata": {},
   "outputs": [
    {
     "data": {
      "text/plain": [
       "'shashank'"
      ]
     },
     "execution_count": 56,
     "metadata": {},
     "output_type": "execute_result"
    }
   ],
   "source": [
    "d8['mentor']['bigdata']"
   ]
  },
  {
   "cell_type": "code",
   "execution_count": 57,
   "id": "30e73b82-229c-44b0-a436-583eabd3e419",
   "metadata": {},
   "outputs": [
    {
     "data": {
      "text/plain": [
       "{'name': 'sudh',\n",
       " 'org': 'ineuron',\n",
       " 'mail id ': 'sudhanshu@ineuron.ai',\n",
       " 'name1': 'sudh'}"
      ]
     },
     "execution_count": 57,
     "metadata": {},
     "output_type": "execute_result"
    }
   ],
   "source": [
    "d7"
   ]
  },
  {
   "cell_type": "code",
   "execution_count": 59,
   "id": "d215cb63-3b7e-48c7-ad86-1fb561ee63af",
   "metadata": {},
   "outputs": [
    {
     "data": {
      "text/plain": [
       "['name', 'org', 'mail id ', 'name1']"
      ]
     },
     "execution_count": 59,
     "metadata": {},
     "output_type": "execute_result"
    }
   ],
   "source": [
    "list(d7.keys())"
   ]
  },
  {
   "cell_type": "code",
   "execution_count": 60,
   "id": "e6068f05-60b6-47bf-983e-6d79f8985584",
   "metadata": {},
   "outputs": [
    {
     "data": {
      "text/plain": [
       "dict_values(['sudh', 'ineuron', 'sudhanshu@ineuron.ai', 'sudh'])"
      ]
     },
     "execution_count": 60,
     "metadata": {},
     "output_type": "execute_result"
    }
   ],
   "source": [
    "d7.values()"
   ]
  },
  {
   "cell_type": "code",
   "execution_count": 61,
   "id": "8fb3f213-668a-4b8c-a277-729a4f4a04be",
   "metadata": {},
   "outputs": [
    {
     "data": {
      "text/plain": [
       "dict_items([('name', 'sudh'), ('org', 'ineuron'), ('mail id ', 'sudhanshu@ineuron.ai'), ('name1', 'sudh')])"
      ]
     },
     "execution_count": 61,
     "metadata": {},
     "output_type": "execute_result"
    }
   ],
   "source": [
    "d7.items()"
   ]
  },
  {
   "cell_type": "code",
   "execution_count": 62,
   "id": "ed60d2e6-c3e7-498c-a0fa-8b43bdaae545",
   "metadata": {},
   "outputs": [
    {
     "data": {
      "text/plain": [
       "{'name': 'sudh',\n",
       " 'mentor': {'fsds': 'imran', 'fsda': 'anand', 'bigdata': 'shashank'}}"
      ]
     },
     "execution_count": 62,
     "metadata": {},
     "output_type": "execute_result"
    }
   ],
   "source": [
    "d8"
   ]
  },
  {
   "cell_type": "code",
   "execution_count": 65,
   "id": "2554559c-8ced-4e23-b61f-149effd4605e",
   "metadata": {},
   "outputs": [
    {
     "data": {
      "text/plain": [
       "['imran', 'anand', 'shashank']"
      ]
     },
     "execution_count": 65,
     "metadata": {},
     "output_type": "execute_result"
    }
   ],
   "source": [
    "list(d8['mentor'].values())"
   ]
  },
  {
   "cell_type": "code",
   "execution_count": 70,
   "id": "84a262a5-6614-46fb-852a-7a9f8e558a67",
   "metadata": {},
   "outputs": [],
   "source": [
    "l = []\n",
    "for i in d8.keys():\n",
    "    if type(d8[i])  == dict : \n",
    "        l.append(list(d8[i].values()))\n",
    "        "
   ]
  },
  {
   "cell_type": "code",
   "execution_count": 71,
   "id": "65b14041-d72e-43fc-be8b-f0a40bafb187",
   "metadata": {},
   "outputs": [
    {
     "data": {
      "text/plain": [
       "[['imran', 'anand', 'shashank']]"
      ]
     },
     "execution_count": 71,
     "metadata": {},
     "output_type": "execute_result"
    }
   ],
   "source": [
    "l"
   ]
  },
  {
   "cell_type": "code",
   "execution_count": 73,
   "id": "cdd5f903-f748-4ad7-8dec-770ffbc1aa98",
   "metadata": {},
   "outputs": [],
   "source": [
    "d9 = {'name': 'sudh','mentor': {'fsds': 'imran', 'fsda': 'anand', 'bigdata': 'shashank'} , \"mail_id\" : {\"imran\" : \"imran@ineiuron.ai\" , \"anand\" : \"anand@ineuron.ai\" , \"shashank\" : \"shashank@ineuron.ai\"}}"
   ]
  },
  {
   "cell_type": "code",
   "execution_count": 74,
   "id": "d686402b-f891-40cd-a556-8e1f352a8679",
   "metadata": {},
   "outputs": [
    {
     "data": {
      "text/plain": [
       "{'name': 'sudh',\n",
       " 'mentor': {'fsds': 'imran', 'fsda': 'anand', 'bigdata': 'shashank'},\n",
       " 'mail_id': {'imran': 'imran@ineiuron.ai',\n",
       "  'anand': 'anand@ineuron.ai',\n",
       "  'shashank': 'shashank@ineuron.ai'}}"
      ]
     },
     "execution_count": 74,
     "metadata": {},
     "output_type": "execute_result"
    }
   ],
   "source": [
    "d9"
   ]
  },
  {
   "cell_type": "code",
   "execution_count": 75,
   "id": "0c492fca-c761-4e8c-bb4e-d58dbfca2753",
   "metadata": {},
   "outputs": [],
   "source": [
    "l = []\n",
    "for i in d9.keys():\n",
    "    if type(d9[i])  == dict : \n",
    "        l.append(list(d9[i].values()))"
   ]
  },
  {
   "cell_type": "code",
   "execution_count": 76,
   "id": "732f4675-5f2c-4130-9147-27dedf2a8726",
   "metadata": {},
   "outputs": [
    {
     "data": {
      "text/plain": [
       "[['imran', 'anand', 'shashank'],\n",
       " ['imran@ineiuron.ai', 'anand@ineuron.ai', 'shashank@ineuron.ai']]"
      ]
     },
     "execution_count": 76,
     "metadata": {},
     "output_type": "execute_result"
    }
   ],
   "source": [
    "l"
   ]
  },
  {
   "cell_type": "code",
   "execution_count": 77,
   "id": "fdfc6df6-58cc-4960-b1dc-255716e8e4eb",
   "metadata": {},
   "outputs": [],
   "source": [
    "def test9(d): \n",
    "        l = []\n",
    "        for i in d.keys():\n",
    "            if type(d[i])  == dict : \n",
    "                l.append(list(d[i].values()))\n",
    "        return l "
   ]
  },
  {
   "cell_type": "code",
   "execution_count": 79,
   "id": "a37e77a8-7ef5-45f2-8d10-9ba6c15ba56f",
   "metadata": {},
   "outputs": [
    {
     "data": {
      "text/plain": [
       "[['imran', 'anand', 'shashank']]"
      ]
     },
     "execution_count": 79,
     "metadata": {},
     "output_type": "execute_result"
    }
   ],
   "source": [
    "test9(d8)"
   ]
  },
  {
   "cell_type": "code",
   "execution_count": 80,
   "id": "97a6b1e3-fbb1-4f07-a606-88d272caa7eb",
   "metadata": {},
   "outputs": [
    {
     "data": {
      "text/plain": [
       "[['imran', 'anand', 'shashank'],\n",
       " ['imran@ineiuron.ai', 'anand@ineuron.ai', 'shashank@ineuron.ai']]"
      ]
     },
     "execution_count": 80,
     "metadata": {},
     "output_type": "execute_result"
    }
   ],
   "source": [
    "test9(d9)"
   ]
  },
  {
   "cell_type": "code",
   "execution_count": 81,
   "id": "8e307ed5-bd7e-4a4f-ae62-ad02a9b421b5",
   "metadata": {},
   "outputs": [
    {
     "data": {
      "text/plain": [
       "{'name': 'sudh',\n",
       " 'mentor': {'fsds': 'imran', 'fsda': 'anand', 'bigdata': 'shashank'}}"
      ]
     },
     "execution_count": 81,
     "metadata": {},
     "output_type": "execute_result"
    }
   ],
   "source": [
    "d8"
   ]
  },
  {
   "cell_type": "code",
   "execution_count": 82,
   "id": "f8b51620-d99d-47de-921b-71c080da56e1",
   "metadata": {},
   "outputs": [],
   "source": [
    "d8[\"mobilenumber\"] = (2424,345345,345345)"
   ]
  },
  {
   "cell_type": "code",
   "execution_count": 83,
   "id": "6d22e263-791e-4514-80fd-d1c097f5b483",
   "metadata": {},
   "outputs": [
    {
     "data": {
      "text/plain": [
       "{'name': 'sudh',\n",
       " 'mentor': {'fsds': 'imran', 'fsda': 'anand', 'bigdata': 'shashank'},\n",
       " 'mobilenumber': (2424, 345345, 345345)}"
      ]
     },
     "execution_count": 83,
     "metadata": {},
     "output_type": "execute_result"
    }
   ],
   "source": [
    "d8"
   ]
  },
  {
   "cell_type": "code",
   "execution_count": 85,
   "id": "1b21e461-adfa-4e10-ab1e-3d33b6d89671",
   "metadata": {},
   "outputs": [],
   "source": [
    "d8[\"name\"] = \"sudhanshu kumar\""
   ]
  },
  {
   "cell_type": "code",
   "execution_count": 86,
   "id": "16d9820a-9fd6-4ec4-a445-33c6dc9621dd",
   "metadata": {},
   "outputs": [
    {
     "data": {
      "text/plain": [
       "{'name': 'sudhanshu kumar',\n",
       " 'mentor': {'fsds': 'imran', 'fsda': 'anand', 'bigdata': 'shashank'},\n",
       " 'mobilenumber': (2424, 345345, 345345)}"
      ]
     },
     "execution_count": 86,
     "metadata": {},
     "output_type": "execute_result"
    }
   ],
   "source": [
    "d8"
   ]
  },
  {
   "cell_type": "code",
   "execution_count": 87,
   "id": "cb362dc2-00f3-483f-a3db-d6856f4705ca",
   "metadata": {},
   "outputs": [
    {
     "data": {
      "text/plain": [
       "{'name': 'sudh',\n",
       " 'org': 'ineuron',\n",
       " 'mail id ': 'sudhanshu@ineuron.ai',\n",
       " 'name1': 'sudh'}"
      ]
     },
     "execution_count": 87,
     "metadata": {},
     "output_type": "execute_result"
    }
   ],
   "source": [
    "d7"
   ]
  },
  {
   "cell_type": "code",
   "execution_count": 88,
   "id": "86ec86f0-28e0-42f5-9607-ae261487d675",
   "metadata": {},
   "outputs": [],
   "source": [
    "del d7"
   ]
  },
  {
   "cell_type": "code",
   "execution_count": 89,
   "id": "afa7da66-25f6-4ddd-9274-d62070b3e6c8",
   "metadata": {},
   "outputs": [
    {
     "ename": "NameError",
     "evalue": "name 'd7' is not defined",
     "output_type": "error",
     "traceback": [
      "\u001b[0;31m---------------------------------------------------------------------------\u001b[0m",
      "\u001b[0;31mNameError\u001b[0m                                 Traceback (most recent call last)",
      "Cell \u001b[0;32mIn [89], line 1\u001b[0m\n\u001b[0;32m----> 1\u001b[0m \u001b[43md7\u001b[49m\n",
      "\u001b[0;31mNameError\u001b[0m: name 'd7' is not defined"
     ]
    }
   ],
   "source": [
    "d7"
   ]
  },
  {
   "cell_type": "code",
   "execution_count": 90,
   "id": "211600dc-1bb9-466a-9039-3122b9573818",
   "metadata": {},
   "outputs": [
    {
     "data": {
      "text/plain": [
       "{'name': 'sudhanshu kumar',\n",
       " 'mentor': {'fsds': 'imran', 'fsda': 'anand', 'bigdata': 'shashank'},\n",
       " 'mobilenumber': (2424, 345345, 345345)}"
      ]
     },
     "execution_count": 90,
     "metadata": {},
     "output_type": "execute_result"
    }
   ],
   "source": [
    "d8"
   ]
  },
  {
   "cell_type": "code",
   "execution_count": 91,
   "id": "dd461ce7-3967-427c-9086-537b57369236",
   "metadata": {},
   "outputs": [],
   "source": [
    "del d8['name']"
   ]
  },
  {
   "cell_type": "code",
   "execution_count": 92,
   "id": "221f3fed-cf51-4fd7-aa34-230c8277c278",
   "metadata": {},
   "outputs": [
    {
     "data": {
      "text/plain": [
       "{'mentor': {'fsds': 'imran', 'fsda': 'anand', 'bigdata': 'shashank'},\n",
       " 'mobilenumber': (2424, 345345, 345345)}"
      ]
     },
     "execution_count": 92,
     "metadata": {},
     "output_type": "execute_result"
    }
   ],
   "source": [
    "d8"
   ]
  },
  {
   "cell_type": "code",
   "execution_count": 93,
   "id": "6629ce21-4a43-4721-8e9e-6d1d8c285ad5",
   "metadata": {},
   "outputs": [
    {
     "data": {
      "text/plain": [
       "{'fsds': 'imran', 'fsda': 'anand', 'bigdata': 'shashank'}"
      ]
     },
     "execution_count": 93,
     "metadata": {},
     "output_type": "execute_result"
    }
   ],
   "source": [
    "d8.pop('mentor')"
   ]
  },
  {
   "cell_type": "code",
   "execution_count": 94,
   "id": "98d75c58-a7a1-4f2c-91f6-52af60163e5f",
   "metadata": {},
   "outputs": [
    {
     "data": {
      "text/plain": [
       "{'mobilenumber': (2424, 345345, 345345)}"
      ]
     },
     "execution_count": 94,
     "metadata": {},
     "output_type": "execute_result"
    }
   ],
   "source": [
    "d8"
   ]
  },
  {
   "cell_type": "code",
   "execution_count": 95,
   "id": "6526dd2c-db48-48c4-9877-67d5e82fd802",
   "metadata": {},
   "outputs": [
    {
     "data": {
      "text/plain": [
       "{'mobilenumber': (2424, 345345, 345345)}"
      ]
     },
     "execution_count": 95,
     "metadata": {},
     "output_type": "execute_result"
    }
   ],
   "source": [
    "d8"
   ]
  },
  {
   "cell_type": "code",
   "execution_count": 96,
   "id": "4f4af349-e9a7-4d4f-8ee6-66d93419fd73",
   "metadata": {},
   "outputs": [],
   "source": [
    "d8[\"name\"] = \"sudhanshu\""
   ]
  },
  {
   "cell_type": "code",
   "execution_count": 97,
   "id": "2890dfd3-c451-438c-93c0-d8121d8fb2b7",
   "metadata": {},
   "outputs": [
    {
     "data": {
      "text/plain": [
       "{'mobilenumber': (2424, 345345, 345345), 'name': 'sudhanshu'}"
      ]
     },
     "execution_count": 97,
     "metadata": {},
     "output_type": "execute_result"
    }
   ],
   "source": [
    "d8"
   ]
  },
  {
   "cell_type": "code",
   "execution_count": 98,
   "id": "826eb5e6-e890-4f9c-bc4a-cf7af3bdfd97",
   "metadata": {},
   "outputs": [],
   "source": [
    "def test10(**kwargs) :\n",
    "    return kwargs\n",
    "    "
   ]
  },
  {
   "cell_type": "code",
   "execution_count": 101,
   "id": "765c312f-1c37-4095-a9ee-bebdeb9b7066",
   "metadata": {},
   "outputs": [
    {
     "data": {
      "text/plain": [
       "{'a': 4, 'b': 5, 'c': 6, 'sudh': [12, 3, 3, 4, 5]}"
      ]
     },
     "execution_count": 101,
     "metadata": {},
     "output_type": "execute_result"
    }
   ],
   "source": [
    "test10(a = 4,b = 5,c = 6,sudh = [12,3,3,4,5])"
   ]
  },
  {
   "cell_type": "code",
   "execution_count": 102,
   "id": "a2f23552-5b69-48e5-b945-dbd7f99fdb4b",
   "metadata": {},
   "outputs": [],
   "source": [
    "def test11(**sudh) : \n",
    "    return sudh"
   ]
  },
  {
   "cell_type": "code",
   "execution_count": 107,
   "id": "c7c23b1e-3f0d-4e4e-88c0-7ffb3f36d84a",
   "metadata": {},
   "outputs": [
    {
     "data": {
      "text/plain": [
       "{'b': 'sudh', 'm': 23423}"
      ]
     },
     "execution_count": 107,
     "metadata": {},
     "output_type": "execute_result"
    }
   ],
   "source": [
    "test11(b  = \"sudh\" , m = 23423 )"
   ]
  },
  {
   "cell_type": "code",
   "execution_count": 108,
   "id": "2fdef8fb-fd25-4a64-83d6-4c2e4c8c6e26",
   "metadata": {},
   "outputs": [],
   "source": [
    "def test12(a) : \n",
    "    return a \n",
    "\n",
    "def test13(b):\n",
    "    return b \n",
    "\n",
    "def test14(func):\n",
    "    return func(\"sudh\")"
   ]
  },
  {
   "cell_type": "code",
   "execution_count": 109,
   "id": "c9779cfd-4f5b-4a56-af31-8d8f0bf08a11",
   "metadata": {},
   "outputs": [
    {
     "data": {
      "text/plain": [
       "'sudh'"
      ]
     },
     "execution_count": 109,
     "metadata": {},
     "output_type": "execute_result"
    }
   ],
   "source": [
    "test14(test12)"
   ]
  },
  {
   "cell_type": "code",
   "execution_count": 110,
   "id": "8e686d77-a439-465a-b486-201316368f6c",
   "metadata": {},
   "outputs": [
    {
     "data": {
      "text/plain": [
       "'sudh'"
      ]
     },
     "execution_count": 110,
     "metadata": {},
     "output_type": "execute_result"
    }
   ],
   "source": [
    "test14(test13)"
   ]
  },
  {
   "cell_type": "code",
   "execution_count": 114,
   "id": "1d62c878-02ef-4930-88d8-9af6ef798f67",
   "metadata": {},
   "outputs": [],
   "source": [
    "def test12(a) : \n",
    "    return a \n",
    "\n",
    "def test13(*args):\n",
    "    return \"sudh\" \n",
    "\n",
    "def test14(func):\n",
    "    return func(\"sudh\")"
   ]
  },
  {
   "cell_type": "code",
   "execution_count": 115,
   "id": "4d1f5238-9528-4751-8eba-065ccef4e5e7",
   "metadata": {},
   "outputs": [
    {
     "data": {
      "text/plain": [
       "'sudh'"
      ]
     },
     "execution_count": 115,
     "metadata": {},
     "output_type": "execute_result"
    }
   ],
   "source": [
    "test14(test12)"
   ]
  },
  {
   "cell_type": "code",
   "execution_count": 116,
   "id": "bda14b8d-d7ae-484e-9f05-1ab8a244e8cf",
   "metadata": {},
   "outputs": [
    {
     "data": {
      "text/plain": [
       "'sudh'"
      ]
     },
     "execution_count": 116,
     "metadata": {},
     "output_type": "execute_result"
    }
   ],
   "source": [
    "test14(test13)"
   ]
  },
  {
   "cell_type": "code",
   "execution_count": 127,
   "id": "b5e860e8-2f59-49cb-a1e7-9df8c9d59217",
   "metadata": {},
   "outputs": [],
   "source": [
    "def test15(a) : \n",
    "    print(\"this is my test15\") \n",
    "    \n",
    "    def test16() :\n",
    "        print(\"thius is my test16\") \n",
    "    \n",
    "    def test17():\n",
    "        print(\"this is my test17\")\n",
    "    \n",
    "    if a == \"sudh\":\n",
    "        return test16()\n",
    "    elif a == \"kumar\" :\n",
    "        return test17()"
   ]
  },
  {
   "cell_type": "code",
   "execution_count": 130,
   "id": "5533983f-5e23-42e9-9e52-acb079e7a72c",
   "metadata": {},
   "outputs": [
    {
     "name": "stdout",
     "output_type": "stream",
     "text": [
      "this is my test15\n",
      "thius is my test16\n"
     ]
    }
   ],
   "source": [
    "test15(\"sudh\")"
   ]
  },
  {
   "cell_type": "code",
   "execution_count": 131,
   "id": "e7b39e90-35ab-493f-908b-04ccc0e85129",
   "metadata": {},
   "outputs": [
    {
     "name": "stdout",
     "output_type": "stream",
     "text": [
      "this is my test15\n",
      "this is my test17\n"
     ]
    }
   ],
   "source": [
    "test15(\"kumar\")"
   ]
  },
  {
   "cell_type": "code",
   "execution_count": 135,
   "id": "ade443aa-e3fa-4118-a4c2-1212cad08641",
   "metadata": {},
   "outputs": [],
   "source": [
    "def test13(*args):\n",
    "    print(\"this is a return of test13\")"
   ]
  },
  {
   "cell_type": "code",
   "execution_count": 140,
   "id": "556c6943-671f-459b-9c84-877f2e4f5115",
   "metadata": {},
   "outputs": [],
   "source": [
    "def test18(func) : \n",
    "    def test19():\n",
    "        print(\"i am inside test19\") \n",
    "    return test19()"
   ]
  },
  {
   "cell_type": "code",
   "execution_count": 139,
   "id": "59d8966d-dfcb-418e-b463-e797f572a62b",
   "metadata": {},
   "outputs": [
    {
     "name": "stdout",
     "output_type": "stream",
     "text": [
      "i am inside test19\n"
     ]
    }
   ],
   "source": [
    "test18(test13)"
   ]
  },
  {
   "cell_type": "code",
   "execution_count": 145,
   "id": "2225199f-9894-4a78-834a-db0488abca67",
   "metadata": {},
   "outputs": [],
   "source": [
    "def test18(func) : \n",
    "    def test19():\n",
    "        print(\"i am inside test19\") \n",
    "        func()\n",
    "    return test19()"
   ]
  },
  {
   "cell_type": "code",
   "execution_count": 146,
   "id": "2d3a9581-ae5b-4f6a-8df0-8a9890798e7b",
   "metadata": {},
   "outputs": [
    {
     "name": "stdout",
     "output_type": "stream",
     "text": [
      "i am inside test19\n",
      "this is a return of test13\n"
     ]
    }
   ],
   "source": [
    "test18(test13)"
   ]
  },
  {
   "cell_type": "code",
   "execution_count": 175,
   "id": "e709051b-b1ab-42d6-8a49-35dc6997dcb9",
   "metadata": {},
   "outputs": [],
   "source": [
    "import os \n",
    "def test18(func) : \n",
    "    def test19():\n",
    "        print(\"i am inside test19 and this will behave a decorator to any function that i am going to call \")\n",
    "        print(os.getcwd())\n",
    "        func()\n",
    "    return test19"
   ]
  },
  {
   "cell_type": "code",
   "execution_count": 176,
   "id": "6351e0d5-81d3-455e-bada-1a2a28504bf7",
   "metadata": {},
   "outputs": [],
   "source": [
    "@test18\n",
    "def test20():\n",
    "    print(\"this is test20\")"
   ]
  },
  {
   "cell_type": "code",
   "execution_count": 177,
   "id": "9c78300b-495c-4c12-8094-741549a69916",
   "metadata": {},
   "outputs": [
    {
     "name": "stdout",
     "output_type": "stream",
     "text": [
      "i am inside test19 and this will behave a decorator to any function that i am going to call \n",
      "/home/jovyan/work\n",
      "this is test20\n"
     ]
    }
   ],
   "source": [
    "test20()"
   ]
  },
  {
   "cell_type": "code",
   "execution_count": 150,
   "id": "c5e3d9e1-c06a-4180-aaff-74d8870efa4a",
   "metadata": {},
   "outputs": [
    {
     "name": "stdout",
     "output_type": "stream",
     "text": [
      "i am inside test19 and this will behave a decorator to any function that i am going to call \n",
      "this is my test20\n"
     ]
    }
   ],
   "source": [
    "test18(test20)"
   ]
  },
  {
   "cell_type": "code",
   "execution_count": 168,
   "id": "947813b7-58af-4501-893b-b8c0fd6b2e41",
   "metadata": {},
   "outputs": [
    {
     "data": {
      "text/plain": [
       "'/home/jovyan/work'"
      ]
     },
     "execution_count": 168,
     "metadata": {},
     "output_type": "execute_result"
    }
   ],
   "source": [
    "pwd()"
   ]
  },
  {
   "cell_type": "code",
   "execution_count": 178,
   "id": "c20b6229-86c8-46b5-aa39-d973fef8c776",
   "metadata": {},
   "outputs": [],
   "source": [
    "def test20(func):\n",
    "    def test21():\n",
    "        func()\n",
    "        print(os.getcwd())\n",
    "    return test21\n",
    "    "
   ]
  },
  {
   "cell_type": "code",
   "execution_count": 183,
   "id": "48c8969e-108d-4d1c-80a5-11be4be354de",
   "metadata": {},
   "outputs": [],
   "source": [
    "@test18\n",
    "@test20\n",
    "def test22():\n",
    "    print(\"this will print inside test22\")"
   ]
  },
  {
   "cell_type": "code",
   "execution_count": 184,
   "id": "1f82ade3-cad8-43d2-9c52-34f61a961c8c",
   "metadata": {},
   "outputs": [
    {
     "name": "stdout",
     "output_type": "stream",
     "text": [
      "i am inside test19 and this will behave a decorator to any function that i am going to call \n",
      "/home/jovyan/work\n",
      "this will print inside test22\n",
      "/home/jovyan/work\n"
     ]
    }
   ],
   "source": [
    "test22()"
   ]
  },
  {
   "cell_type": "code",
   "execution_count": 185,
   "id": "b4fca32d-183a-47f0-afac-04dbe6becb94",
   "metadata": {},
   "outputs": [
    {
     "name": "stdout",
     "output_type": "stream",
     "text": [
      "hello\n",
      "0.00011658668518066406\n"
     ]
    }
   ],
   "source": [
    "import time\n",
    "\n",
    "start = time.time()\n",
    "print(\"hello\")\n",
    "end = time.time()\n",
    "print(end - start)\n"
   ]
  },
  {
   "cell_type": "code",
   "execution_count": 186,
   "id": "f15db362-aca3-47f0-9137-968239655a4b",
   "metadata": {},
   "outputs": [
    {
     "data": {
      "text/plain": [
       "1668253844.9711988"
      ]
     },
     "execution_count": 186,
     "metadata": {},
     "output_type": "execute_result"
    }
   ],
   "source": [
    "time.time()"
   ]
  },
  {
   "cell_type": "code",
   "execution_count": 202,
   "id": "e2fa3f33-bed8-475e-b774-8868f5296dca",
   "metadata": {},
   "outputs": [],
   "source": [
    "def test25(func) : \n",
    "    def test26():\n",
    "        print(\"this wil give you executation time of a function \") \n",
    "        start = time.time()\n",
    "        func()\n",
    "        print(func())\n",
    "        end = time.time()\n",
    "        print(end -start)\n",
    "    return  test26\n",
    "\n",
    "@test25\n",
    "def test27() - > int:\n",
    "    \"\"\"\n",
    "    this is a functin whichi will take a decorator for calculating a executation timeing of a functioin \n",
    "    \"\"\"\n",
    "    l = [4,5,6,7,8,8]\n",
    "    l1 = []\n",
    "    for i in l :\n",
    "        if type(i) == int :\n",
    "            l1.append(i)\n",
    "    return l1\n",
    "        "
   ]
  },
  {
   "cell_type": "code",
   "execution_count": 294,
   "id": "eeada4c0-873b-44a3-9d92-2c5fe2113c4a",
   "metadata": {},
   "outputs": [],
   "source": [
    "def test25(func) : \n",
    "    def test26():\n",
    "        print(\"this wil give you executation time of a function \") \n",
    "        start = time.time()\n",
    "        func()\n",
    "        print(func())\n",
    "        end = time.time()\n",
    "        print(end -start)\n",
    "    return  test26"
   ]
  },
  {
   "cell_type": "code",
   "execution_count": 295,
   "id": "6da32466-a990-489b-9844-8537474238af",
   "metadata": {},
   "outputs": [],
   "source": [
    "@test25\n",
    "def test27(a,b,c) :\n",
    "    l = [4,5,6,7,8,8]\n",
    "    l1 = []\n",
    "    for i in l :\n",
    "        if type(i) == int :\n",
    "            l1.append(i)\n",
    "    return l1\n",
    "        "
   ]
  },
  {
   "cell_type": "code",
   "execution_count": 296,
   "id": "c9ef8ae0-139f-4660-abac-c587e202c88b",
   "metadata": {},
   "outputs": [
    {
     "name": "stdout",
     "output_type": "stream",
     "text": [
      "this wil give you executation time of a function \n",
      "[4, 5, 6, 7, 8, 8]\n",
      "1.2874603271484375e-05\n"
     ]
    }
   ],
   "source": [
    "test27()"
   ]
  },
  {
   "cell_type": "code",
   "execution_count": 288,
   "id": "7b326ff3-5ca2-4dc9-8a76-be3784df2b9b",
   "metadata": {},
   "outputs": [
    {
     "data": {
      "text/plain": [
       "<function __main__.test25.<locals>.test26()>"
      ]
     },
     "execution_count": 288,
     "metadata": {},
     "output_type": "execute_result"
    }
   ],
   "source": [
    "test25(test27)"
   ]
  },
  {
   "cell_type": "code",
   "execution_count": 203,
   "id": "2788df97-7d92-41ec-928c-f333f10de113",
   "metadata": {},
   "outputs": [
    {
     "name": "stdout",
     "output_type": "stream",
     "text": [
      "this wil give you executation time of a function \n",
      "[4, 5, 6, 7, 8, 8]\n",
      "1.2159347534179688e-05\n"
     ]
    }
   ],
   "source": [
    "test27()"
   ]
  },
  {
   "cell_type": "code",
   "execution_count": 286,
   "id": "08b60c84-06e9-4fcf-82d6-38d445b6de4d",
   "metadata": {},
   "outputs": [],
   "source": [
    "def test123():\n",
    "    print(\"sdfsf\")"
   ]
  },
  {
   "cell_type": "code",
   "execution_count": 287,
   "id": "920761b8-b37c-4027-91ae-0fd9c4b6cc98",
   "metadata": {},
   "outputs": [
    {
     "name": "stdout",
     "output_type": "stream",
     "text": [
      "sdfsf\n"
     ]
    }
   ],
   "source": [
    "test123()"
   ]
  },
  {
   "cell_type": "code",
   "execution_count": 277,
   "id": "4ed1bb45-43d3-4d4e-a8a2-d346f4f313c0",
   "metadata": {},
   "outputs": [],
   "source": [
    "import time\n",
    "def test25(f):\n",
    "        print(\"This will give you execution time of a function\")\n",
    "        start = time.time()\n",
    "        f()\n",
    "        end = time.time()\n",
    "        diff = end - start\n",
    "        print(diff)\n",
    "        return f \n"
   ]
  },
  {
   "cell_type": "code",
   "execution_count": 278,
   "id": "dd61e164-b8b1-4f94-930c-7e1e43934fd3",
   "metadata": {},
   "outputs": [
    {
     "name": "stdout",
     "output_type": "stream",
     "text": [
      "This will give you execution time of a function\n",
      "3.0994415283203125e-06\n"
     ]
    }
   ],
   "source": [
    "@test25\n",
    "def test27():    \n",
    "    l = [4,5,6,7,8,9]\n",
    "    l1 = []\n",
    "    for i in l:\n",
    "        if type(i) == int :\n",
    "            l1.append(i)\n",
    "    return l1\n"
   ]
  },
  {
   "cell_type": "code",
   "execution_count": 280,
   "id": "54b33e9b-5dee-4e99-aa3c-6abb28510b85",
   "metadata": {},
   "outputs": [
    {
     "data": {
      "text/plain": [
       "[4, 5, 6, 7, 8, 9]"
      ]
     },
     "execution_count": 280,
     "metadata": {},
     "output_type": "execute_result"
    }
   ],
   "source": [
    "test27()"
   ]
  },
  {
   "cell_type": "code",
   "execution_count": null,
   "id": "67861653-64fa-46e0-9f8a-0ebf39eb0e9d",
   "metadata": {},
   "outputs": [],
   "source": []
  },
  {
   "cell_type": "code",
   "execution_count": 276,
   "id": "93aba173-5525-4597-871b-35e0992a6cf3",
   "metadata": {},
   "outputs": [
    {
     "data": {
      "text/plain": [
       "[4, 5, 6, 7, 8, 9]"
      ]
     },
     "execution_count": 276,
     "metadata": {},
     "output_type": "execute_result"
    }
   ],
   "source": [
    "a"
   ]
  },
  {
   "cell_type": "code",
   "execution_count": 250,
   "id": "5e5e9a87-939a-411a-b66b-42bbe8ebdfd8",
   "metadata": {},
   "outputs": [
    {
     "data": {
      "text/plain": [
       "{'name': 'sudh',\n",
       " 'mentor': {'fsds': 'imran', 'fsda': 'anand', 'bigdata': 'shashank'},\n",
       " 'mail_id': {'imran': 'imran@ineiuron.ai',\n",
       "  'anand': 'anand@ineuron.ai',\n",
       "  'shashank': 'shashank@ineuron.ai'}}"
      ]
     },
     "execution_count": 250,
     "metadata": {},
     "output_type": "execute_result"
    }
   ],
   "source": [
    "d9"
   ]
  },
  {
   "cell_type": "code",
   "execution_count": 219,
   "id": "bd7f0ee0-bcad-483f-b7b1-68e8219bacd8",
   "metadata": {},
   "outputs": [
    {
     "name": "stdout",
     "output_type": "stream",
     "text": [
      "name\n",
      "mentor\n",
      "dict_values(['imran', 'anand', 'shashank'])\n",
      "mail_id\n",
      "dict_values(['imran@ineiuron.ai', 'anand@ineuron.ai', 'shashank@ineuron.ai'])\n"
     ]
    }
   ],
   "source": [
    "for i in d9.keys():\n",
    "    print(i)\n",
    "    if type(d9[i]) == dict:\n",
    "        print(d9[i].values())\n",
    "        \n",
    "    "
   ]
  },
  {
   "cell_type": "code",
   "execution_count": 216,
   "id": "81fc7875-4baa-4a5a-bb65-8851cd4ff077",
   "metadata": {},
   "outputs": [
    {
     "data": {
      "text/plain": [
       "str"
      ]
     },
     "execution_count": 216,
     "metadata": {},
     "output_type": "execute_result"
    }
   ],
   "source": [
    "type(d9['name'])"
   ]
  },
  {
   "cell_type": "code",
   "execution_count": 217,
   "id": "174929ad-98ec-46ca-b5d6-a8c77f155d09",
   "metadata": {},
   "outputs": [
    {
     "data": {
      "text/plain": [
       "dict"
      ]
     },
     "execution_count": 217,
     "metadata": {},
     "output_type": "execute_result"
    }
   ],
   "source": [
    "type(d9['mentor'])"
   ]
  },
  {
   "cell_type": "code",
   "execution_count": 218,
   "id": "372adbaa-dc09-41a6-9891-0d4a44952fd7",
   "metadata": {},
   "outputs": [
    {
     "data": {
      "text/plain": [
       "dict_values(['imran', 'anand', 'shashank'])"
      ]
     },
     "execution_count": 218,
     "metadata": {},
     "output_type": "execute_result"
    }
   ],
   "source": [
    "d9['mentor'].values()"
   ]
  },
  {
   "cell_type": "code",
   "execution_count": 297,
   "id": "3e42afd9-3337-4403-bff2-65f86d05c3f2",
   "metadata": {},
   "outputs": [],
   "source": [
    "amazon_website = [(\"watch\", 5000), (\"phone\", 10000), (\"laptop\", 50000), (\"shirt\", 1000)]"
   ]
  },
  {
   "cell_type": "code",
   "execution_count": 302,
   "id": "96eccab2-e5bb-458f-8001-77764cc6b9dc",
   "metadata": {},
   "outputs": [
    {
     "name": "stdin",
     "output_type": "stream",
     "text": [
      "enter the items you are looking for  watch\n",
      "number of quantiry you are looking for  5\n"
     ]
    },
    {
     "name": "stdout",
     "output_type": "stream",
     "text": [
      "calculate the price \n",
      "25000\n"
     ]
    }
   ],
   "source": [
    "a = input(\"enter the items you are looking for \")\n",
    "b = int(input(\"number of quantiry you are looking for \"))\n",
    "for i in amazon_website:\n",
    "    price = 0 \n",
    "    if i[0] == a :\n",
    "        print(\"calculate the price \")\n",
    "        price = price + b  * i[1]\n",
    "    print(price)\n",
    "    elif i[0] != a :\n",
    "        print(\"item is not avaible \") \n",
    "    "
   ]
  },
  {
   "cell_type": "code",
   "execution_count": 303,
   "id": "6e71384f-f8f7-4a18-87a3-fbb774834acc",
   "metadata": {},
   "outputs": [],
   "source": [
    "l_iteam  = []\n",
    "l_price = []\n",
    "for i,j in amazon_website:\n",
    "    l_iteam.append(i)\n",
    "    l_price.append(j)"
   ]
  },
  {
   "cell_type": "code",
   "execution_count": 304,
   "id": "c4abe17a-73cd-413f-bc40-fef5fc42448f",
   "metadata": {},
   "outputs": [
    {
     "data": {
      "text/plain": [
       "['watch', 'phone', 'laptop', 'shirt']"
      ]
     },
     "execution_count": 304,
     "metadata": {},
     "output_type": "execute_result"
    }
   ],
   "source": [
    "l_iteam"
   ]
  },
  {
   "cell_type": "code",
   "execution_count": 305,
   "id": "056bf822-9e54-413f-ba74-030716021fa0",
   "metadata": {},
   "outputs": [
    {
     "data": {
      "text/plain": [
       "[5000, 10000, 50000, 1000]"
      ]
     },
     "execution_count": 305,
     "metadata": {},
     "output_type": "execute_result"
    }
   ],
   "source": [
    "l_price"
   ]
  },
  {
   "cell_type": "code",
   "execution_count": null,
   "id": "4f8b6531-ff13-4011-85aa-c683e06e5b6b",
   "metadata": {},
   "outputs": [],
   "source": []
  },
  {
   "cell_type": "code",
   "execution_count": 311,
   "id": "f0e9690e-5899-4847-b7f2-065cbf048a7c",
   "metadata": {},
   "outputs": [
    {
     "name": "stdin",
     "output_type": "stream",
     "text": [
      "enter the items you are looking for  phone\n",
      "number of quantiry you are looking for  3\n"
     ]
    },
    {
     "name": "stdout",
     "output_type": "stream",
     "text": [
      "calculate the price \n"
     ]
    },
    {
     "name": "stdin",
     "output_type": "stream",
     "text": [
      "enter the items you are looking for  watch\n",
      "number of quantiry you are looking for  2\n"
     ]
    },
    {
     "name": "stdout",
     "output_type": "stream",
     "text": [
      "calculate the price \n"
     ]
    },
    {
     "name": "stdin",
     "output_type": "stream",
     "text": [
      "enter the items you are looking for  xyz\n",
      "number of quantiry you are looking for  3\n"
     ]
    },
    {
     "name": "stdout",
     "output_type": "stream",
     "text": [
      "40000\n"
     ]
    }
   ],
   "source": [
    "amazon_website = [(\"watch\", 5000), (\"phone\", 10000), (\"laptop\", 50000), (\"shirt\", 1000)]\n",
    "price = 0 \n",
    "while True :\n",
    "    a = input(\"enter the items you are looking for \")\n",
    "    b = int(input(\"number of quantiry you are looking for \"))\n",
    "    if a in l_iteam :\n",
    "        print(\"calculate the price \")\n",
    "        for i in amazon_website:\n",
    "            if i[0] == a :\n",
    "                price = price + b  * i[1]\n",
    "    else :\n",
    "        print(\"your items are not matching would you like to give a next try\")\n",
    "        user_in = input(\"enter yes or no\")\n",
    "        if user_in == \"yes\"\n",
    "        continue \n",
    "print(price)\n",
    "    "
   ]
  },
  {
   "cell_type": "code",
   "execution_count": null,
   "id": "d6b84a1b-6c63-4842-ba8b-2210c115c07a",
   "metadata": {},
   "outputs": [],
   "source": [
    "n = int(input(\"enter no of items u want to purchase: \"))\n",
    "for i in range (n):\n",
    "    user_input = input(\"enter what items u need from amazon_website\")\n",
    "amazon_website = [(\"watch\", 5000), (\"phone\", 10000), (\"laptop\", 50000), (\"shirt\", 1000)]\n",
    "cost = 0\n",
    "for i in amazon_website:\n",
    "    print(i[1])\n",
    "    cost = cost+i[0][1]\n",
    "    print(i[0],cost)\n",
    "print(cost)\n"
   ]
  }
 ],
 "metadata": {
  "kernelspec": {
   "display_name": "Python 3 (ipykernel)",
   "language": "python",
   "name": "python3"
  },
  "language_info": {
   "codemirror_mode": {
    "name": "ipython",
    "version": 3
   },
   "file_extension": ".py",
   "mimetype": "text/x-python",
   "name": "python",
   "nbconvert_exporter": "python",
   "pygments_lexer": "ipython3",
   "version": "3.10.6"
  }
 },
 "nbformat": 4,
 "nbformat_minor": 5
}
