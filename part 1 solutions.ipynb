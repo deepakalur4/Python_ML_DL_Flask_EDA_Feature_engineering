{
 "cells": [
  {
   "cell_type": "raw",
   "id": "3106f428-97eb-4a8a-ba2b-29a08bb31531",
   "metadata": {},
   "source": [
    "1. Print the first 5 positive integers in ascending order with one number \n",
    "in each line"
   ]
  },
  {
   "cell_type": "code",
   "execution_count": 1,
   "id": "6f77a70c-da9f-4574-a0bd-6963f2243f43",
   "metadata": {},
   "outputs": [
    {
     "name": "stdout",
     "output_type": "stream",
     "text": [
      "1\n",
      "2\n",
      "3\n",
      "4\n",
      "5\n"
     ]
    },
    {
     "data": {
      "text/plain": [
       "'\\nstart\\tOptional. An integer number specifying at which position to start. Default is 0\\nstop\\tRequired. An integer number specifying at which position to stop (not included).\\nstep\\tOptional. An integer number specifying the incrementation. Default is 1\\n'"
      ]
     },
     "execution_count": 1,
     "metadata": {},
     "output_type": "execute_result"
    }
   ],
   "source": [
    "for i in range(5):\n",
    "    print(i+1)\n",
    "    \n",
    "# range(start, stop, step)\n",
    "# The range() function returns a sequence of numbers, starting from 0 by default, and \n",
    "#increments by 1 (by default), and stops before a specified number.\n",
    "'''\n",
    "start\tOptional. An integer number specifying at which position to start. Default is 0\n",
    "stop\tRequired. An integer number specifying at which position to stop (not included).\n",
    "step\tOptional. An integer number specifying the incrementation. Default is 1\n",
    "'''"
   ]
  },
  {
   "cell_type": "raw",
   "id": "714c202e-c57a-4359-9a96-5aa1b83c58ed",
   "metadata": {},
   "source": [
    "2. Print the following pattern\n",
    "*\n",
    "**\n",
    "***\n",
    "****\n",
    "*****\n",
    "There are no spaces between consecutive stars. There are no spaces \n",
    "at the end of each line.\n"
   ]
  },
  {
   "cell_type": "code",
   "execution_count": 3,
   "id": "45c166dc-f605-4a1b-8e77-e124c7efc27b",
   "metadata": {},
   "outputs": [
    {
     "name": "stdout",
     "output_type": "stream",
     "text": [
      "*\n",
      "**\n",
      "***\n",
      "****\n",
      "*****\n"
     ]
    }
   ],
   "source": [
    "for i in range (1,6):\n",
    "    for j in range(1,i+1):\n",
    "        print(\"*\",end = '')\n",
    "    print()"
   ]
  },
  {
   "cell_type": "raw",
   "id": "74a8caa3-e9e9-4ca3-8a42-4ca8f4b9b301",
   "metadata": {},
   "source": [
    "3. Accept an integer as input and print its square as output."
   ]
  },
  {
   "cell_type": "code",
   "execution_count": 4,
   "id": "0cc841e6-9c35-4683-b332-9d06c30d0925",
   "metadata": {},
   "outputs": [
    {
     "name": "stdin",
     "output_type": "stream",
     "text": [
      " 2\n"
     ]
    },
    {
     "name": "stdout",
     "output_type": "stream",
     "text": [
      "4\n"
     ]
    }
   ],
   "source": [
    "n = int(input())\n",
    "print(n**2)"
   ]
  },
  {
   "cell_type": "raw",
   "id": "0f8f5b38-a5b2-4604-817b-5716f5b045bf",
   "metadata": {},
   "source": [
    "4.Accept two integers as input and print their sum as output."
   ]
  },
  {
   "cell_type": "code",
   "execution_count": 5,
   "id": "b833076e-964f-47d4-98ba-9801105d7d38",
   "metadata": {},
   "outputs": [
    {
     "name": "stdin",
     "output_type": "stream",
     "text": [
      " 3\n",
      " 4\n"
     ]
    },
    {
     "name": "stdout",
     "output_type": "stream",
     "text": [
      "7\n"
     ]
    }
   ],
   "source": [
    "a = int(input())\n",
    "b = int(input())\n",
    "print(a+b)"
   ]
  },
  {
   "cell_type": "raw",
   "id": "3e4707d1-6667-4dbf-8f36-b5033dc862af",
   "metadata": {},
   "source": [
    "5. Accept two words as input and print the two words after adding a \n",
    "space between them"
   ]
  },
  {
   "cell_type": "code",
   "execution_count": 7,
   "id": "f87e42e3-9f06-4045-90f1-c8cf6f7c1f42",
   "metadata": {},
   "outputs": [
    {
     "name": "stdin",
     "output_type": "stream",
     "text": [
      " ineuron\n",
      " ineuron\n"
     ]
    },
    {
     "name": "stdout",
     "output_type": "stream",
     "text": [
      "ineuron ineuron\n"
     ]
    }
   ],
   "source": [
    "print(input(), input())"
   ]
  },
  {
   "cell_type": "raw",
   "id": "335f880d-0151-4f82-a944-43ce7a672e07",
   "metadata": {},
   "source": [
    "6. Accept the registration number of a vehicle as input and print its \n",
    "state-code as output."
   ]
  },
  {
   "cell_type": "code",
   "execution_count": 8,
   "id": "4038ade9-29c7-4afc-b441-f7e52f0bbc4f",
   "metadata": {},
   "outputs": [
    {
     "name": "stdin",
     "output_type": "stream",
     "text": [
      " ka042367\n"
     ]
    },
    {
     "name": "stdout",
     "output_type": "stream",
     "text": [
      "ka\n"
     ]
    }
   ],
   "source": [
    "s = input()\n",
    "print(s[0:2])"
   ]
  },
  {
   "cell_type": "raw",
   "id": "bf8f8f8f-a91d-4f35-8d4b-c45026aa9925",
   "metadata": {},
   "source": [
    "7. Accept a five-digit number as input and print the sum of its digits as \n",
    "output."
   ]
  },
  {
   "cell_type": "code",
   "execution_count": 10,
   "id": "18e780b0-875b-4a17-8773-ceaa627c4d8d",
   "metadata": {},
   "outputs": [
    {
     "name": "stdin",
     "output_type": "stream",
     "text": [
      " 12345\n"
     ]
    },
    {
     "name": "stdout",
     "output_type": "stream",
     "text": [
      "15\n"
     ]
    }
   ],
   "source": [
    "num = input()\n",
    "d1 = int(num[0])\n",
    "d2 = int(num[1])\n",
    "d3 = int(num[2])\n",
    "d4 = int(num[3])\n",
    "d5 = int(num[4])\n",
    "dsum = d1 + d2 + d3 + d4 + d5\n",
    "print(dsum)"
   ]
  },
  {
   "cell_type": "raw",
   "id": "1eb45d9d-3cd1-4032-88b5-8c7d9084a8c0",
   "metadata": {},
   "source": [
    "8.Accept five words as input and print the sentence formed by these \n",
    "words after adding a space between consecutive words and a full stop \n",
    "at the end.\n"
   ]
  },
  {
   "cell_type": "code",
   "execution_count": 12,
   "id": "29988a9b-d88e-4123-a8d5-d5603fa087fd",
   "metadata": {},
   "outputs": [
    {
     "name": "stdin",
     "output_type": "stream",
     "text": [
      " i\n",
      " write\n",
      " code\n",
      " in\n",
      " ineuron\n"
     ]
    },
    {
     "name": "stdout",
     "output_type": "stream",
     "text": [
      "i write code in ineuron.\n"
     ]
    }
   ],
   "source": [
    "word1 = input()\n",
    "word2 = input()\n",
    "word3 = input()\n",
    "word4 = input()\n",
    "word5 = input()\n",
    "space = ' '\n",
    "stop = '.'\n",
    "sentence = word1 + space + word2 + space + word3 + space + word4 + space + word5 + stop\n",
    "print(sentence)"
   ]
  },
  {
   "cell_type": "raw",
   "id": "40355f41-2312-402b-85ab-da35417fbcd8",
   "metadata": {},
   "source": [
    "9.Accept the date in DD-MM-YYYY format as input and print the \n",
    "year as output."
   ]
  },
  {
   "cell_type": "code",
   "execution_count": 13,
   "id": "b9e9fbad-a792-4d94-a15d-b5d5815830bc",
   "metadata": {},
   "outputs": [
    {
     "name": "stdin",
     "output_type": "stream",
     "text": [
      " 20-01-1993\n"
     ]
    },
    {
     "name": "stdout",
     "output_type": "stream",
     "text": [
      "1993\n"
     ]
    }
   ],
   "source": [
    "date = input()\n",
    "year = date[-4: ]\n",
    "print(year)"
   ]
  },
  {
   "cell_type": "raw",
   "id": "f7fe64ce-ab30-4f78-9722-e6ebdac1f34b",
   "metadata": {},
   "source": [
    "10.Accept a sequence of five single digit numbers separated by commas \n",
    "as input. Print the product of all five numbers.\n"
   ]
  },
  {
   "cell_type": "code",
   "execution_count": null,
   "id": "cb49b55f-fbd8-43a0-a396-4e9e53548f77",
   "metadata": {},
   "outputs": [],
   "source": [
    "num = input()\n",
    "d1 = int(num[0])\n",
    "d2 = int(num[2])\n",
    "d3 = int(num[4])\n",
    "d4 = int(num[6])\n",
    "d5 = int(num[8])\n",
    "dprod = d1 * d2 * d3 * d4 * d5\n",
    "print(dprod)\n"
   ]
  },
  {
   "cell_type": "raw",
   "id": "917b0c37-483a-4187-808b-c12eb234c5ed",
   "metadata": {},
   "source": [
    "11. Accept two positive integers x and y as input. Print the number of \n",
    "digits in xy"
   ]
  },
  {
   "cell_type": "code",
   "execution_count": 3,
   "id": "3da90707-82ff-4566-a221-07d1dcb010ba",
   "metadata": {},
   "outputs": [
    {
     "name": "stdin",
     "output_type": "stream",
     "text": [
      " 5\n",
      " 7\n"
     ]
    },
    {
     "name": "stdout",
     "output_type": "stream",
     "text": [
      "5\n"
     ]
    }
   ],
   "source": [
    "x = int(input())\n",
    "y = int(input())\n",
    "res = x ** y\n",
    "res_str = str(res)\n",
    "print(len(res_str))\n"
   ]
  },
  {
   "cell_type": "raw",
   "id": "137f8cf1-c13c-4429-b2c8-fde244a54c65",
   "metadata": {},
   "source": [
    "12. Accept a string as input. If the input string is of odd length, then \n",
    "continue with it. If the input string is of even length, make the \n",
    "string of odd length as below:\n",
    "• If the last character is a period (.), then remove it \n",
    "• If the last character is not a period, then add a period (.) to the \n",
    "end of the string\n",
    "Call this string of odd length word. Select a substring made up of \n",
    "three consecutive characters from word such that there are an \n",
    "equal number of characters to the left and right of this substring. \n",
    "Print this substring as output. You can assume that all input \n",
    "strings will be in lower case and will have a length of at least four"
   ]
  },
  {
   "cell_type": "code",
   "execution_count": 2,
   "id": "f6285384-b00e-4dca-8d12-d6e84f6923a7",
   "metadata": {},
   "outputs": [
    {
     "name": "stdin",
     "output_type": "stream",
     "text": [
      " welcome\n"
     ]
    },
    {
     "name": "stdout",
     "output_type": "stream",
     "text": [
      "lco\n"
     ]
    }
   ],
   "source": [
    "s = input()\n",
    "n = len(s)\n",
    "if n%2 == 0:\n",
    "    if s[n-1]=='.':\n",
    "        s=s[:-1]\n",
    "    else:\n",
    "        s=s+'.'\n",
    "n = int((len(s)-1)/2)\n",
    "print(s[n-1: n+2])"
   ]
  },
  {
   "cell_type": "raw",
   "id": "2eb68eb6-7f88-42e7-b84c-b12fa2a926ba",
   "metadata": {},
   "source": [
    "13. Accept three positive integers as input and check if they form the \n",
    "sides of a right triangle. Print YES if they form one, and NO is they do \n",
    "not. The input will have three lines, with one integer on each line. \n",
    "The output should be a single line containing one of these two \n",
    "strings: YES or NO."
   ]
  },
  {
   "cell_type": "code",
   "execution_count": 9,
   "id": "e804bb8c-5e0c-4e25-ae2d-c829dc7a3c19",
   "metadata": {},
   "outputs": [
    {
     "name": "stdin",
     "output_type": "stream",
     "text": [
      " 3\n",
      " 4\n",
      " 5\n"
     ]
    },
    {
     "name": "stdout",
     "output_type": "stream",
     "text": [
      "YES\n"
     ]
    }
   ],
   "source": [
    "x = int(input())\n",
    "y = int(input())\n",
    "z = int(input())\n",
    "# There are three possible conditions\n",
    "# We are combining them using the \"or\" operator\n",
    "if ((x ** 2 + y ** 2 == z ** 2) or\n",
    " (y ** 2 + z ** 2 == x ** 2) or\n",
    " (z ** 2 + x ** 2 == y ** 2)):\n",
    " print('YES')\n",
    "else:\n",
    " print('NO')\n"
   ]
  },
  {
   "cell_type": "raw",
   "id": "6b647411-3285-4bab-acbf-0e375eb527de",
   "metadata": {},
   "source": [
    "14. EvenOdd is a tech startup. Each employee at the startup is given an employee id which is a unique \n",
    "positive integer. On one warm Sunday evening, five employees of the company come together for a \n",
    "meeting and sit at a circular table:\n",
    "The employees follow a strange convention. They will continue the meeting only if the following \n",
    "condition is satisfied.\n",
    "The sum of the employee-ids of every pair of adjacent employees at the table must be an even \n",
    "number.\n",
    "They are so lazy that they won’t move around to satisfy the above condition, If the current seating \n",
    "plan doesn’t satisfy the condition, the meeting will be cancelled. You are given the employee-id of all \n",
    "five employees. Your task is to decide if the meeting happened or not.\n",
    "The input will be five lined, each containing an integer. The ith line will have the employee-id of Ei. \n",
    "The output will be a single line containing one of these two strings: YES or NO"
   ]
  },
  {
   "cell_type": "code",
   "execution_count": 12,
   "id": "5a3bc35b-8cd9-4dd2-90ad-0a5a417de597",
   "metadata": {},
   "outputs": [
    {
     "name": "stdin",
     "output_type": "stream",
     "text": [
      " 1\n",
      " 2\n",
      " 4\n",
      " 6\n",
      " 8\n"
     ]
    },
    {
     "name": "stdout",
     "output_type": "stream",
     "text": [
      "NO\n"
     ]
    }
   ],
   "source": [
    "e1 = int(input())\n",
    "e2 = int(input())\n",
    "e3 = int(input())\n",
    "e4 = int(input())\n",
    "e5 = int(input())\n",
    "# Check if the sum is odd for each pair of adjacent employees\n",
    "if (e1 + e2) % 2 != 0:\n",
    " print('NO')\n",
    "elif (e2 + e3) % 2 != 0:\n",
    " print('NO')\n",
    "elif (e3 + e4) % 2 != 0:\n",
    " print('NO')\n",
    "elif (e4 + e5) % 2 != 0:\n",
    " print('NO')\n",
    "elif (e5 + e1) % 2 != 0:\n",
    " print('NO')\n",
    "# If the sum is even for every pair of adjacent employees,\n",
    "# then the else block gets executed\n",
    "else:\n",
    " print('YES')\n"
   ]
  },
  {
   "cell_type": "raw",
   "id": "8735be04-6021-4972-beac-a4768251a9c0",
   "metadata": {},
   "source": [
    "15. Accept a string as input and print the vowels present in the string in \n",
    "alphabetical order. If the string doesn’t contain any vowels, then \n",
    "print the string none as output. Each vowel that appears in the input \n",
    "string – irrespective of its case should appear just once in lower case \n",
    "in the output"
   ]
  },
  {
   "cell_type": "code",
   "execution_count": 18,
   "id": "a4199de1-a75f-4ae8-873e-97eee7fdf9ee",
   "metadata": {},
   "outputs": [
    {
     "name": "stdin",
     "output_type": "stream",
     "text": [
      " szl\n"
     ]
    },
    {
     "name": "stdout",
     "output_type": "stream",
     "text": [
      "none\n"
     ]
    }
   ],
   "source": [
    "input_string = input().lower()\n",
    "vowels = \"\"\n",
    "if \"a\" in input_string:\n",
    " vowels += \"a\"\n",
    "if \"e\" in input_string:\n",
    " vowels += \"e\"\n",
    "if \"i\" in input_string:\n",
    " vowels += \"i\"\n",
    "if \"o\" in input_string:\n",
    " vowels += \"o\"\n",
    "if \"u\" in input_string:\n",
    " vowels += \"u\"\n",
    "# check if vowels is non-empty\n",
    "if vowels != \"\":\n",
    " print(vowels)\n",
    "else:\n",
    " print('none')\n"
   ]
  },
  {
   "cell_type": "raw",
   "id": "16eaadbe-88c3-4d5e-ac14-ee27bdccbf88",
   "metadata": {},
   "source": [
    "16.You are given the date of birth of two persons, not necessarily from \n",
    "the same family. Your task is to find the younger of the two. If both \n",
    "of them share the same date of birth, then the younger of the two is \n",
    "assumed to be that person whose name comes first in alphabetical \n",
    "order.\n",
    "The input will have four lines. The first two lines correspond to the \n",
    "first person, while the last two lines correspond to the second \n",
    "person. For each person, the first line corresponds to the name and \n",
    "the second line corresponds to the date of birth in “DD-MM-YYYY” \n",
    "format. Your output should be the name of the younger of the two.\n"
   ]
  },
  {
   "cell_type": "code",
   "execution_count": 20,
   "id": "20c85aab-386c-4beb-91f8-4f692b1341b6",
   "metadata": {},
   "outputs": [
    {
     "name": "stdin",
     "output_type": "stream",
     "text": [
      " imran\n",
      " 20-01-1993\n",
      " salina\n",
      " 21-01-2003\n"
     ]
    },
    {
     "name": "stdout",
     "output_type": "stream",
     "text": [
      "salina\n"
     ]
    }
   ],
   "source": [
    "n1 = input()\n",
    "d1 = input()\n",
    "n2 = input()\n",
    "d2 = input()\n",
    "if d1==d2 :\n",
    "     if n1<n2 :\n",
    "         print(n1)\n",
    "     else :\n",
    "         print(n2)\n",
    "elif d1[-4:] != d2[-4:] :\n",
    "     if int(d1[-4:]) < int(d2[-4:]):\n",
    "         print(n2)\n",
    "     else :\n",
    "         print(n1)\n",
    "elif d1[3:5] != d2[3:5]:\n",
    "     if int(d1[3:5]) < int(d2[3:5]):\n",
    "         print(n2)\n",
    "     else :\n",
    "         print(n1)\n",
    "else :\n",
    "     if int(d1[0:2]) < int(d2[0:2]):\n",
    "         print(n2)\n",
    "     else :\n",
    "         print(n1)\n"
   ]
  },
  {
   "cell_type": "raw",
   "id": "5c00a3f5-809e-4bbe-a2a2-bb954275d8c5",
   "metadata": {},
   "source": [
    "17.Accept a string as input. Your task is to determine if the input string is a valid password or not. For a \n",
    "string to be a valid password, it must satisfy all the conditions given below:\n",
    "(1) It should have at least 8 and at most 32 characters\n",
    "(2) It should start with an uppercase or lowercase letter\n",
    "(3) It should not have any of these characters: / \\ = ' \"\n",
    "(4) It should not have spaces\n",
    "It could have any character that is not mentioned in the list of characters to be avoided (points 3 and \n",
    "4). Output True if the string forms a valid password and False otherwise"
   ]
  },
  {
   "cell_type": "code",
   "execution_count": 24,
   "id": "4fe7f963-da61-423f-b807-7aebc0019aad",
   "metadata": {},
   "outputs": [
    {
     "name": "stdin",
     "output_type": "stream",
     "text": [
      " NC112ec049\n"
     ]
    },
    {
     "name": "stdout",
     "output_type": "stream",
     "text": [
      "True\n"
     ]
    }
   ],
   "source": [
    "p = input()\n",
    "if 8<= len(p) <= 32 and p[0].isalpha() and '/' not in p and '\\\\' not in p and '=' not in p and '\\'' not in p and '\\\"' not in p and ' ' not in p :\n",
    "     print('True')\n",
    "else:\n",
    "     print('False') \n"
   ]
  },
  {
   "cell_type": "raw",
   "id": "c9d54aff-bcf3-4a52-a491-1dff918f8c7d",
   "metadata": {},
   "source": [
    "18. Accept a positive integer n as input and print the first n positive \n",
    "integers, one number on each line."
   ]
  },
  {
   "cell_type": "code",
   "execution_count": 25,
   "id": "73dde756-3c38-4cb1-aa77-a922c6d74e74",
   "metadata": {},
   "outputs": [
    {
     "name": "stdin",
     "output_type": "stream",
     "text": [
      " 5\n"
     ]
    },
    {
     "name": "stdout",
     "output_type": "stream",
     "text": [
      "1\n",
      "2\n",
      "3\n",
      "4\n",
      "5\n"
     ]
    }
   ],
   "source": [
    "n = int(input())\n",
    "for i in range(1,n+1):\n",
    " print(i)"
   ]
  },
  {
   "cell_type": "raw",
   "id": "7913031b-0502-40ba-86bc-469736ffbbf7",
   "metadata": {},
   "source": [
    "19.Accept a positive integer n as input, where n is greater than 1. \n",
    "Print PRIME ifnis a prime number and NOTPRIME otherwise.\n"
   ]
  },
  {
   "cell_type": "code",
   "execution_count": 3,
   "id": "97cdd59d-5bc2-4c7e-af9d-965a421d1d03",
   "metadata": {},
   "outputs": [
    {
     "name": "stdin",
     "output_type": "stream",
     "text": [
      " 10\n"
     ]
    },
    {
     "name": "stdout",
     "output_type": "stream",
     "text": [
      "NOTPRIME\n"
     ]
    }
   ],
   "source": [
    "n = int(input())\n",
    "prime= True\n",
    "for i in range(2,n):\n",
    "    if(n%i==0):\n",
    "        prime= False\n",
    "if prime:\n",
    "     print('PRIME')\n",
    "else:\n",
    "     print('NOTPRIME')\n"
   ]
  },
  {
   "cell_type": "raw",
   "id": "cc21fc95-df3f-4a95-a597-a908dea014ed",
   "metadata": {},
   "source": [
    "20. Accept two strings as input and form a new string by removing all \n",
    "characters from the second string which are present in the first string. \n",
    "Print this new string as output. You can assume that all input strings \n",
    "will be in lower case."
   ]
  },
  {
   "cell_type": "code",
   "execution_count": 6,
   "id": "8ca1a050-1619-4781-826f-a2e98d63109e",
   "metadata": {},
   "outputs": [
    {
     "name": "stdin",
     "output_type": "stream",
     "text": [
      " sam\n",
      " ramu\n"
     ]
    },
    {
     "name": "stdout",
     "output_type": "stream",
     "text": [
      "ru\n"
     ]
    }
   ],
   "source": [
    "a = input()\n",
    "b = input()\n",
    "for c in a:\n",
    "     if c in b:\n",
    "         b = b.replace(c,'')\n",
    "print(b)\n"
   ]
  },
  {
   "cell_type": "raw",
   "id": "bb781e0b-84f3-41e0-9735-fcdba0af4d93",
   "metadata": {},
   "source": [
    "21.Accept a phone number as input. A valid phone number should satisfy \n",
    "the following constraints.\n",
    "(1) The number should start with one of these digits: 6, 7, 8, 9\n",
    "(2) The number should be exactly 10 digits long.\n",
    "(3) No digit should appear more than 7 times in the number.\n",
    "(4) No digit should appear more than 5 times in a row in the \n",
    "number.\n",
    "If the fourth condition is not very clear, then consider this example: \n",
    "the number 9888888765 is invalid because the digit 8 appears more \n",
    "than 5 times in a row. Print the string valid if the phone number is \n",
    "valid. If not, print the string invalid."
   ]
  },
  {
   "cell_type": "code",
   "execution_count": 1,
   "id": "675b598b-07f0-47ea-8cba-7bc74e621be9",
   "metadata": {},
   "outputs": [
    {
     "name": "stdin",
     "output_type": "stream",
     "text": [
      " 8971148113\n"
     ]
    },
    {
     "name": "stdout",
     "output_type": "stream",
     "text": [
      "valid\n"
     ]
    }
   ],
   "source": [
    "n=input()\n",
    "a=False\n",
    "if len(n)==10 and int(n[0])>5 and n.isdigit():\n",
    "    for i in range(10):\n",
    "        if n.count(n[i])<8:\n",
    "            a=True\n",
    "            if n[i]*6 in n:\n",
    "                a=False\n",
    "                break\n",
    "        else:\n",
    "            break\n",
    "if a:\n",
    "    print('valid')\n",
    "else:\n",
    "    print('invalid')\n",
    "\n",
    "#The isdigit() method returns True if all the characters are digits, otherwise False.\n",
    "# The count() method returns the number of elements with the specified value."
   ]
  },
  {
   "cell_type": "raw",
   "id": "58804174-f22a-49b2-8228-8f32a64a0ac7",
   "metadata": {},
   "source": [
    "22. In the first line of input, accept a sequence of space-separated words. In the second line of \n",
    "input, accept a single word. If this word is not present in the sequence, print NO. If this word \n",
    "is present in the sequence, then print YES and in the next line of the output, print the number \n",
    "of times the word appears in the sequence."
   ]
  },
  {
   "cell_type": "code",
   "execution_count": 2,
   "id": "e0296246-0feb-4759-82c6-6520523a3f06",
   "metadata": {},
   "outputs": [
    {
     "name": "stdin",
     "output_type": "stream",
     "text": [
      " i love code i write code in ineuron\n",
      " code\n"
     ]
    },
    {
     "name": "stdout",
     "output_type": "stream",
     "text": [
      "YES\n",
      "2\n"
     ]
    }
   ],
   "source": [
    "s=input().split(' ')\n",
    "a=input()\n",
    "if a in s:\n",
    "    print('YES')\n",
    "    print(s.count(a))\n",
    "else:\n",
    "    print('NO')\n",
    "#string.split(separator, maxsplit)\n",
    "#The split() method splits a string into a list.\n"
   ]
  },
  {
   "cell_type": "raw",
   "id": "0210f181-ddb9-4fb9-a9ec-31573c173f4b",
   "metadata": {},
   "source": [
    "23. Write a function named factorial that accepts an integer n as argument. It should return \n",
    "the factorial of n if n is a positive integer. It should return -1 if n is a negative integer, and it \n",
    "should return 1 if n is zero."
   ]
  },
  {
   "cell_type": "code",
   "execution_count": 6,
   "id": "6da765bd-323c-4ef2-8e8f-c71e04e52bcd",
   "metadata": {},
   "outputs": [],
   "source": [
    "def factorial(n):\n",
    "    if n<0:\n",
    "        return -1\n",
    "    elif n==0:\n",
    "        return 1\n",
    "    else:\n",
    "        f=1\n",
    "        for i in range(1,n+1):\n",
    "            f*=i\n",
    "        return f\n"
   ]
  },
  {
   "cell_type": "code",
   "execution_count": 7,
   "id": "d3ffc281-ef70-4017-a95b-baa0edbf8c6a",
   "metadata": {},
   "outputs": [
    {
     "data": {
      "text/plain": [
       "6"
      ]
     },
     "execution_count": 7,
     "metadata": {},
     "output_type": "execute_result"
    }
   ],
   "source": [
    "factorial(3)"
   ]
  },
  {
   "cell_type": "raw",
   "id": "4f647376-0565-45e3-9239-8c57ed0c9d51",
   "metadata": {},
   "source": [
    "24. \n",
    "The range of a list of numbers is the difference between the maximum and minimum values in the list\n",
    "\n",
    "Write a function named get_range that accepts a non-empty list of real numbers as argument. It \n",
    "should return the range of the list.\n",
    "(1) Avoid using built-in function such as max and min.\n",
    "(2) You do not have to accept input from the user or print output to the console. You just have to write \n",
    "the function definition.\n"
   ]
  },
  {
   "cell_type": "code",
   "execution_count": 8,
   "id": "fb7b1a39-96bd-4dbd-a553-c40c84aae1ae",
   "metadata": {},
   "outputs": [],
   "source": [
    "# get the maximum\n",
    "def get_max(L):\n",
    "    maxi = L[0]\n",
    "    for x in L:\n",
    "        if x > maxi:\n",
    "            maxi = x\n",
    "    return maxi\n",
    "# get the minimum\n",
    "def get_min(L):\n",
    "    mini = L[0]\n",
    "    for x in L:\n",
    "        if x < mini:\n",
    "            mini = x\n",
    "    return mini\n",
    "# get the range\n",
    "def get_range(L):\n",
    "    maxi = get_max(L)\n",
    "    mini = get_min(L)\n",
    "    return maxi - mini \n"
   ]
  },
  {
   "cell_type": "code",
   "execution_count": 10,
   "id": "1e10fb65-1ede-4b2c-a9a0-feaf660d9591",
   "metadata": {},
   "outputs": [
    {
     "data": {
      "text/plain": [
       "9"
      ]
     },
     "execution_count": 10,
     "metadata": {},
     "output_type": "execute_result"
    }
   ],
   "source": [
    "get_range([1,2,3,4,10])"
   ]
  },
  {
   "cell_type": "raw",
   "id": "3863662f-b849-49c8-b60c-be516d8533a5",
   "metadata": {},
   "source": [
    "25. Write a function named read_file that accepts a text file named filename as argument. Within \n",
    "the function, read the file and print each line of the file on a separate line in the console. You shouldn't \n",
    "print any extra characters at the end of a line. There shouldn't be an empty line between any two \n",
    "consecutive lines.\n",
    "(1) filename is a string variable that holds the name of the file. For example, in the first test case, it \n",
    "is filename = 'public_1.txt'.\n",
    "(2) You do not have to accept input from the console. You have to write the function definition and \n",
    "print the contents of the file within the function\n",
    "\n",
    "#The strip() method removes any leading (spaces at the beginning) and trailing (spaces at the end) characters (space is the default leading character to remove)"
   ]
  },
  {
   "cell_type": "code",
   "execution_count": 16,
   "id": "ffcbbc9e-1dfc-4497-8b79-9ca540784448",
   "metadata": {},
   "outputs": [],
   "source": [
    "def read_file(filename):\n",
    "    f = open(filename, 'r')\n",
    "    for line in f:\n",
    "        print(line.strip())\n",
    "    f.close()"
   ]
  },
  {
   "cell_type": "code",
   "execution_count": 18,
   "id": "fe01e2b2-9074-4125-8868-4dce8e5fd5b9",
   "metadata": {},
   "outputs": [
    {
     "name": "stdout",
     "output_type": "stream",
     "text": [
      "hello\n",
      "i\n",
      "write\n",
      "code\n"
     ]
    }
   ],
   "source": [
    "read_file('public.txt')"
   ]
  },
  {
   "cell_type": "raw",
   "id": "7f3595c3-3996-4eff-8260-badb1aab645d",
   "metadata": {},
   "source": [
    "26. A simple algorithm has to be designed to find out whether a student \n",
    "belongs to the Data Science branch or not. The input will be a \n",
    "student's roll number, which is of the form BR18B0000. \n",
    "Here, BR represents the branch code, 18 represents the year of \n",
    "joining, B represents the education level and 0000 represents the \n",
    "specific identification given to the student of that batch. The branch \n",
    "code for Data Science is DS. Print True if the student belongs to \n",
    "Data Science branch and False otherwise."
   ]
  },
  {
   "cell_type": "code",
   "execution_count": 20,
   "id": "b53a2567-c668-4f6f-981c-60b6727d0ebd",
   "metadata": {},
   "outputs": [
    {
     "name": "stdin",
     "output_type": "stream",
     "text": [
      " DS1nc12ec049\n"
     ]
    },
    {
     "name": "stdout",
     "output_type": "stream",
     "text": [
      "True\n"
     ]
    }
   ],
   "source": [
    "s = input()\n",
    "if s[0]=='D' and s[1]=='S':\n",
    "    print(\"True\")\n",
    "else:\n",
    "    print(\"False\")\n"
   ]
  },
  {
   "cell_type": "raw",
   "id": "f587b583-a53e-4fb8-b2da-5c48aa841576",
   "metadata": {},
   "source": [
    "27.The police are trying to track a criminal based on the evidence \n",
    "available at a crime site. Their main clue is a vehicle's damaged \n",
    "number plate. Only the string TN07 is visible. The format of the \n",
    "registration number is AA00AA00, where the first two letters are \n",
    "alphabets, next two are numbers, next two are again alphabets \n",
    "followed by two numbers at the end. A number plate is picked from a \n",
    "database of registration numbers and is given to you as input. Your \n",
    "task is to determine if this could belong to the criminal or not. \n",
    "Print True if the number plate \n",
    "contains TN07 and False otherwise.\n"
   ]
  },
  {
   "cell_type": "code",
   "execution_count": null,
   "id": "e4e8ae43-e186-4456-9136-212a7805ba56",
   "metadata": {},
   "outputs": [],
   "source": [
    "n=input()\n",
    "if (n[0:4]=='TN07') or (n[4:8]=='TN07'):\n",
    "    print('True')\n",
    "else:\n",
    "    print('False')\n"
   ]
  },
  {
   "cell_type": "raw",
   "id": "bcf855ad-2978-44fe-bf2a-d86330692535",
   "metadata": {},
   "source": [
    "28. You are given a string and two non-negative integers as input. The \n",
    "two integers specify the start and end indices of a substring in the \n",
    "given string. Create a new string by replicating the substring a \n",
    "minimum number of times so that the resulting string is longer than \n",
    "the input string. The input parameters are the string, start index of \n",
    "the substring and the end index of substring (endpoints inclusive) \n",
    "each on a different line."
   ]
  },
  {
   "cell_type": "code",
   "execution_count": 13,
   "id": "a31c768c-3b90-43c1-bcd5-a79513fde8c9",
   "metadata": {},
   "outputs": [
    {
     "name": "stdin",
     "output_type": "stream",
     "text": [
      " code\n",
      " 2\n",
      " 3\n"
     ]
    },
    {
     "name": "stdout",
     "output_type": "stream",
     "text": [
      "dedede\n"
     ]
    }
   ],
   "source": [
    "n=input()\n",
    "a=int(input())\n",
    "b=int(input())\n",
    "x=n[a:b+1]\n",
    "y=len(n)\n",
    "ans=\"\"\n",
    "while(y>=len(ans)):\n",
    "    ans+=x\n",
    " \n",
    "print(ans)\n"
   ]
  },
  {
   "cell_type": "raw",
   "id": "1c661244-0297-4d14-8196-36f1005affe7",
   "metadata": {},
   "source": [
    "29. A class teacher has decided to split her entire class into four groups, namely Sapphire, Peridot, Ruby, \n",
    "and Emerald for sports competitions. For dividing the students into these four groups, she has \n",
    "followed the pattern given below:\n",
    "Sapphire - 1, 5, 9, 13, 17, 21, ...\n",
    "Peridot - 2, 6, 10, 14, 18, 22, ...\n",
    "Ruby - 3, 7, 11, 15, 19, 23, ...\n",
    "Emerald - 4, 8, 12, 16, 20, 24, ...\n",
    "All the students are represented by their roll numbers. Based on the above pattern, given the roll \n",
    "number as input, print the group the student belongs to. Note that the roll number can be any \n",
    "positive integer and not necessarily less than 25.\n",
    "\n",
    "\n",
    "range(start, stop, step)\n",
    "start\tOptional. An integer number specifying at which position to start. Default is 0\n",
    "stop\tRequired. An integer number specifying at which position to stop (not included).\n",
    "step\tOptional. An integer number specifying the incrementation. Default is 1"
   ]
  },
  {
   "cell_type": "code",
   "execution_count": 22,
   "id": "37f823e4-aafe-492d-a56c-d993908f3cb3",
   "metadata": {},
   "outputs": [
    {
     "name": "stdin",
     "output_type": "stream",
     "text": [
      " 22\n"
     ]
    },
    {
     "name": "stdout",
     "output_type": "stream",
     "text": [
      "Peridot\n"
     ]
    }
   ],
   "source": [
    "n=int(input())\n",
    "for i in range(1,n+1,4):\n",
    "    if n==i:\n",
    "        print('Sapphire')\n",
    "for j in range(2,n+1,4):\n",
    "    if n==j:\n",
    "        print('Peridot')\n",
    "for k in range(3,n+1,4):\n",
    "    if n==k:\n",
    "        print('Ruby')\n",
    "for l in range(4,n+1,4):\n",
    "    if n==l:\n",
    "        print('Emerald')\n"
   ]
  },
  {
   "cell_type": "raw",
   "id": "0a8af592-df26-4978-a36c-fd728f2ef086",
   "metadata": {},
   "source": [
    "30. A data science company wants to hire data scientists from abc college. \n",
    "The company follows a certain criteria for selection: for a student to \n",
    "be selected, the number of backlogs should be at most 5 and the \n",
    "CGPA (Cumulative Grade Point Average) should be greater than 6. If \n",
    "the student does not fit the above criteria, then the student is not \n",
    "offered the job. If the student is selected, then the salary offered is \n",
    "equal to 5 times his/her CGPA (in lakhs).\n",
    "Accept the number of backlogs (integer) and the CGPA (float) of the \n",
    "student as input. Your task is to determine if the student is selected or \n",
    "not. If the student is selected, then print the package. If not, then \n",
    "print the string Not Selected."
   ]
  },
  {
   "cell_type": "code",
   "execution_count": 25,
   "id": "74f5d307-6ee4-4896-a678-f493dda3b713",
   "metadata": {},
   "outputs": [
    {
     "name": "stdin",
     "output_type": "stream",
     "text": [
      " 8\n",
      " 67\n"
     ]
    },
    {
     "name": "stdout",
     "output_type": "stream",
     "text": [
      "Not Selected\n"
     ]
    }
   ],
   "source": [
    "a=float(input())\n",
    "b=float(input())\n",
    "if a<=5 and b>6:\n",
    "    print(5*b)\n",
    "else:\n",
    "    print('Not Selected')\n"
   ]
  },
  {
   "cell_type": "raw",
   "id": "7a088e2a-3e46-4c10-8374-1251ae8340d8",
   "metadata": {},
   "source": [
    "31. Accept a string as input and print PALINDROME if it is a \n",
    "palindrome, and NOT PALINDROME otherwise"
   ]
  },
  {
   "cell_type": "code",
   "execution_count": 11,
   "id": "cdf5b10f-0c7b-4435-b262-ecab3d17d95c",
   "metadata": {},
   "outputs": [
    {
     "name": "stdin",
     "output_type": "stream",
     "text": [
      " malayalam\n"
     ]
    },
    {
     "name": "stdout",
     "output_type": "stream",
     "text": [
      "PALINDROME\n"
     ]
    }
   ],
   "source": [
    "string=input() \n",
    "if(string==string[::-1]): \n",
    "    print(\"PALINDROME\") \n",
    "else: \n",
    "    print(\"NOT PALINDROME\") "
   ]
  },
  {
   "cell_type": "raw",
   "id": "94aaa6f3-8957-48c7-a9fc-e120655c359a",
   "metadata": {},
   "source": [
    "32. In a portal login website, you are asked to write a function get_password_strength to decide \n",
    "the strength of a password. The strength is decided based on the total score of the password, Use \n",
    "following conditions:\n",
    "1) If password has length greater than 7 then score increases by one point.\n",
    "2) If password has at least one upper case and one lower case alphabets score increases by one point.\n",
    "3) If password has at least one number and no consecutive numbers like 12 or 234 then score \n",
    "increases by one point.\n",
    "4) If password has at least one special character (any character other than numbers and alphabets) then \n",
    "score increases by one point.\n",
    "5) If password contains username, then it is invalid password.\n",
    "If the password has score of four points, three points, two points, or one point then print Very \n",
    "Strong, Strong, Moderate, or Weak respectively. If the password is invalid, then \n",
    "print PASSWORD SHOULD NOT CONTAIN USERNAME and If the score is zero, then print Use a \n",
    "different password.The arguments to the function are username and password which are \n",
    "already defined"
   ]
  },
  {
   "cell_type": "code",
   "execution_count": 68,
   "id": "88b6f4c7-f379-4ea1-b190-2f5a3bd39e1b",
   "metadata": {},
   "outputs": [],
   "source": [
    "def get_password_strength(username,password):\n",
    "    c=0\n",
    "    capital='ABCDEFGHIJKLMNOPQRSTUVWXYZ'\n",
    "    c_flag=False\n",
    "    small='abcdefghijklmnopqrstuvwxyz'\n",
    "    s_flag=False\n",
    "    num='0123456789'\n",
    "    n_flag=False\n",
    "    nc_flag=True\n",
    "    if username in password:\n",
    "        print('PASSWORD SHOULD NOT CONTAIN USERNAME')\n",
    "        return \n",
    "    if len(password)>7:\n",
    "        c=c+1\n",
    "    for i in range(len(password)):\n",
    "        if password[i] in small:\n",
    "            s_flag=True\n",
    "        elif password[i] in capital:\n",
    "            c_flag=True\n",
    "        elif password[i] in num:\n",
    "            n_flag=True\n",
    "        if n_flag:\n",
    "            if i!=(len(password)-1):\n",
    "                if num[((num.index(password[i]))+1)]==password[i+1]:\n",
    "                    nc_flag=False\n",
    "    if c_flag and s_flag :\n",
    "             c+=1\n",
    "    if n_flag and nc_flag:\n",
    "        c+=1\n",
    "    if c==4:\n",
    "        print('Very Strong')\n",
    "        return\n",
    "    if c==3:\n",
    "        print('Strong')\n",
    "        return\n",
    "    if c==2:\n",
    "        print('Moderate')\n",
    "        return\n",
    "    if c==1:\n",
    "        print('Weak')\n",
    "        return\n",
    "    if c==0:\n",
    "        print('Use a different password')\n",
    "        return"
   ]
  },
  {
   "cell_type": "code",
   "execution_count": 73,
   "id": "357e4f4a-1efa-4327-b4ea-de696744d0dc",
   "metadata": {},
   "outputs": [
    {
     "ename": "ValueError",
     "evalue": "substring not found",
     "output_type": "error",
     "traceback": [
      "\u001b[0;31m---------------------------------------------------------------------------\u001b[0m",
      "\u001b[0;31mValueError\u001b[0m                                Traceback (most recent call last)",
      "Cell \u001b[0;32mIn [73], line 1\u001b[0m\n\u001b[0;32m----> 1\u001b[0m \u001b[43mget_password_strength\u001b[49m\u001b[43m(\u001b[49m\u001b[38;5;124;43m'\u001b[39;49m\u001b[38;5;124;43mimran\u001b[39;49m\u001b[38;5;124;43m'\u001b[39;49m\u001b[43m,\u001b[49m\u001b[38;5;124;43m'\u001b[39;49m\u001b[38;5;124;43m1nc\u001b[39;49m\u001b[38;5;124;43m'\u001b[39;49m\u001b[43m)\u001b[49m\n",
      "Cell \u001b[0;32mIn [68], line 24\u001b[0m, in \u001b[0;36mget_password_strength\u001b[0;34m(username, password)\u001b[0m\n\u001b[1;32m     22\u001b[0m     \u001b[38;5;28;01mif\u001b[39;00m n_flag:\n\u001b[1;32m     23\u001b[0m         \u001b[38;5;28;01mif\u001b[39;00m i\u001b[38;5;241m!=\u001b[39m(\u001b[38;5;28mlen\u001b[39m(password)\u001b[38;5;241m-\u001b[39m\u001b[38;5;241m1\u001b[39m):\n\u001b[0;32m---> 24\u001b[0m             \u001b[38;5;28;01mif\u001b[39;00m num[((\u001b[43mnum\u001b[49m\u001b[38;5;241;43m.\u001b[39;49m\u001b[43mindex\u001b[49m\u001b[43m(\u001b[49m\u001b[43mpassword\u001b[49m\u001b[43m[\u001b[49m\u001b[43mi\u001b[49m\u001b[43m]\u001b[49m\u001b[43m)\u001b[49m)\u001b[38;5;241m+\u001b[39m\u001b[38;5;241m1\u001b[39m)]\u001b[38;5;241m==\u001b[39mpassword[i\u001b[38;5;241m+\u001b[39m\u001b[38;5;241m1\u001b[39m]:\n\u001b[1;32m     25\u001b[0m                 nc_flag\u001b[38;5;241m=\u001b[39m\u001b[38;5;28;01mFalse\u001b[39;00m\n\u001b[1;32m     26\u001b[0m \u001b[38;5;28;01mif\u001b[39;00m c_flag \u001b[38;5;129;01mand\u001b[39;00m s_flag :\n",
      "\u001b[0;31mValueError\u001b[0m: substring not found"
     ]
    }
   ],
   "source": [
    "get_password_strength('imran','1nc')"
   ]
  },
  {
   "cell_type": "raw",
   "id": "270dcf73-14eb-4d68-af11-19e2b2865cca",
   "metadata": {},
   "source": [
    "33.decorator that logs the date and time\n",
    "#The strftime() function is used to convert date and time objects to their string representation."
   ]
  },
  {
   "cell_type": "code",
   "execution_count": 74,
   "id": "f6ecf900-b332-4243-932c-b818264f9855",
   "metadata": {},
   "outputs": [],
   "source": [
    "from datetime import datetime\n",
    "\n",
    "\n",
    "def log_datetime(func):\n",
    "    '''Log the date and time of a function'''\n",
    "\n",
    "    def wrapper():\n",
    "        print(f'Function: {func.__name__}\\nRun on: {datetime.today().strftime(\"%Y-%m-%d %H:%M:%S\")}')\n",
    "        print(f'{\"-\"*30}')\n",
    "        func()\n",
    "    return wrapper\n",
    "\n",
    "\n",
    "@log_datetime\n",
    "def daily_backup():\n",
    "\n",
    "    print('Daily backup job has finished.')   \n",
    "\n",
    "     \n"
   ]
  },
  {
   "cell_type": "code",
   "execution_count": 75,
   "id": "d247d405-6458-4fce-8520-501fe0c4886a",
   "metadata": {},
   "outputs": [
    {
     "name": "stdout",
     "output_type": "stream",
     "text": [
      "Function: daily_backup\n",
      "Run on: 2022-11-17 09:19:56\n",
      "------------------------------\n",
      "Daily backup job has finished.\n"
     ]
    }
   ],
   "source": [
    "daily_backup()"
   ]
  },
  {
   "cell_type": "raw",
   "id": "f755fc11-c84c-4110-8611-0b246aed2047",
   "metadata": {},
   "source": [
    "34.Program to Get Data Items From a List Appearing Odd Number of Times"
   ]
  },
  {
   "cell_type": "code",
   "execution_count": 76,
   "id": "b750fdf0-a2d6-46fa-8da8-302f9d2567fd",
   "metadata": {},
   "outputs": [
    {
     "name": "stdout",
     "output_type": "stream",
     "text": [
      "[2, 3, 5]\n"
     ]
    }
   ],
   "source": [
    "x = [1,2,3,4,5,1,3,3,4]\n",
    "l1 = []\n",
    "for i in x:\n",
    "    if x.count(i) % 2 != 0:\n",
    "        if i not in l1:\n",
    "            l1.append(i)\n",
    "print(l1)"
   ]
  }
 ],
 "metadata": {
  "kernelspec": {
   "display_name": "Python 3 (ipykernel)",
   "language": "python",
   "name": "python3"
  },
  "language_info": {
   "codemirror_mode": {
    "name": "ipython",
    "version": 3
   },
   "file_extension": ".py",
   "mimetype": "text/x-python",
   "name": "python",
   "nbconvert_exporter": "python",
   "pygments_lexer": "ipython3",
   "version": "3.10.6"
  }
 },
 "nbformat": 4,
 "nbformat_minor": 5
}
