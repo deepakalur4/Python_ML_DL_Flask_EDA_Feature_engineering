{
  "nbformat": 4,
  "nbformat_minor": 0,
  "metadata": {
    "colab": {
      "provenance": [],
      "collapsed_sections": []
    },
    "kernelspec": {
      "name": "python3",
      "display_name": "Python 3"
    },
    "language_info": {
      "name": "python"
    }
  },
  "cells": [
    {
      "cell_type": "markdown",
      "source": [
        "# ASSIGNMENTS - Compulsory\n",
        "## Send it before 0000 hrs IST or 12 AM Wednesday\n",
        "\n",
        "## NOTE: Evaluation will be done before next class.\n",
        "\n",
        "## HOW TO SUBMIT: -\n",
        "Download this notebook, Solve it and upload in the google form given in the mail."
      ],
      "metadata": {
        "id": "cyOfbWCdOjEr"
      }
    },
    {
      "cell_type": "markdown",
      "source": [
        "## Python String Manipulation\n",
        "\n",
        "\n",
        "\n",
        "\n",
        "\n",
        "\n"
      ],
      "metadata": {
        "id": "GT4IytkJMNa-"
      }
    },
    {
      "cell_type": "markdown",
      "source": [
        "1. Count the number of times `iNeuron` appears in the string.\n",
        "```python\n",
        "text = \"Welcome to iNeuron, You are a part of FSDS Bootcamp 2 in iNeuron. I hope you are enjoying the course by iNeuron\"\n",
        "```"
      ],
      "metadata": {
        "id": "G_G-XxD0V3JP"
      }
    },
    {
      "cell_type": "code",
      "source": [
        "text = \"Welcome to iNeuron, You are a part of FSDS Bootcamp 2 in iNeuron. I hope you are enjoying the course by iNeuron\"\n",
        "text.count(\"iNeuron\") #3 times"
      ],
      "metadata": {
        "id": "KwVni9gipNi-",
        "colab": {
          "base_uri": "https://localhost:8080/"
        },
        "outputId": "9279ab54-5b00-4318-b6c2-e9ee9e3045ec"
      },
      "execution_count": 11,
      "outputs": [
        {
          "output_type": "execute_result",
          "data": {
            "text/plain": [
              "3"
            ]
          },
          "metadata": {},
          "execution_count": 11
        }
      ]
    },
    {
      "cell_type": "markdown",
      "source": [
        "2. Check if position `5` to `11` ends with the phrase `iNeuron.` in the string \n",
        "```python\n",
        "txt = \"Hello, welcome to FSDS 2.0 at iNeuron.\"\n",
        "```"
      ],
      "metadata": {
        "id": "VSAa2rCkWK6i"
      }
    },
    {
      "cell_type": "code",
      "source": [
        "txt.index(\"on\")"
      ],
      "metadata": {
        "colab": {
          "base_uri": "https://localhost:8080/"
        },
        "id": "t-f3LfXDgAX7",
        "outputId": "c4c20301-3eb8-40e1-f867-b324c882e135"
      },
      "execution_count": 12,
      "outputs": [
        {
          "output_type": "execute_result",
          "data": {
            "text/plain": [
              "35"
            ]
          },
          "metadata": {},
          "execution_count": 12
        }
      ]
    },
    {
      "cell_type": "code",
      "source": [
        "txt = \"Hello, welcome to FSDS 2.0 at iNeuron.\"\n",
        "x=txt.endswith(\"iNeuron\",5,11)\n",
        "print(x)"
      ],
      "metadata": {
        "colab": {
          "base_uri": "https://localhost:8080/"
        },
        "id": "RcIdJLfJV-uw",
        "outputId": "a77e60a8-7d23-4c1f-fbe5-6a083e0c8ea0"
      },
      "execution_count": 13,
      "outputs": [
        {
          "output_type": "stream",
          "name": "stdout",
          "text": [
            "False\n"
          ]
        }
      ]
    },
    {
      "cell_type": "markdown",
      "source": [
        "3. Write a program that takes your full name as input and displays the abbreviations of the first and middle names except the last name which is displayed as it is. For example, if your name is Sunny Bhaveen Chandra, then the output should be S.B.Chandra."
      ],
      "metadata": {
        "id": "wYyakGFqWvpF"
      }
    },
    {
      "cell_type": "code",
      "source": [
        "First_name,middle_name,sir_name=input(\"Please Enter the full name: \").split(\" \")\n",
        "print(f\"{First_name[0]}.{middle_name[0]}.{sir_name}.\")"
      ],
      "metadata": {
        "colab": {
          "base_uri": "https://localhost:8080/"
        },
        "id": "K04Vf2RiWfK8",
        "outputId": "a8bf5d0d-4c36-4db0-fa03-f472a0e6c7ca"
      },
      "execution_count": 14,
      "outputs": [
        {
          "output_type": "stream",
          "name": "stdout",
          "text": [
            "Please Enter the full name: Deepak Shivayogi Alur\n",
            "D.S.Alur.\n"
          ]
        }
      ]
    },
    {
      "cell_type": "markdown",
      "source": [
        "4. Join all items in a list into a string, using a hash(`#`) character as separator:\n",
        "```python\n",
        "LIST = [\"My\", \"name\", \"is\", \"Rishav\", \"Dash\"]\n",
        "```"
      ],
      "metadata": {
        "id": "nvS83is5X15X"
      }
    },
    {
      "cell_type": "code",
      "source": [
        "LIST = [\"My\", \"name\", \"is\", \"Rishav\", \"Dash\"]\n",
        "LIST=(\"#\").join(LIST)\n",
        "LIST"
      ],
      "metadata": {
        "colab": {
          "base_uri": "https://localhost:8080/",
          "height": 35
        },
        "id": "AKCfM5IFXYS8",
        "outputId": "485be6e1-77d3-4ff3-e828-a52fe4dff428"
      },
      "execution_count": 15,
      "outputs": [
        {
          "output_type": "execute_result",
          "data": {
            "text/plain": [
              "'My#name#is#Rishav#Dash'"
            ],
            "application/vnd.google.colaboratory.intrinsic+json": {
              "type": "string"
            }
          },
          "metadata": {},
          "execution_count": 15
        }
      ]
    },
    {
      "cell_type": "markdown",
      "source": [
        "\n",
        "5. Write example for the following string manipulation function,\n",
        "\n",
        "  ```\n",
        "  - isdecimal()\n",
        "  - islower()\n",
        "  - isupper()\n",
        "  - isalpha()\n",
        "  - isnumeric()\n",
        "\n",
        "  ```"
      ],
      "metadata": {
        "id": "MZnrxWmBYJeh"
      }
    },
    {
      "cell_type": "code",
      "source": [
        "number=\"Deepak\"\n",
        "print(number.isdecimal()) #Returns False as Deepak is a string"
      ],
      "metadata": {
        "colab": {
          "base_uri": "https://localhost:8080/"
        },
        "id": "W7vsDZkaX0xO",
        "outputId": "97641892-61f3-44d0-ca68-90e75145cebd"
      },
      "execution_count": 16,
      "outputs": [
        {
          "output_type": "stream",
          "name": "stdout",
          "text": [
            "False\n"
          ]
        }
      ]
    },
    {
      "cell_type": "code",
      "source": [
        "number=\"deepak\"\n",
        "print(number.islower()) #Returns true because all are lower characters in the string"
      ],
      "metadata": {
        "colab": {
          "base_uri": "https://localhost:8080/"
        },
        "id": "FORpzdcvYRVl",
        "outputId": "e1977727-8330-4431-d078-3a65c3e9048e"
      },
      "execution_count": 17,
      "outputs": [
        {
          "output_type": "stream",
          "name": "stdout",
          "text": [
            "True\n"
          ]
        }
      ]
    },
    {
      "cell_type": "code",
      "source": [
        "number=\"DEEPAK\"\n",
        "print(number.isupper()) #Returns true because all are upper characters in the string"
      ],
      "metadata": {
        "colab": {
          "base_uri": "https://localhost:8080/"
        },
        "id": "e0hbNZHTZTLG",
        "outputId": "88e54182-a12e-46ab-99e5-c6ae763ec88d"
      },
      "execution_count": 18,
      "outputs": [
        {
          "output_type": "stream",
          "name": "stdout",
          "text": [
            "True\n"
          ]
        }
      ]
    },
    {
      "cell_type": "code",
      "source": [
        "number=\"DEEPAK123\"\n",
        "print(number.isalpha()) #Returns false because all are upper characters in the string are not alphabets"
      ],
      "metadata": {
        "colab": {
          "base_uri": "https://localhost:8080/"
        },
        "id": "MRviZD4KZdZ1",
        "outputId": "e1796ae7-1cb1-4234-87fd-ab5ee78d9f9d"
      },
      "execution_count": 19,
      "outputs": [
        {
          "output_type": "stream",
          "name": "stdout",
          "text": [
            "False\n"
          ]
        }
      ]
    },
    {
      "cell_type": "code",
      "source": [
        "number=\"123\"\n",
        "print(number.isnumeric()) #Returns true because all are upper characters in the string are numeric values"
      ],
      "metadata": {
        "colab": {
          "base_uri": "https://localhost:8080/"
        },
        "id": "H35JlElCZi3K",
        "outputId": "d6916e26-b872-4c45-f8c3-53d077746217"
      },
      "execution_count": 20,
      "outputs": [
        {
          "output_type": "stream",
          "name": "stdout",
          "text": [
            "True\n"
          ]
        }
      ]
    },
    {
      "cell_type": "markdown",
      "source": [
        "6. Indian PAN card format follows the following formats - \n",
        "    - `AYEPC7894X`\n",
        "    - `ABCDE9999Y`\n",
        "  Take user input for PAN_CARD and validate as per the above example."
      ],
      "metadata": {
        "id": "mWbcXkIzaFgB"
      }
    },
    {
      "cell_type": "code",
      "source": [
        "User_input=input(\"Please Enter your pan card number: \")\n",
        "\n",
        "if len(User_input)==10 and (User_input[0:5].isalpha()) and (User_input[-5:-1].isnumeric()) and (User_input[-1].isalpha()):\n",
        "  if (User_input[0:5].isupper()) and (User_input[-1].isupper()):\n",
        "    print(\"Its the pan_card\")\n",
        "  else:\n",
        "    print(\"Its not the pan_card\")\n",
        "else:\n",
        "  print(\"Its not the pan_card\")"
      ],
      "metadata": {
        "colab": {
          "base_uri": "https://localhost:8080/"
        },
        "id": "1OPxv9TYZ9R2",
        "outputId": "9f528aaf-8d75-483c-8a95-d76bf1d34ff9"
      },
      "execution_count": 21,
      "outputs": [
        {
          "output_type": "stream",
          "name": "stdout",
          "text": [
            "Please Enter your pan card number: AYEPC7894X\n",
            "Its the pan_card\n"
          ]
        }
      ]
    }
  ]
}