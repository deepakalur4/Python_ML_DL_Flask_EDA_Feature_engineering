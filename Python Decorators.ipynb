{
 "cells": [
  {
   "cell_type": "markdown",
   "id": "23135042-f4f6-49e1-8210-71922ecfd5c5",
   "metadata": {},
   "source": [
    "## Function"
   ]
  },
  {
   "cell_type": "code",
   "execution_count": null,
   "id": "ae87f412-8579-443a-982a-9faca4f10455",
   "metadata": {},
   "outputs": [],
   "source": [
    "def function_name(parameters):\n",
    "\t\"\"\"docstring\"\"\"\n",
    "\tstatement(s)"
   ]
  },
  {
   "cell_type": "code",
   "execution_count": null,
   "id": "1e14580c-bb4f-4421-99f4-bb5343dcfc63",
   "metadata": {},
   "outputs": [],
   "source": [
    "Example of a function"
   ]
  },
  {
   "cell_type": "code",
   "execution_count": 3,
   "id": "be831ad7-2d08-4098-a861-22a82a78dbdc",
   "metadata": {},
   "outputs": [],
   "source": [
    "def test(name):\n",
    "    \"\"\"\n",
    "    This function greets to\n",
    "    the person passed in as\n",
    "    a parameter\n",
    "    \"\"\"\n",
    "    print(\"Hello, \" + name + \". Good morning!\")"
   ]
  },
  {
   "cell_type": "code",
   "execution_count": 5,
   "id": "5e81ad36-3bcb-4c2d-931c-3a9bebc734d5",
   "metadata": {},
   "outputs": [
    {
     "name": "stdout",
     "output_type": "stream",
     "text": [
      "Hello, imran. Good morning!\n"
     ]
    }
   ],
   "source": [
    "test('imran')"
   ]
  },
  {
   "cell_type": "markdown",
   "id": "45d129ca-0aad-4a8e-ba4f-a6aceac5098c",
   "metadata": {},
   "source": [
    "## The return statement"
   ]
  },
  {
   "cell_type": "raw",
   "id": "d707d3d1-7dbe-4a35-8481-98e586892a45",
   "metadata": {},
   "source": [
    "The return statement is used to exit a function and go back to the place from where it was called."
   ]
  },
  {
   "cell_type": "raw",
   "id": "5df50995-9971-4184-b6af-82738c5d8c83",
   "metadata": {},
   "source": [
    "Syntax of return\n",
    "return [expression_list]"
   ]
  },
  {
   "cell_type": "raw",
   "id": "7ad41b97-e643-4186-adc0-92c8364c1423",
   "metadata": {},
   "source": [
    "This statement can contain an expression that gets evaluated and the value is returned. If there is no expression in \n",
    "the statement or the return statement itself is not present inside a function, then the function will return the None object."
   ]
  },
  {
   "cell_type": "code",
   "execution_count": 6,
   "id": "0556514b-6b16-4c74-8f86-c370aadd0ac7",
   "metadata": {},
   "outputs": [
    {
     "name": "stdout",
     "output_type": "stream",
     "text": [
      "Hello, Ineuron. Good morning!\n"
     ]
    }
   ],
   "source": [
    "test(\"Ineuron\")"
   ]
  },
  {
   "cell_type": "code",
   "execution_count": 7,
   "id": "c4c7ad4c-7222-44c6-9025-e377d8fb1385",
   "metadata": {},
   "outputs": [
    {
     "name": "stdout",
     "output_type": "stream",
     "text": [
      "Hello, Ineuron. Good morning!\n",
      "None\n"
     ]
    }
   ],
   "source": [
    " print(test(\"Ineuron\"))"
   ]
  },
  {
   "cell_type": "raw",
   "id": "12995a5f-c452-43ed-a13b-279369ad219f",
   "metadata": {},
   "source": [
    "Here, None is the returned value since greet() directly prints the name and no return statement is used."
   ]
  },
  {
   "cell_type": "raw",
   "id": "37baa17b-9fd8-4930-a493-2f3103e56079",
   "metadata": {},
   "source": [
    "Example of return"
   ]
  },
  {
   "cell_type": "code",
   "execution_count": 8,
   "id": "b271fb46-71e5-40fc-b501-6d6d9676dace",
   "metadata": {},
   "outputs": [
    {
     "name": "stdout",
     "output_type": "stream",
     "text": [
      "2\n",
      "4\n"
     ]
    }
   ],
   "source": [
    "def absolute_value(num):\n",
    "    \"\"\"This function returns the absolute\n",
    "    value of the entered number\"\"\"\n",
    "\n",
    "    if num >= 0:\n",
    "        return num\n",
    "    else:\n",
    "        return -num\n",
    "\n",
    "\n",
    "print(absolute_value(2))\n",
    "\n",
    "print(absolute_value(-4))"
   ]
  },
  {
   "cell_type": "markdown",
   "id": "5949a920-bfc4-4771-94f3-996083d37092",
   "metadata": {},
   "source": [
    "## Python Decorators"
   ]
  },
  {
   "cell_type": "code",
   "execution_count": 9,
   "id": "6579d84a-0d5e-4e39-b12e-0ad5f63dbaa3",
   "metadata": {},
   "outputs": [],
   "source": [
    "def square(x):\n",
    "    return x * x"
   ]
  },
  {
   "cell_type": "code",
   "execution_count": 10,
   "id": "7b71e181-77f3-42b6-aff6-a38817c115dc",
   "metadata": {},
   "outputs": [],
   "source": [
    "f=square(5)"
   ]
  },
  {
   "cell_type": "code",
   "execution_count": 11,
   "id": "3285daca-6d5b-46f9-861d-38a129c9b041",
   "metadata": {},
   "outputs": [
    {
     "data": {
      "text/plain": [
       "25"
      ]
     },
     "execution_count": 11,
     "metadata": {},
     "output_type": "execute_result"
    }
   ],
   "source": [
    "f"
   ]
  },
  {
   "cell_type": "code",
   "execution_count": 12,
   "id": "eddbd37d-0e2e-4f74-92ac-f9415e9c7cf9",
   "metadata": {},
   "outputs": [
    {
     "data": {
      "text/plain": [
       "int"
      ]
     },
     "execution_count": 12,
     "metadata": {},
     "output_type": "execute_result"
    }
   ],
   "source": [
    "type(f)"
   ]
  },
  {
   "cell_type": "code",
   "execution_count": 13,
   "id": "075e4672-ebad-492f-9e5c-69c42bd6e1fb",
   "metadata": {},
   "outputs": [
    {
     "name": "stdout",
     "output_type": "stream",
     "text": [
      "<function square at 0x7fb84c749990>\n",
      "25\n"
     ]
    }
   ],
   "source": [
    "print(square)\n",
    "print(f)"
   ]
  },
  {
   "cell_type": "code",
   "execution_count": 14,
   "id": "7dd5951b-b0ca-47e6-89e8-250e83d0f53b",
   "metadata": {},
   "outputs": [],
   "source": [
    "f=square"
   ]
  },
  {
   "cell_type": "code",
   "execution_count": 15,
   "id": "58c9f915-256a-484a-af41-1d48dda9a1b9",
   "metadata": {},
   "outputs": [
    {
     "name": "stdout",
     "output_type": "stream",
     "text": [
      "<function square at 0x7fb84c749990>\n",
      "<function square at 0x7fb84c749990>\n"
     ]
    }
   ],
   "source": [
    "print(square)\n",
    "print(f)"
   ]
  },
  {
   "cell_type": "code",
   "execution_count": 16,
   "id": "2be2c87f-dcb0-433d-91ca-e23841bbe88e",
   "metadata": {},
   "outputs": [
    {
     "data": {
      "text/plain": [
       "25"
      ]
     },
     "execution_count": 16,
     "metadata": {},
     "output_type": "execute_result"
    }
   ],
   "source": [
    "f(5)"
   ]
  },
  {
   "cell_type": "code",
   "execution_count": 17,
   "id": "1ec68f8a-980f-49ef-bc51-e0bfb23c0a94",
   "metadata": {},
   "outputs": [
    {
     "data": {
      "text/plain": [
       "function"
      ]
     },
     "execution_count": 17,
     "metadata": {},
     "output_type": "execute_result"
    }
   ],
   "source": [
    "type(f)"
   ]
  },
  {
   "cell_type": "code",
   "execution_count": 18,
   "id": "e593ef27-7216-4ab0-9472-b52791a9636d",
   "metadata": {},
   "outputs": [
    {
     "name": "stdout",
     "output_type": "stream",
     "text": [
      "<function square at 0x7fb84c749990>\n",
      "25\n"
     ]
    }
   ],
   "source": [
    "print(square)\n",
    "print(f(5))"
   ]
  },
  {
   "cell_type": "raw",
   "id": "c497c3dc-32c3-4393-b60a-bd84bd92ad59",
   "metadata": {},
   "source": [
    "--------------------------------------------------------------------------------"
   ]
  },
  {
   "cell_type": "code",
   "execution_count": 19,
   "id": "45774d61-756e-4eb4-8dc9-34e36827811b",
   "metadata": {},
   "outputs": [],
   "source": [
    "def outer_func():\n",
    "    message=\"Hi\"\n",
    "    \n",
    "    def inner_func():\n",
    "        print(message)\n",
    "    return inner_func()\n",
    "#exceuting innter function and returning\n",
    "#inner_func() is executing\n",
    "#return a function without executing it inner_func after these we need to assign a vvaribale"
   ]
  },
  {
   "cell_type": "code",
   "execution_count": 20,
   "id": "9aa6cb4c-46a9-49fa-9576-7235b8646698",
   "metadata": {},
   "outputs": [
    {
     "name": "stdout",
     "output_type": "stream",
     "text": [
      "Hi\n"
     ]
    }
   ],
   "source": [
    "outer_func()"
   ]
  },
  {
   "cell_type": "code",
   "execution_count": 21,
   "id": "b7387ee3-9dd1-4c48-bc6e-d87d5e010637",
   "metadata": {},
   "outputs": [],
   "source": [
    "def outer_func():\n",
    "    message=\"Hi\"\n",
    "    \n",
    "    def inner_func():\n",
    "        print(message)\n",
    "    return inner_func"
   ]
  },
  {
   "cell_type": "code",
   "execution_count": 22,
   "id": "7ba2e75d-3388-4cac-8007-7d26d00b8dc4",
   "metadata": {},
   "outputs": [],
   "source": [
    "my_func =outer_func()"
   ]
  },
  {
   "cell_type": "code",
   "execution_count": 23,
   "id": "62a46417-c58c-4a72-97a1-b8cc8689d58f",
   "metadata": {},
   "outputs": [
    {
     "data": {
      "text/plain": [
       "function"
      ]
     },
     "execution_count": 23,
     "metadata": {},
     "output_type": "execute_result"
    }
   ],
   "source": [
    "type(my_func)"
   ]
  },
  {
   "cell_type": "code",
   "execution_count": 24,
   "id": "5df469e4-b4d0-43f4-8678-aa8b4ab96dae",
   "metadata": {},
   "outputs": [
    {
     "name": "stdout",
     "output_type": "stream",
     "text": [
      "<function outer_func.<locals>.inner_func at 0x7fb84c749ea0>\n"
     ]
    }
   ],
   "source": [
    "print(my_func)"
   ]
  },
  {
   "cell_type": "code",
   "execution_count": 25,
   "id": "9c1e5171-9270-413f-9d01-b068d49a86af",
   "metadata": {},
   "outputs": [
    {
     "name": "stdout",
     "output_type": "stream",
     "text": [
      "Hi\n"
     ]
    }
   ],
   "source": [
    "my_func()"
   ]
  },
  {
   "cell_type": "raw",
   "id": "a0381653-6058-4853-b615-10d7cbfa7b72",
   "metadata": {},
   "source": [
    "A decorator is a design pattern in Python that allows a user to add new functionality \n",
    "to an existing object without modifying its structure."
   ]
  },
  {
   "cell_type": "code",
   "execution_count": 26,
   "id": "797660ae-948c-4e5a-a264-5d5cbe882aa0",
   "metadata": {},
   "outputs": [],
   "source": [
    "def printer():\n",
    "    print(\"hello world!\")"
   ]
  },
  {
   "cell_type": "code",
   "execution_count": 27,
   "id": "c90ae6df-f40b-4e3a-a1c0-c089c0b1f7d5",
   "metadata": {},
   "outputs": [],
   "source": [
    "def display_info(func):\n",
    "    def inner():\n",
    "        print(\"Executing\",func.__name__,\"function\")\n",
    "        func()\n",
    "        print(\"finished exceution\")\n",
    "    return inner"
   ]
  },
  {
   "cell_type": "code",
   "execution_count": 28,
   "id": "5c9dc7ba-dacc-435e-a2d2-acc9424ffaf9",
   "metadata": {},
   "outputs": [
    {
     "name": "stdout",
     "output_type": "stream",
     "text": [
      "Executing printer function\n",
      "hello world!\n",
      "finished exceution\n"
     ]
    }
   ],
   "source": [
    "decorated_func=display_info(printer)\n",
    "decorated_func()"
   ]
  },
  {
   "cell_type": "raw",
   "id": "0186766e-15c6-45c7-aff0-3f8caf0b332c",
   "metadata": {},
   "source": [
    "********************************************************************\n",
    "Above code can be written in other form\n",
    "********************************************************************"
   ]
  },
  {
   "cell_type": "code",
   "execution_count": 33,
   "id": "130aff44-fa60-447c-9e3f-612195247080",
   "metadata": {},
   "outputs": [],
   "source": [
    "def display_info(func):\n",
    "    def inner():\n",
    "        print(\"Executing\",func.__name__,\"function\")\n",
    "        func()\n",
    "        print(\"finished exceution\")\n",
    "    return inner"
   ]
  },
  {
   "cell_type": "code",
   "execution_count": 34,
   "id": "41fd249f-be7d-4fd8-b38c-d158bd73b022",
   "metadata": {},
   "outputs": [],
   "source": [
    "@display_info\n",
    "def printer():\n",
    "    print(\"hello world!\")"
   ]
  },
  {
   "cell_type": "code",
   "execution_count": 35,
   "id": "7fef16ad-4698-40bf-ba1b-db82c67a538b",
   "metadata": {},
   "outputs": [
    {
     "name": "stdout",
     "output_type": "stream",
     "text": [
      "Executing printer function\n",
      "hello world!\n",
      "finished exceution\n"
     ]
    }
   ],
   "source": [
    "printer()"
   ]
  },
  {
   "cell_type": "raw",
   "id": "43168a1d-e9a4-4a2b-bcbd-cb65c14c83c2",
   "metadata": {},
   "source": [
    "---------------------------------------------------------------------------------------------------"
   ]
  },
  {
   "cell_type": "code",
   "execution_count": 36,
   "id": "ce00d29c-832b-441b-bc60-673c58b90233",
   "metadata": {},
   "outputs": [],
   "source": [
    "def divide(a, b):\n",
    "    return a/b"
   ]
  },
  {
   "cell_type": "code",
   "execution_count": 37,
   "id": "ddf173a3-9e58-496c-9494-7ce27e91adf1",
   "metadata": {},
   "outputs": [
    {
     "data": {
      "text/plain": [
       "0.4"
      ]
     },
     "execution_count": 37,
     "metadata": {},
     "output_type": "execute_result"
    }
   ],
   "source": [
    "divide(2,5)"
   ]
  },
  {
   "cell_type": "code",
   "execution_count": 38,
   "id": "a277e48f-f12a-4f38-b1c6-d1ce46f8b2cb",
   "metadata": {},
   "outputs": [
    {
     "ename": "ZeroDivisionError",
     "evalue": "division by zero",
     "output_type": "error",
     "traceback": [
      "\u001b[0;31m---------------------------------------------------------------------------\u001b[0m",
      "\u001b[0;31mZeroDivisionError\u001b[0m                         Traceback (most recent call last)",
      "Cell \u001b[0;32mIn [38], line 1\u001b[0m\n\u001b[0;32m----> 1\u001b[0m \u001b[43mdivide\u001b[49m\u001b[43m(\u001b[49m\u001b[38;5;241;43m2\u001b[39;49m\u001b[43m,\u001b[49m\u001b[38;5;241;43m0\u001b[39;49m\u001b[43m)\u001b[49m\n",
      "Cell \u001b[0;32mIn [36], line 2\u001b[0m, in \u001b[0;36mdivide\u001b[0;34m(a, b)\u001b[0m\n\u001b[1;32m      1\u001b[0m \u001b[38;5;28;01mdef\u001b[39;00m \u001b[38;5;21mdivide\u001b[39m(a, b):\n\u001b[0;32m----> 2\u001b[0m     \u001b[38;5;28;01mreturn\u001b[39;00m \u001b[43ma\u001b[49m\u001b[38;5;241;43m/\u001b[39;49m\u001b[43mb\u001b[49m\n",
      "\u001b[0;31mZeroDivisionError\u001b[0m: division by zero"
     ]
    }
   ],
   "source": [
    "divide(2,0)"
   ]
  },
  {
   "cell_type": "code",
   "execution_count": 39,
   "id": "3aac4298-5c35-45a6-9093-6bf0f51be542",
   "metadata": {},
   "outputs": [],
   "source": [
    "def smart_divide(func):\n",
    "    def inner(a, b):\n",
    "        print(\"I am going to divide\", a, \"and\", b)\n",
    "        if b == 0:\n",
    "            print(\"Whoops! cannot divide\")\n",
    "            return\n",
    "\n",
    "        return func(a, b)\n",
    "    return inner"
   ]
  },
  {
   "cell_type": "code",
   "execution_count": 40,
   "id": "8635d012-d646-450d-baf8-31c49edeacd5",
   "metadata": {},
   "outputs": [],
   "source": [
    "def inner(a, b):\n",
    "        print(\"I am going to divide\", a, \"and\", b)\n",
    "        if b == 0:\n",
    "            print(\"Whoops! cannot divide\")\n",
    "            return"
   ]
  },
  {
   "cell_type": "code",
   "execution_count": 42,
   "id": "88cfaf4a-0c53-481e-a4d8-13cbe0550998",
   "metadata": {},
   "outputs": [
    {
     "name": "stdout",
     "output_type": "stream",
     "text": [
      "I am going to divide 4 and 2\n",
      "None\n"
     ]
    }
   ],
   "source": [
    "print(inner(4,2))"
   ]
  },
  {
   "cell_type": "code",
   "execution_count": 43,
   "id": "8344cfd6-9c03-4783-9c70-ed3d4a4200b1",
   "metadata": {},
   "outputs": [],
   "source": [
    "def smart_divide(func):\n",
    "    def inner(a, b):\n",
    "        print(\"I am going to divide\", a, \"and\", b)\n",
    "        if b == 0:\n",
    "            print(\"Whoops! cannot divide\")\n",
    "            return\n",
    "\n",
    "        return func(a, b)\n",
    "    return inner"
   ]
  },
  {
   "cell_type": "code",
   "execution_count": 44,
   "id": "689ae819-d86c-4058-8da4-151d821312f6",
   "metadata": {},
   "outputs": [],
   "source": [
    "@smart_divide\n",
    "def divide(a, b):\n",
    "    print(a/b)"
   ]
  },
  {
   "cell_type": "code",
   "execution_count": 45,
   "id": "28d4bd27-e05f-457f-85a6-b00d4ddb3660",
   "metadata": {},
   "outputs": [
    {
     "name": "stdout",
     "output_type": "stream",
     "text": [
      "I am going to divide 2 and 5\n",
      "0.4\n"
     ]
    }
   ],
   "source": [
    "divide(2,5)"
   ]
  },
  {
   "cell_type": "code",
   "execution_count": 46,
   "id": "616aea8d-5c5e-4523-a398-064673c5768f",
   "metadata": {},
   "outputs": [
    {
     "name": "stdout",
     "output_type": "stream",
     "text": [
      "I am going to divide 2 and 0\n",
      "Whoops! cannot divide\n"
     ]
    }
   ],
   "source": [
    "divide(2,0)\n",
    "    "
   ]
  },
  {
   "cell_type": "markdown",
   "id": "d7f47758-9f88-4de9-8224-cafe662c03a5",
   "metadata": {},
   "source": [
    "## Chaining Decorators in Python"
   ]
  },
  {
   "cell_type": "raw",
   "id": "a216bfb2-4a14-4643-87d9-c3226b48713b",
   "metadata": {},
   "source": [
    "This is to say, a function can be decorated multiple times with different (or same) decorators. We simply \n",
    "place the decorators above the desired function.\n",
    "\n"
   ]
  },
  {
   "cell_type": "code",
   "execution_count": 48,
   "id": "fdd57aab-406b-4812-a4e1-dcb214f543ac",
   "metadata": {},
   "outputs": [
    {
     "name": "stdout",
     "output_type": "stream",
     "text": [
      "******************************\n",
      "%%%%%%%%%%%%%%%%%%%%%%%%%%%%%%\n",
      "Hello\n",
      "%%%%%%%%%%%%%%%%%%%%%%%%%%%%%%\n",
      "******************************\n"
     ]
    }
   ],
   "source": [
    "def star(func):\n",
    "    def inner(*args, **kwargs):\n",
    "        print(\"*\" * 30)\n",
    "        func(*args, **kwargs)\n",
    "        print(\"*\" * 30)\n",
    "    return inner\n",
    "\n",
    "\n",
    "def percent(func):\n",
    "    def inner(*args, **kwargs):\n",
    "        print(\"%\" * 30)\n",
    "        func(*args, **kwargs)\n",
    "        print(\"%\" * 30)\n",
    "    return inner\n",
    "\n",
    "\n",
    "@star\n",
    "@percent\n",
    "def printer(msg):\n",
    "    print(msg)\n",
    "\n",
    "\n",
    "printer(\"Hello\")"
   ]
  },
  {
   "attachments": {
    "f5995941-a8b0-41f4-ae52-a500ab6274a3.png": {
     "image/png": "[encoded data removed]"
    }
   },
   "cell_type": "markdown",
   "id": "b8ec37c1-4939-4201-93dd-bb1410e78a51",
   "metadata": {},
   "source": [
    "![image.png](attachment:f5995941-a8b0-41f4-ae52-a500ab6274a3.png)"
   ]
  },
  {
   "cell_type": "raw",
   "id": "e91020a4-378d-432c-afe5-49665ba5314a",
   "metadata": {},
   "source": [
    "The order in which we chain decorators matter. If we had reversed the order as,"
   ]
  },
  {
   "cell_type": "code",
   "execution_count": 51,
   "id": "6a8603f5-dd0b-4b67-a131-5f7821a0f4bd",
   "metadata": {},
   "outputs": [
    {
     "name": "stdout",
     "output_type": "stream",
     "text": [
      "%%%%%%%%%%%%%%%%%%%%%%%%%%%%%%\n",
      "******************************\n",
      "Hello\n",
      "******************************\n",
      "%%%%%%%%%%%%%%%%%%%%%%%%%%%%%%\n"
     ]
    }
   ],
   "source": [
    "def star(func):\n",
    "    def inner(*args, **kwargs):\n",
    "        print(\"*\" * 30)\n",
    "        func(*args, **kwargs)\n",
    "        print(\"*\" * 30)\n",
    "    return inner\n",
    "\n",
    "\n",
    "def percent(func):\n",
    "    def inner(*args, **kwargs):\n",
    "        print(\"%\" * 30)\n",
    "        func(*args, **kwargs)\n",
    "        print(\"%\" * 30)\n",
    "    return inner\n",
    "\n",
    "\n",
    "\n",
    "@percent\n",
    "@star\n",
    "def printer(msg):\n",
    "    print(msg)\n",
    "    \n",
    "printer(\"Hello\")"
   ]
  },
  {
   "cell_type": "code",
   "execution_count": null,
   "id": "12bac8f8-09c9-458d-8c8d-74fbc6e07876",
   "metadata": {},
   "outputs": [],
   "source": []
  },
  {
   "cell_type": "code",
   "execution_count": null,
   "id": "d51c48dd-ca59-44dd-aa1f-29678289a481",
   "metadata": {},
   "outputs": [],
   "source": []
  },
  {
   "cell_type": "code",
   "execution_count": null,
   "id": "4b489dc0-62a7-45fa-ad9d-8a5dc84e2c02",
   "metadata": {},
   "outputs": [],
   "source": []
  }
 ],
 "metadata": {
  "kernelspec": {
   "display_name": "Python 3 (ipykernel)",
   "language": "python",
   "name": "python3"
  },
  "language_info": {
   "codemirror_mode": {
    "name": "ipython",
    "version": 3
   },
   "file_extension": ".py",
   "mimetype": "text/x-python",
   "name": "python",
   "nbconvert_exporter": "python",
   "pygments_lexer": "ipython3",
   "version": "3.10.6"
  }
 },
 "nbformat": 4,
 "nbformat_minor": 5
}
