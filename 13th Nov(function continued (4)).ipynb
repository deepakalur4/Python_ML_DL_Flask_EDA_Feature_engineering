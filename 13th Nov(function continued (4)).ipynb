{
 "cells": [
  {
   "cell_type": "code",
   "execution_count": 230,
   "id": "65ac245e-663b-4f71-89cb-95ce98d24f5e",
   "metadata": {},
   "outputs": [],
   "source": [
    "def test1(func) : \n",
    "    def test2():\n",
    "        \n",
    "        print(\"i am inside test2 \" ) \n",
    "        func()\n",
    "        print(func())\n",
    "        \n",
    "        print(\"functino executed \")\n",
    "        return func()\n",
    "    return test2"
   ]
  },
  {
   "cell_type": "code",
   "execution_count": 31,
   "id": "6b975598-a278-40b0-8ba0-5016bfadefa8",
   "metadata": {},
   "outputs": [],
   "source": [
    "@test1\n",
    "def test3():\n",
    "    print(\"this is my test3\")"
   ]
  },
  {
   "cell_type": "code",
   "execution_count": 32,
   "id": "2a018f9f-dc0d-4150-9ae9-5d4b372739b4",
   "metadata": {},
   "outputs": [
    {
     "name": "stdout",
     "output_type": "stream",
     "text": [
      "i am inside test2 \n",
      "this is my test3\n",
      "this is my test3\n",
      "None\n",
      "functino executed \n",
      "this is my test3\n"
     ]
    }
   ],
   "source": [
    "test3()"
   ]
  },
  {
   "cell_type": "code",
   "execution_count": 16,
   "id": "105e0432-5083-42da-a480-da7cdaa18b8a",
   "metadata": {},
   "outputs": [
    {
     "name": "stdout",
     "output_type": "stream",
     "text": [
      "i am inside test2 \n",
      "this is my test3\n",
      "this is my test3\n",
      "None\n",
      "functino executed \n"
     ]
    },
    {
     "data": {
      "text/plain": [
       "<function __main__.test1.<locals>.test2()>"
      ]
     },
     "execution_count": 16,
     "metadata": {},
     "output_type": "execute_result"
    }
   ],
   "source": [
    "test1(test3())"
   ]
  },
  {
   "cell_type": "code",
   "execution_count": 33,
   "id": "f47de6cc-576d-4b30-a38c-ae29b09f091a",
   "metadata": {},
   "outputs": [],
   "source": [
    "@test1\n",
    "def test4():\n",
    "    return 5+6"
   ]
  },
  {
   "cell_type": "code",
   "execution_count": 35,
   "id": "b8479dfc-232b-475c-8bda-d77c27e94dc5",
   "metadata": {},
   "outputs": [
    {
     "name": "stdout",
     "output_type": "stream",
     "text": [
      "i am inside test2 \n",
      "11\n",
      "functino executed \n"
     ]
    },
    {
     "data": {
      "text/plain": [
       "11"
      ]
     },
     "execution_count": 35,
     "metadata": {},
     "output_type": "execute_result"
    }
   ],
   "source": [
    "test4()"
   ]
  },
  {
   "cell_type": "code",
   "execution_count": 36,
   "id": "d6cdf34c-9090-40da-96bf-cbc169edb529",
   "metadata": {},
   "outputs": [
    {
     "name": "stdout",
     "output_type": "stream",
     "text": [
      "i am inside test2 \n",
      "11\n",
      "functino executed \n"
     ]
    },
    {
     "data": {
      "text/plain": [
       "int"
      ]
     },
     "execution_count": 36,
     "metadata": {},
     "output_type": "execute_result"
    }
   ],
   "source": [
    "type(test4())"
   ]
  },
  {
   "cell_type": "code",
   "execution_count": 37,
   "id": "480a2e60-7172-499e-81d3-1533b710bfb2",
   "metadata": {},
   "outputs": [
    {
     "name": "stdout",
     "output_type": "stream",
     "text": [
      "i am inside test2 \n",
      "11\n",
      "functino executed \n"
     ]
    },
    {
     "data": {
      "text/plain": [
       "67"
      ]
     },
     "execution_count": 37,
     "metadata": {},
     "output_type": "execute_result"
    }
   ],
   "source": [
    "test4() + 56"
   ]
  },
  {
   "cell_type": "code",
   "execution_count": 22,
   "id": "1ef8ae01-77d3-4a3d-b481-289804ff467a",
   "metadata": {},
   "outputs": [
    {
     "name": "stdout",
     "output_type": "stream",
     "text": [
      "None\n"
     ]
    }
   ],
   "source": [
    "print(a)"
   ]
  },
  {
   "cell_type": "code",
   "execution_count": 23,
   "id": "915c9da5-966c-4007-8f72-aa1a39b61e49",
   "metadata": {},
   "outputs": [
    {
     "name": "stdout",
     "output_type": "stream",
     "text": [
      "i am inside test2 \n",
      "11\n",
      "functino executed \n"
     ]
    },
    {
     "ename": "TypeError",
     "evalue": "unsupported operand type(s) for +: 'NoneType' and 'int'",
     "output_type": "error",
     "traceback": [
      "\u001b[0;31m---------------------------------------------------------------------------\u001b[0m",
      "\u001b[0;31mTypeError\u001b[0m                                 Traceback (most recent call last)",
      "Cell \u001b[0;32mIn [23], line 1\u001b[0m\n\u001b[0;32m----> 1\u001b[0m \u001b[43mtest4\u001b[49m\u001b[43m(\u001b[49m\u001b[43m)\u001b[49m\u001b[43m \u001b[49m\u001b[38;5;241;43m+\u001b[39;49m\u001b[43m \u001b[49m\u001b[38;5;241;43m12\u001b[39;49m\n",
      "\u001b[0;31mTypeError\u001b[0m: unsupported operand type(s) for +: 'NoneType' and 'int'"
     ]
    }
   ],
   "source": [
    "test4() + 12"
   ]
  },
  {
   "cell_type": "code",
   "execution_count": 25,
   "id": "05bdf874-8bbb-4a60-9c4a-54957cf58fc9",
   "metadata": {},
   "outputs": [],
   "source": [
    "def test5():\n",
    "    return 4+5"
   ]
  },
  {
   "cell_type": "code",
   "execution_count": 27,
   "id": "9900a1db-8195-4af0-9828-69273e4693c8",
   "metadata": {},
   "outputs": [
    {
     "data": {
      "text/plain": [
       "int"
      ]
     },
     "execution_count": 27,
     "metadata": {},
     "output_type": "execute_result"
    }
   ],
   "source": [
    "type(test5())"
   ]
  },
  {
   "cell_type": "code",
   "execution_count": 28,
   "id": "86c8631c-9476-47db-9b44-dfe75085c8a3",
   "metadata": {},
   "outputs": [
    {
     "data": {
      "text/plain": [
       "54"
      ]
     },
     "execution_count": 28,
     "metadata": {},
     "output_type": "execute_result"
    }
   ],
   "source": [
    "test5() + 45"
   ]
  },
  {
   "cell_type": "code",
   "execution_count": 49,
   "id": "73b4f551-396e-4da8-a2da-a7c4d28756d0",
   "metadata": {},
   "outputs": [],
   "source": [
    "def test6(func) :\n",
    "    def test7():\n",
    "        func()\n",
    "        print(func())\n",
    "        print(\"this is my decorator functinon\") \n",
    "        return func()\n",
    "    return test7"
   ]
  },
  {
   "cell_type": "code",
   "execution_count": 39,
   "id": "41fee7ee-45dd-488b-8112-be1197b06742",
   "metadata": {},
   "outputs": [],
   "source": [
    "def test8():\n",
    "    return 5+ 7"
   ]
  },
  {
   "cell_type": "code",
   "execution_count": 41,
   "id": "8cdbe557-cf62-4a34-9ec4-28bd1478bf23",
   "metadata": {},
   "outputs": [
    {
     "data": {
      "text/plain": [
       "24"
      ]
     },
     "execution_count": 41,
     "metadata": {},
     "output_type": "execute_result"
    }
   ],
   "source": [
    "test8() + 12"
   ]
  },
  {
   "cell_type": "code",
   "execution_count": 50,
   "id": "9e5ac5d1-4867-46a5-b5e2-a9cea02bbf34",
   "metadata": {},
   "outputs": [],
   "source": [
    "@test6\n",
    "def test8():\n",
    "    return 5+ 7"
   ]
  },
  {
   "cell_type": "code",
   "execution_count": 51,
   "id": "d52498fc-3348-40d3-8da5-c75aa1f09c48",
   "metadata": {},
   "outputs": [
    {
     "name": "stdout",
     "output_type": "stream",
     "text": [
      "12\n",
      "this is my decorator functinon\n"
     ]
    },
    {
     "data": {
      "text/plain": [
       "12"
      ]
     },
     "execution_count": 51,
     "metadata": {},
     "output_type": "execute_result"
    }
   ],
   "source": [
    "test8()"
   ]
  },
  {
   "cell_type": "code",
   "execution_count": 52,
   "id": "ea68e84c-5fc3-462d-9d03-708012799863",
   "metadata": {},
   "outputs": [
    {
     "name": "stdout",
     "output_type": "stream",
     "text": [
      "12\n",
      "this is my decorator functinon\n"
     ]
    },
    {
     "data": {
      "text/plain": [
       "112"
      ]
     },
     "execution_count": 52,
     "metadata": {},
     "output_type": "execute_result"
    }
   ],
   "source": [
    "test8() + 100"
   ]
  },
  {
   "cell_type": "code",
   "execution_count": 53,
   "id": "fe72c45e-0ea7-4fc7-acf2-5ef4e09d54f1",
   "metadata": {},
   "outputs": [
    {
     "name": "stdout",
     "output_type": "stream",
     "text": [
      "12\n",
      "this is my decorator functinon\n"
     ]
    },
    {
     "data": {
      "text/plain": [
       "int"
      ]
     },
     "execution_count": 53,
     "metadata": {},
     "output_type": "execute_result"
    }
   ],
   "source": [
    "type(test8())"
   ]
  },
  {
   "cell_type": "code",
   "execution_count": 94,
   "id": "2f4fd4c7-a3b0-4267-87f3-a1d5687f75ce",
   "metadata": {},
   "outputs": [],
   "source": [
    "def test6(func) :\n",
    "    def test7(*args,**kwargs):\n",
    "        func(*args,**kwargs)\n",
    "        print(func(*args,**kwargs))\n",
    "        print(\"this is my decorator functinon\") \n",
    "        return func(*args,**kwargs)\n",
    "    return test7"
   ]
  },
  {
   "cell_type": "code",
   "execution_count": 95,
   "id": "f31aba1a-e703-48fa-b6c1-2419aefd2fd0",
   "metadata": {},
   "outputs": [],
   "source": [
    "@test6\n",
    "def test8(a,b):\n",
    "    return a+b"
   ]
  },
  {
   "cell_type": "code",
   "execution_count": 96,
   "id": "3bca9165-1a41-488e-9ace-f0b18652eb5e",
   "metadata": {},
   "outputs": [
    {
     "name": "stdout",
     "output_type": "stream",
     "text": [
      "sudhkumar\n",
      "this is my decorator functinon\n"
     ]
    },
    {
     "data": {
      "text/plain": [
       "'sudhkumar'"
      ]
     },
     "execution_count": 96,
     "metadata": {},
     "output_type": "execute_result"
    }
   ],
   "source": [
    "test8(\"sudh\" , \"kumar\")"
   ]
  },
  {
   "cell_type": "code",
   "execution_count": 99,
   "id": "3920463a-fd88-46e8-a026-d80db5d3dae8",
   "metadata": {},
   "outputs": [],
   "source": [
    "@test6\n",
    "def test9(**kwargs):\n",
    "    return kwargs"
   ]
  },
  {
   "cell_type": "code",
   "execution_count": 100,
   "id": "763a5b45-da57-4e3c-9c62-fe9068cd378d",
   "metadata": {},
   "outputs": [
    {
     "name": "stdout",
     "output_type": "stream",
     "text": [
      "{'a': 89, 'b': 67}\n",
      "this is my decorator functinon\n"
     ]
    },
    {
     "data": {
      "text/plain": [
       "{'a': 89, 'b': 67}"
      ]
     },
     "execution_count": 100,
     "metadata": {},
     "output_type": "execute_result"
    }
   ],
   "source": [
    "test9(a= 89 , b = 67)"
   ]
  },
  {
   "cell_type": "code",
   "execution_count": 101,
   "id": "35461408-d4db-4cd9-9921-d5c718aab538",
   "metadata": {},
   "outputs": [],
   "source": [
    "def test10(a,b):\n",
    "    return a+b "
   ]
  },
  {
   "cell_type": "code",
   "execution_count": 102,
   "id": "eccf3b99-b6a2-42fe-905b-77bcc7934505",
   "metadata": {},
   "outputs": [
    {
     "data": {
      "text/plain": [
       "7"
      ]
     },
     "execution_count": 102,
     "metadata": {},
     "output_type": "execute_result"
    }
   ],
   "source": [
    "test10(3,4)"
   ]
  },
  {
   "cell_type": "code",
   "execution_count": 103,
   "id": "f9a2e319-6e8f-4b60-864f-eacb1035c6f6",
   "metadata": {},
   "outputs": [
    {
     "data": {
      "text/plain": [
       "'sudh ineuron'"
      ]
     },
     "execution_count": 103,
     "metadata": {},
     "output_type": "execute_result"
    }
   ],
   "source": [
    "test10(\"sudh\" , \" ineuron\")"
   ]
  },
  {
   "cell_type": "code",
   "execution_count": 106,
   "id": "92b8681d-6456-4a70-a89f-7c4749f4553c",
   "metadata": {},
   "outputs": [],
   "source": [
    "c = lambda a , b : a + b "
   ]
  },
  {
   "cell_type": "code",
   "execution_count": 105,
   "id": "47a18a55-08f3-43d4-ba7e-c9bb803f9dbd",
   "metadata": {},
   "outputs": [
    {
     "data": {
      "text/plain": [
       "<function __main__.test10(a, b)>"
      ]
     },
     "execution_count": 105,
     "metadata": {},
     "output_type": "execute_result"
    }
   ],
   "source": [
    "test10"
   ]
  },
  {
   "cell_type": "code",
   "execution_count": 107,
   "id": "251ec7d8-5bc3-476b-9790-9e9a8fba48e6",
   "metadata": {},
   "outputs": [
    {
     "data": {
      "text/plain": [
       "'sudh ineuron'"
      ]
     },
     "execution_count": 107,
     "metadata": {},
     "output_type": "execute_result"
    }
   ],
   "source": [
    "c(\"sudh\" , \" ineuron\")"
   ]
  },
  {
   "cell_type": "code",
   "execution_count": 108,
   "id": "d79d3743-1da0-4588-9163-e072b2d40690",
   "metadata": {},
   "outputs": [],
   "source": [
    "d = lambda a , b ,c ,d : a*b+c/d"
   ]
  },
  {
   "cell_type": "code",
   "execution_count": 109,
   "id": "a3683cdc-57f3-4929-9340-2291f66b150e",
   "metadata": {},
   "outputs": [
    {
     "data": {
      "text/plain": [
       "12.833333333333334"
      ]
     },
     "execution_count": 109,
     "metadata": {},
     "output_type": "execute_result"
    }
   ],
   "source": [
    "d(3,4,5,6)"
   ]
  },
  {
   "cell_type": "code",
   "execution_count": 110,
   "id": "7c3326c5-500c-43ab-b01e-fd49bc31348b",
   "metadata": {},
   "outputs": [],
   "source": [
    "e = lambda * args : args"
   ]
  },
  {
   "cell_type": "code",
   "execution_count": 111,
   "id": "0b2d9dea-0766-400a-9357-10df57e94dac",
   "metadata": {},
   "outputs": [
    {
     "data": {
      "text/plain": [
       "()"
      ]
     },
     "execution_count": 111,
     "metadata": {},
     "output_type": "execute_result"
    }
   ],
   "source": [
    "e()"
   ]
  },
  {
   "cell_type": "code",
   "execution_count": 112,
   "id": "d308b6b0-3b76-4216-bd7a-7f58aa5fff0a",
   "metadata": {},
   "outputs": [
    {
     "data": {
      "text/plain": [
       "(3, 4, 5)"
      ]
     },
     "execution_count": 112,
     "metadata": {},
     "output_type": "execute_result"
    }
   ],
   "source": [
    "e(3,4,5)"
   ]
  },
  {
   "cell_type": "code",
   "execution_count": 114,
   "id": "32d1dd17-4d5f-4906-80da-08a5012ba979",
   "metadata": {},
   "outputs": [],
   "source": [
    "#map()"
   ]
  },
  {
   "cell_type": "code",
   "execution_count": 116,
   "id": "b7302810-82ff-42cf-b571-0c8012d53a37",
   "metadata": {},
   "outputs": [],
   "source": [
    "l = [1,2,3,4,5,6,7]\n",
    "l1  = [] \n",
    "for i in l :\n",
    "    l1.append(i+10)\n",
    "    "
   ]
  },
  {
   "cell_type": "code",
   "execution_count": 117,
   "id": "c0e10bfc-963d-47ee-9a4f-870d3bf18962",
   "metadata": {},
   "outputs": [
    {
     "data": {
      "text/plain": [
       "[11, 12, 13, 14, 15, 16, 17]"
      ]
     },
     "execution_count": 117,
     "metadata": {},
     "output_type": "execute_result"
    }
   ],
   "source": [
    "l1"
   ]
  },
  {
   "cell_type": "code",
   "execution_count": 118,
   "id": "2b1935fe-a9cf-4932-a390-8a2f74c79544",
   "metadata": {},
   "outputs": [],
   "source": [
    "def test14(a):\n",
    "    return a + 10"
   ]
  },
  {
   "cell_type": "code",
   "execution_count": 120,
   "id": "3b02b3b6-db49-4e53-a0ae-cfeb84c0ddf3",
   "metadata": {},
   "outputs": [
    {
     "data": {
      "text/plain": [
       "[11, 12, 13, 14, 15, 16, 17]"
      ]
     },
     "execution_count": 120,
     "metadata": {},
     "output_type": "execute_result"
    }
   ],
   "source": [
    "list(map( test14,l ))"
   ]
  },
  {
   "cell_type": "code",
   "execution_count": 121,
   "id": "763a608c-7126-473f-8806-3afae31e264f",
   "metadata": {},
   "outputs": [
    {
     "data": {
      "text/plain": [
       "[11, 12, 13, 14, 15, 16, 17]"
      ]
     },
     "execution_count": 121,
     "metadata": {},
     "output_type": "execute_result"
    }
   ],
   "source": [
    "list(map(lambda a : a +10  , l))"
   ]
  },
  {
   "cell_type": "code",
   "execution_count": 122,
   "id": "1fe3efac-8701-428c-ae98-28cb5a076d78",
   "metadata": {},
   "outputs": [],
   "source": [
    "n = lambda a : a +10"
   ]
  },
  {
   "cell_type": "code",
   "execution_count": 123,
   "id": "9963a0dd-1b0a-4471-8c04-f17d8a4e9dd0",
   "metadata": {},
   "outputs": [
    {
     "data": {
      "text/plain": [
       "[11, 12, 13, 14, 15, 16, 17]"
      ]
     },
     "execution_count": 123,
     "metadata": {},
     "output_type": "execute_result"
    }
   ],
   "source": [
    "list(map(n, l ))"
   ]
  },
  {
   "cell_type": "code",
   "execution_count": 124,
   "id": "b08ae51d-949c-4897-92ea-9a550c712f42",
   "metadata": {},
   "outputs": [],
   "source": [
    "l = [\"sudh\" , \"kumar\" , \"ineuron\"]"
   ]
  },
  {
   "cell_type": "code",
   "execution_count": 126,
   "id": "e9dff16c-41a5-4838-960f-c24ec4ac55ba",
   "metadata": {},
   "outputs": [],
   "source": [
    "l1 = []\n",
    "for i in l :\n",
    "    l1.append(i.upper())"
   ]
  },
  {
   "cell_type": "code",
   "execution_count": 127,
   "id": "0f292747-2dd0-41bb-b807-c71b3a7aee16",
   "metadata": {},
   "outputs": [
    {
     "data": {
      "text/plain": [
       "['SUDH', 'KUMAR', 'INEURON']"
      ]
     },
     "execution_count": 127,
     "metadata": {},
     "output_type": "execute_result"
    }
   ],
   "source": [
    "l1"
   ]
  },
  {
   "cell_type": "code",
   "execution_count": 128,
   "id": "44358dea-f419-4509-a27b-4201ddd97dc9",
   "metadata": {},
   "outputs": [
    {
     "data": {
      "text/plain": [
       "['SUDH', 'KUMAR', 'INEURON']"
      ]
     },
     "execution_count": 128,
     "metadata": {},
     "output_type": "execute_result"
    }
   ],
   "source": [
    "list(map(lambda a : a.upper(), l))"
   ]
  },
  {
   "cell_type": "code",
   "execution_count": 130,
   "id": "6beaf9a4-5d2b-4d27-a34d-f33ea54a79de",
   "metadata": {},
   "outputs": [
    {
     "data": {
      "text/plain": [
       "['SUDH', 'KUMAR', 'INEURON']"
      ]
     },
     "execution_count": 130,
     "metadata": {},
     "output_type": "execute_result"
    }
   ],
   "source": [
    "list(map(str.upper , l))"
   ]
  },
  {
   "cell_type": "code",
   "execution_count": 131,
   "id": "dcd13f6c-2a7c-48cc-9913-9bf6e2497143",
   "metadata": {},
   "outputs": [],
   "source": [
    "def upper_string(a) : \n",
    "    return a.upper()"
   ]
  },
  {
   "cell_type": "code",
   "execution_count": 132,
   "id": "b94a9f12-5325-4531-9381-97b57c057bea",
   "metadata": {},
   "outputs": [
    {
     "data": {
      "text/plain": [
       "['SUDH', 'KUMAR', 'INEURON']"
      ]
     },
     "execution_count": 132,
     "metadata": {},
     "output_type": "execute_result"
    }
   ],
   "source": [
    "list(map(upper_string, l))"
   ]
  },
  {
   "cell_type": "code",
   "execution_count": 133,
   "id": "6b3476da-dd13-4290-9567-820febaa195f",
   "metadata": {},
   "outputs": [
    {
     "data": {
      "text/plain": [
       "['sudh', 'kumar', 'ineuron']"
      ]
     },
     "execution_count": 133,
     "metadata": {},
     "output_type": "execute_result"
    }
   ],
   "source": [
    "l"
   ]
  },
  {
   "cell_type": "code",
   "execution_count": 135,
   "id": "398068a8-59cc-4622-925d-64c155d5cbf7",
   "metadata": {},
   "outputs": [
    {
     "data": {
      "text/plain": [
       "[4, 5, 7]"
      ]
     },
     "execution_count": 135,
     "metadata": {},
     "output_type": "execute_result"
    }
   ],
   "source": [
    "list(map(len,l))"
   ]
  },
  {
   "cell_type": "code",
   "execution_count": 136,
   "id": "ef890f3c-3d7d-45d4-a39e-ff6688345017",
   "metadata": {},
   "outputs": [
    {
     "data": {
      "text/plain": [
       "[4, 5, 7]"
      ]
     },
     "execution_count": 136,
     "metadata": {},
     "output_type": "execute_result"
    }
   ],
   "source": [
    "list(map(lambda a : len(a) , l))"
   ]
  },
  {
   "cell_type": "code",
   "execution_count": 137,
   "id": "eba00bfa-5730-49cd-8816-b10f50422d15",
   "metadata": {},
   "outputs": [],
   "source": [
    "def test23(a):\n",
    "    return len(a)"
   ]
  },
  {
   "cell_type": "code",
   "execution_count": 138,
   "id": "ec20faf2-375a-428a-b1bc-f23e76d941e7",
   "metadata": {},
   "outputs": [
    {
     "data": {
      "text/plain": [
       "[4, 5, 7]"
      ]
     },
     "execution_count": 138,
     "metadata": {},
     "output_type": "execute_result"
    }
   ],
   "source": [
    "list(map(test23, l))"
   ]
  },
  {
   "cell_type": "code",
   "execution_count": 139,
   "id": "02465769-ad59-4c1e-958a-7197192d9fd2",
   "metadata": {},
   "outputs": [],
   "source": [
    "l = [1,2,3,4,5,6,7,8]"
   ]
  },
  {
   "cell_type": "code",
   "execution_count": 140,
   "id": "667d7399-a05d-4f84-ac33-eb51c01c7ae5",
   "metadata": {},
   "outputs": [],
   "source": [
    "l1 = []\n",
    "for i in l :\n",
    "    if i % 2 == 0 :\n",
    "        l1.append(i)"
   ]
  },
  {
   "cell_type": "code",
   "execution_count": 141,
   "id": "32be9ef3-3d15-4152-bc81-b12f88d421e9",
   "metadata": {},
   "outputs": [
    {
     "data": {
      "text/plain": [
       "[2, 4, 6, 8]"
      ]
     },
     "execution_count": 141,
     "metadata": {},
     "output_type": "execute_result"
    }
   ],
   "source": [
    "l1"
   ]
  },
  {
   "cell_type": "code",
   "execution_count": 142,
   "id": "18e74731-8c97-48fd-800e-f657c79563ad",
   "metadata": {},
   "outputs": [
    {
     "data": {
      "text/plain": [
       "[2, 4, 6, 8]"
      ]
     },
     "execution_count": 142,
     "metadata": {},
     "output_type": "execute_result"
    }
   ],
   "source": [
    "[i for i in l if i%2 == 0 ]"
   ]
  },
  {
   "cell_type": "code",
   "execution_count": 143,
   "id": "6c803d49-22a7-42a5-a18e-eccb941d437c",
   "metadata": {},
   "outputs": [],
   "source": [
    "def test24(a):\n",
    "    l = []\n",
    "    if type(a) == list :\n",
    "        for i in a :\n",
    "            if i%2 == 0 :\n",
    "                l.append(i)\n",
    "    return l"
   ]
  },
  {
   "cell_type": "code",
   "execution_count": 144,
   "id": "93a5bed8-541e-4ca3-be8a-bfabd2f4153d",
   "metadata": {},
   "outputs": [
    {
     "data": {
      "text/plain": [
       "[2, 4, 6, 8]"
      ]
     },
     "execution_count": 144,
     "metadata": {},
     "output_type": "execute_result"
    }
   ],
   "source": [
    "test24(l)"
   ]
  },
  {
   "cell_type": "code",
   "execution_count": 147,
   "id": "879b5362-4e96-4bfe-8a45-bd71f2453178",
   "metadata": {},
   "outputs": [],
   "source": [
    "a = lambda a :a if  a %2 == 0 else None  "
   ]
  },
  {
   "cell_type": "code",
   "execution_count": 149,
   "id": "d0cad1d6-eb1b-4437-9acc-7fd4165ed06b",
   "metadata": {},
   "outputs": [
    {
     "data": {
      "text/plain": [
       "[None, 2, None, 4, None, 6, None, 8]"
      ]
     },
     "execution_count": 149,
     "metadata": {},
     "output_type": "execute_result"
    }
   ],
   "source": [
    "list(map(a , l))"
   ]
  },
  {
   "cell_type": "code",
   "execution_count": 150,
   "id": "dde84db9-f89a-43cc-af90-5288bf7dedb3",
   "metadata": {},
   "outputs": [
    {
     "data": {
      "text/plain": [
       "[1, 2, 3, 4, 5, 6, 7, 8]"
      ]
     },
     "execution_count": 150,
     "metadata": {},
     "output_type": "execute_result"
    }
   ],
   "source": [
    "l"
   ]
  },
  {
   "cell_type": "code",
   "execution_count": 151,
   "id": "6f682889-470b-4c0c-ba98-111229c91335",
   "metadata": {},
   "outputs": [
    {
     "data": {
      "text/plain": [
       "[2, 4, 6, 8]"
      ]
     },
     "execution_count": 151,
     "metadata": {},
     "output_type": "execute_result"
    }
   ],
   "source": [
    "list(filter(a , l))"
   ]
  },
  {
   "cell_type": "code",
   "execution_count": 162,
   "id": "0b20710b-7eed-412f-b721-d4eba8e62dca",
   "metadata": {},
   "outputs": [],
   "source": [
    "def test25(a):\n",
    "    if a%2 ==0 :\n",
    "        return False  \n",
    "    else :\n",
    "        return True "
   ]
  },
  {
   "cell_type": "code",
   "execution_count": 163,
   "id": "a38e95ae-90c2-44ca-9dc3-ad866ca8f97c",
   "metadata": {},
   "outputs": [
    {
     "data": {
      "text/plain": [
       "False"
      ]
     },
     "execution_count": 163,
     "metadata": {},
     "output_type": "execute_result"
    }
   ],
   "source": [
    "test25(32)"
   ]
  },
  {
   "cell_type": "code",
   "execution_count": 164,
   "id": "357eef8a-6beb-4130-a641-e08135e81ed8",
   "metadata": {},
   "outputs": [
    {
     "data": {
      "text/plain": [
       "True"
      ]
     },
     "execution_count": 164,
     "metadata": {},
     "output_type": "execute_result"
    }
   ],
   "source": [
    "test25(35)"
   ]
  },
  {
   "cell_type": "code",
   "execution_count": 165,
   "id": "b1784670-4fbd-44cb-827d-1ec52a6f67a5",
   "metadata": {},
   "outputs": [
    {
     "data": {
      "text/plain": [
       "[1, 3, 5, 7]"
      ]
     },
     "execution_count": 165,
     "metadata": {},
     "output_type": "execute_result"
    }
   ],
   "source": [
    "list(filter(test25,l))"
   ]
  },
  {
   "cell_type": "code",
   "execution_count": 159,
   "id": "c9a13efc-cbfb-4fd3-b94d-1bfb531e1dcf",
   "metadata": {},
   "outputs": [
    {
     "data": {
      "text/plain": [
       "[1, 2, 3, 4, 5, 6, 7, 8]"
      ]
     },
     "execution_count": 159,
     "metadata": {},
     "output_type": "execute_result"
    }
   ],
   "source": [
    "l"
   ]
  },
  {
   "cell_type": "code",
   "execution_count": 160,
   "id": "b90a93bd-7b82-48cf-a846-9d429e607bad",
   "metadata": {},
   "outputs": [
    {
     "data": {
      "text/plain": [
       "[1, 2, 3, 4, 5, 6, 7, 8]"
      ]
     },
     "execution_count": 160,
     "metadata": {},
     "output_type": "execute_result"
    }
   ],
   "source": [
    "l"
   ]
  },
  {
   "cell_type": "code",
   "execution_count": 166,
   "id": "1e838945-a87d-41e0-87e0-9bcdaf3f511b",
   "metadata": {},
   "outputs": [
    {
     "data": {
      "text/plain": [
       "36"
      ]
     },
     "execution_count": 166,
     "metadata": {},
     "output_type": "execute_result"
    }
   ],
   "source": [
    "sum(l)"
   ]
  },
  {
   "cell_type": "code",
   "execution_count": 167,
   "id": "20f2a193-1d41-4472-a4fd-333db1ae7153",
   "metadata": {},
   "outputs": [
    {
     "data": {
      "text/plain": [
       "[1, 2, 3, 4, 5, 6, 7, 8]"
      ]
     },
     "execution_count": 167,
     "metadata": {},
     "output_type": "execute_result"
    }
   ],
   "source": [
    "l"
   ]
  },
  {
   "cell_type": "code",
   "execution_count": 168,
   "id": "d0747cea-b626-43ef-8878-1c056d8cca2e",
   "metadata": {},
   "outputs": [],
   "source": [
    "from functools import reduce"
   ]
  },
  {
   "cell_type": "code",
   "execution_count": 182,
   "id": "3a1f4a1b-a415-44e6-b6e0-49c558cae386",
   "metadata": {},
   "outputs": [
    {
     "ename": "TypeError",
     "evalue": "reduce() arg 2 must support iteration",
     "output_type": "error",
     "traceback": [
      "\u001b[0;31m---------------------------------------------------------------------------\u001b[0m",
      "\u001b[0;31mTypeError\u001b[0m                                 Traceback (most recent call last)",
      "Cell \u001b[0;32mIn [182], line 1\u001b[0m\n\u001b[0;32m----> 1\u001b[0m \u001b[43mreduce\u001b[49m\u001b[43m(\u001b[49m\u001b[38;5;28;43;01mlambda\u001b[39;49;00m\u001b[43m \u001b[49m\u001b[43ma\u001b[49m\u001b[43m,\u001b[49m\u001b[43mb\u001b[49m\u001b[43m \u001b[49m\u001b[43m:\u001b[49m\u001b[43m \u001b[49m\u001b[43ma\u001b[49m\u001b[43m \u001b[49m\u001b[38;5;241;43m*\u001b[39;49m\u001b[43mb\u001b[49m\u001b[43m \u001b[49m\u001b[43m,\u001b[49m\u001b[38;5;241;43m5\u001b[39;49m\u001b[43m)\u001b[49m\n",
      "\u001b[0;31mTypeError\u001b[0m: reduce() arg 2 must support iteration"
     ]
    }
   ],
   "source": [
    "reduce(lambda a,b : a *b ,5)"
   ]
  },
  {
   "cell_type": "code",
   "execution_count": 211,
   "id": "ce7d23ca-71cf-4ef9-bbd7-c84152d20003",
   "metadata": {},
   "outputs": [
    {
     "data": {
      "text/plain": [
       "[1, 2, 3, 4, 5, 6, 7, 8]"
      ]
     },
     "execution_count": 211,
     "metadata": {},
     "output_type": "execute_result"
    }
   ],
   "source": [
    "l"
   ]
  },
  {
   "cell_type": "code",
   "execution_count": 172,
   "id": "3ba63fcd-3989-4d2f-814f-dcae8e20a88d",
   "metadata": {},
   "outputs": [
    {
     "data": {
      "text/plain": [
       "3"
      ]
     },
     "execution_count": 172,
     "metadata": {},
     "output_type": "execute_result"
    }
   ],
   "source": [
    "l1 = [3]\n",
    "reduce(lambda a,b,c : a *b*c , l1)"
   ]
  },
  {
   "cell_type": "code",
   "execution_count": 192,
   "id": "e8d09846-e422-44c1-8d29-6bcf26ec4bbf",
   "metadata": {},
   "outputs": [],
   "source": [
    "def test26(a : int ,b : \"func\", c:int  = 234) -> int:\n",
    "    '''this is my doc string to give a hint to next programer '''\n",
    "    return a +b +str(c)"
   ]
  },
  {
   "cell_type": "code",
   "execution_count": 193,
   "id": "fcf3c284-b868-4263-a033-465348c07b6b",
   "metadata": {},
   "outputs": [
    {
     "data": {
      "text/plain": [
       "'sudhkumar345'"
      ]
     },
     "execution_count": 193,
     "metadata": {},
     "output_type": "execute_result"
    }
   ],
   "source": [
    "test26(\"sudh\"  , \"kumar\" , 345)"
   ]
  },
  {
   "cell_type": "code",
   "execution_count": 199,
   "id": "9ab1bbfb-7be3-4b2d-bfc2-038a7bdd5dd5",
   "metadata": {},
   "outputs": [],
   "source": [
    "def test27(a :\"fsfs\" ,b : \"fssfdsf\") -> \"this will give me outcome \" :\n",
    "    return a+b"
   ]
  },
  {
   "cell_type": "code",
   "execution_count": 195,
   "id": "7907f82d-e70c-4c6a-b773-695f191a7099",
   "metadata": {},
   "outputs": [
    {
     "ename": "TypeError",
     "evalue": "can only concatenate str (not \"int\") to str",
     "output_type": "error",
     "traceback": [
      "\u001b[0;31m---------------------------------------------------------------------------\u001b[0m",
      "\u001b[0;31mTypeError\u001b[0m                                 Traceback (most recent call last)",
      "Cell \u001b[0;32mIn [195], line 1\u001b[0m\n\u001b[0;32m----> 1\u001b[0m \u001b[43mtest27\u001b[49m\u001b[43m(\u001b[49m\u001b[38;5;124;43m\"\u001b[39;49m\u001b[38;5;124;43msudh\u001b[39;49m\u001b[38;5;124;43m\"\u001b[39;49m\u001b[43m \u001b[49m\u001b[43m,\u001b[49m\u001b[43m \u001b[49m\u001b[38;5;241;43m4\u001b[39;49m\u001b[43m)\u001b[49m\n",
      "Cell \u001b[0;32mIn [194], line 2\u001b[0m, in \u001b[0;36mtest27\u001b[0;34m(a, b)\u001b[0m\n\u001b[1;32m      1\u001b[0m \u001b[38;5;28;01mdef\u001b[39;00m \u001b[38;5;21mtest27\u001b[39m(a,b):\n\u001b[0;32m----> 2\u001b[0m     \u001b[38;5;28;01mreturn\u001b[39;00m \u001b[43ma\u001b[49m\u001b[38;5;241;43m+\u001b[39;49m\u001b[43mb\u001b[49m\n",
      "\u001b[0;31mTypeError\u001b[0m: can only concatenate str (not \"int\") to str"
     ]
    }
   ],
   "source": [
    "test27(\"sudh\" , 4)"
   ]
  },
  {
   "cell_type": "code",
   "execution_count": 208,
   "id": "6e70ea8a-08be-4c67-931b-6042dcfdfb6c",
   "metadata": {},
   "outputs": [],
   "source": [
    "def test1(func):\n",
    "    def test2():\n",
    "        print(\"i am inside test1\")\n",
    "        func()\n",
    "        print(func())\n",
    "        print(\"function executed\")\n",
    "        return func()\n",
    "    return test2()"
   ]
  },
  {
   "cell_type": "code",
   "execution_count": 210,
   "id": "276241db-876b-45d4-8249-f0e8c718a858",
   "metadata": {},
   "outputs": [
    {
     "name": "stdout",
     "output_type": "stream",
     "text": [
      "i am inside test1\n",
      "11\n",
      "function executed\n"
     ]
    }
   ],
   "source": [
    "\n",
    "@test1\n",
    "def test3():\n",
    "    return 5 + 6"
   ]
  },
  {
   "cell_type": "code",
   "execution_count": 212,
   "id": "63338b6c-1fbe-4692-b3b8-b754569fd186",
   "metadata": {},
   "outputs": [
    {
     "ename": "NameError",
     "evalue": "name 'li' is not defined",
     "output_type": "error",
     "traceback": [
      "\u001b[0;31m---------------------------------------------------------------------------\u001b[0m",
      "\u001b[0;31mNameError\u001b[0m                                 Traceback (most recent call last)",
      "Cell \u001b[0;32mIn [212], line 2\u001b[0m\n\u001b[1;32m      1\u001b[0m \u001b[38;5;66;03m#2. write a function which will be able to index of list elements without using an index function.def test1(li):\u001b[39;00m\n\u001b[0;32m----> 2\u001b[0m \u001b[38;5;28;01mfor\u001b[39;00m i \u001b[38;5;129;01min\u001b[39;00m \u001b[38;5;28mrange\u001b[39m(\u001b[38;5;241m0\u001b[39m, test1(\u001b[43mli\u001b[49m)):\n\u001b[1;32m      3\u001b[0m         \u001b[38;5;28mprint\u001b[39m(li[i], \u001b[38;5;124m\"\u001b[39m\u001b[38;5;124m:\u001b[39m\u001b[38;5;124m\"\u001b[39m, i)\n",
      "\u001b[0;31mNameError\u001b[0m: name 'li' is not defined"
     ]
    }
   ],
   "source": [
    "#2. write a function which will be able to index of list elements without using an index function.def test1(li):\n",
    "for i in range(0, test1(li)):\n",
    "        print(li[i], \":\", i)\n"
   ]
  },
  {
   "cell_type": "code",
   "execution_count": 219,
   "id": "13c419c0-9858-4380-bf4f-6911e0baa3f4",
   "metadata": {},
   "outputs": [],
   "source": [
    "def test1(li):\n",
    "    for i in range(0, len(li)):\n",
    "        print(li[i], \":\", i)"
   ]
  },
  {
   "cell_type": "code",
   "execution_count": 220,
   "id": "240e6538-be2c-4fa3-b713-fb9de83715be",
   "metadata": {},
   "outputs": [
    {
     "data": {
      "text/plain": [
       "[1, 2, 3, 4, 5, 6, 7, 8]"
      ]
     },
     "execution_count": 220,
     "metadata": {},
     "output_type": "execute_result"
    }
   ],
   "source": [
    "l"
   ]
  },
  {
   "cell_type": "code",
   "execution_count": 221,
   "id": "4567040b-c55a-42c0-a789-2a9065e3292a",
   "metadata": {},
   "outputs": [
    {
     "name": "stdout",
     "output_type": "stream",
     "text": [
      "1 : 0\n",
      "2 : 1\n",
      "3 : 2\n",
      "4 : 3\n",
      "5 : 4\n",
      "6 : 5\n",
      "7 : 6\n",
      "8 : 7\n"
     ]
    }
   ],
   "source": [
    "test1(l)"
   ]
  },
  {
   "cell_type": "code",
   "execution_count": null,
   "id": "fd387955-41a4-472c-95df-a9ecf1cb9c1b",
   "metadata": {},
   "outputs": [],
   "source": [
    "query@ineuron.ai\n",
    "sudhanshu@ineuron.ai"
   ]
  },
  {
   "cell_type": "code",
   "execution_count": 224,
   "id": "4a4949e5-6a19-4190-b90a-ea3b12da9163",
   "metadata": {},
   "outputs": [
    {
     "name": "stdout",
     "output_type": "stream",
     "text": [
      "2\n",
      "['x', 4]\n",
      "{'b': 0, 'a': 'y'}\n"
     ]
    },
    {
     "data": {
      "text/plain": [
       "(1, ['x', 4], {'b': 0, 'a': 'y'})"
      ]
     },
     "execution_count": 224,
     "metadata": {},
     "output_type": "execute_result"
    }
   ],
   "source": [
    "def func(a, b, c): \n",
    "    a = 2 \n",
    "    print(a)\n",
    "    d = \n",
    "    b[0] = 'x' \n",
    "    print(b)\n",
    "    c['a'] = 'y'\n",
    "    print(c)\n",
    "   \n",
    "l=1\n",
    "m=[1,4] \n",
    "n={'b':0}\n",
    "func(l, m, n)\n",
    "l, m, n\n"
   ]
  },
  {
   "cell_type": "code",
   "execution_count": 225,
   "id": "827d5620-2552-468a-b905-192efa5e6f1c",
   "metadata": {},
   "outputs": [
    {
     "data": {
      "text/plain": [
       "['x', 4]"
      ]
     },
     "execution_count": 225,
     "metadata": {},
     "output_type": "execute_result"
    }
   ],
   "source": [
    "m"
   ]
  },
  {
   "cell_type": "code",
   "execution_count": 226,
   "id": "30122f58-889c-4a8c-8507-fda36dd2b126",
   "metadata": {},
   "outputs": [],
   "source": [
    "m=[1,4]"
   ]
  },
  {
   "cell_type": "code",
   "execution_count": 227,
   "id": "5c8d580a-54bd-43bc-a037-c7e36096afa6",
   "metadata": {},
   "outputs": [],
   "source": [
    "m[0] = \"x\""
   ]
  },
  {
   "cell_type": "code",
   "execution_count": 228,
   "id": "5258b79f-3429-4c37-9366-9bf1b7ed23a5",
   "metadata": {},
   "outputs": [
    {
     "data": {
      "text/plain": [
       "['x', 4]"
      ]
     },
     "execution_count": 228,
     "metadata": {},
     "output_type": "execute_result"
    }
   ],
   "source": [
    "m"
   ]
  },
  {
   "cell_type": "code",
   "execution_count": 236,
   "id": "90ed1b3b-9171-4afe-ac70-80d6113761cf",
   "metadata": {},
   "outputs": [
    {
     "name": "stdout",
     "output_type": "stream",
     "text": [
      "48\n"
     ]
    }
   ],
   "source": [
    "def create_adder(x):\n",
    "    def adder(y,z):\n",
    "        return x+y+z\n",
    " \n",
    "    return adder\n",
    " \n",
    "add_15 = create_adder(15)\n",
    " \n",
    "print(add_15(10,23))\n"
   ]
  },
  {
   "cell_type": "code",
   "execution_count": 237,
   "id": "21a9c9d9-f3d7-498b-ba6b-774ee121f55c",
   "metadata": {},
   "outputs": [
    {
     "data": {
      "text/plain": [
       "<function __main__.create_adder.<locals>.adder(y, z)>"
      ]
     },
     "execution_count": 237,
     "metadata": {},
     "output_type": "execute_result"
    }
   ],
   "source": [
    "create_adder(15)"
   ]
  },
  {
   "cell_type": "code",
   "execution_count": 239,
   "id": "ecd2efbd-e43a-48e2-8563-7051bf8ee2a0",
   "metadata": {},
   "outputs": [
    {
     "data": {
      "text/plain": [
       "<function __main__.create_adder.<locals>.adder(y, z)>"
      ]
     },
     "execution_count": 239,
     "metadata": {},
     "output_type": "execute_result"
    }
   ],
   "source": [
    "create_adder(0)"
   ]
  },
  {
   "cell_type": "code",
   "execution_count": null,
   "id": "aa062aaa-36f7-4f39-b47d-cb699227a1d3",
   "metadata": {},
   "outputs": [],
   "source": []
  }
 ],
 "metadata": {
  "kernelspec": {
   "display_name": "Python 3 (ipykernel)",
   "language": "python",
   "name": "python3"
  },
  "language_info": {
   "codemirror_mode": {
    "name": "ipython",
    "version": 3
   },
   "file_extension": ".py",
   "mimetype": "text/x-python",
   "name": "python",
   "nbconvert_exporter": "python",
   "pygments_lexer": "ipython3",
   "version": "3.10.6"
  }
 },
 "nbformat": 4,
 "nbformat_minor": 5
}
