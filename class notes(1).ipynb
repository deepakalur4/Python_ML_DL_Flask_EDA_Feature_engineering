{
 "cells": [
  {
   "cell_type": "code",
   "execution_count": 1,
   "id": "6ae58afc",
   "metadata": {},
   "outputs": [],
   "source": [
    "class Car:\n",
    "    pass"
   ]
  },
  {
   "cell_type": "code",
   "execution_count": 2,
   "id": "7ab5c0a0",
   "metadata": {},
   "outputs": [],
   "source": [
    "audi= Car()"
   ]
  },
  {
   "cell_type": "code",
   "execution_count": 3,
   "id": "3e228e57",
   "metadata": {},
   "outputs": [],
   "source": [
    "audi.milage=10\n",
    "audi.year=2006\n",
    "audi.make=345\n",
    "audi.model=\"abc\""
   ]
  },
  {
   "cell_type": "code",
   "execution_count": 4,
   "id": "11eaee45",
   "metadata": {},
   "outputs": [
    {
     "data": {
      "text/plain": [
       "345"
      ]
     },
     "execution_count": 4,
     "metadata": {},
     "output_type": "execute_result"
    }
   ],
   "source": [
    "audi.make"
   ]
  },
  {
   "cell_type": "code",
   "execution_count": 5,
   "id": "0ca7a9f2",
   "metadata": {},
   "outputs": [
    {
     "data": {
      "text/plain": [
       "10"
      ]
     },
     "execution_count": 5,
     "metadata": {},
     "output_type": "execute_result"
    }
   ],
   "source": [
    "audi.milage"
   ]
  },
  {
   "cell_type": "code",
   "execution_count": 6,
   "id": "70c6d42b",
   "metadata": {},
   "outputs": [
    {
     "data": {
      "text/plain": [
       "'abc'"
      ]
     },
     "execution_count": 6,
     "metadata": {},
     "output_type": "execute_result"
    }
   ],
   "source": [
    "audi.model"
   ]
  },
  {
   "cell_type": "code",
   "execution_count": 7,
   "id": "e9998fd8",
   "metadata": {},
   "outputs": [],
   "source": [
    "nano= Car()"
   ]
  },
  {
   "cell_type": "code",
   "execution_count": 8,
   "id": "666de646",
   "metadata": {},
   "outputs": [],
   "source": [
    "nano.milage=67\n",
    "nano.year=2007\n",
    "nano.make=67\n",
    "nano.model=\"xyz\""
   ]
  },
  {
   "cell_type": "code",
   "execution_count": 9,
   "id": "7599ed48",
   "metadata": {},
   "outputs": [],
   "source": [
    "class Car:\n",
    "    def __init__(self,milage,year,make,model):\n",
    "        self.milage=milage\n",
    "        self.year=year\n",
    "        self.make=make\n",
    "        self.model=model"
   ]
  },
  {
   "cell_type": "code",
   "execution_count": 12,
   "id": "b502fdf5",
   "metadata": {},
   "outputs": [],
   "source": [
    "nano1=Car(10,2009,45,\"jbdjs\")\n",
    "nano2=Car(10,2009,45,\"jbdjs\")\n",
    "nano3=Car(10,2009,45,\"jbdjs\")\n",
    "nano4=Car(10,2009,45,\"jbdjs\")\n",
    "nano5=Car(10,2009,45,\"jbdjs\")\n",
    "nano6=Car(10,2009,45,\"jbdjs\")\n"
   ]
  },
  {
   "cell_type": "code",
   "execution_count": 44,
   "id": "d7f1ac95",
   "metadata": {},
   "outputs": [],
   "source": [
    "class Car:\n",
    "    def __init__(a,m,y,ma,mo):\n",
    "        a.milage=m\n",
    "        a.year=y\n",
    "        a.make=ma\n",
    "        a.model=mo\n",
    "        \n",
    "    def age(a,current_year):\n",
    "        return current_year-a.year\n",
    "    \n",
    "    def milage1(self):\n",
    "        return(\"Print a milage of the call\", self.milage)\n",
    "    \n",
    "    def __str__(c):\n",
    "        return \"this is from class i have created\"\n",
    "        "
   ]
  },
  {
   "cell_type": "code",
   "execution_count": 45,
   "id": "9b521133",
   "metadata": {},
   "outputs": [],
   "source": [
    "nano23=Car(10,2009,45,\"bhjagudbs\")"
   ]
  },
  {
   "cell_type": "code",
   "execution_count": 46,
   "id": "ed94b8d4",
   "metadata": {},
   "outputs": [
    {
     "data": {
      "text/plain": [
       "11"
      ]
     },
     "execution_count": 46,
     "metadata": {},
     "output_type": "execute_result"
    }
   ],
   "source": [
    "nano23.age(2020)"
   ]
  },
  {
   "cell_type": "code",
   "execution_count": 39,
   "id": "3aebf8bc",
   "metadata": {},
   "outputs": [
    {
     "data": {
      "text/plain": [
       "('Print a milage of the call', 10)"
      ]
     },
     "execution_count": 39,
     "metadata": {},
     "output_type": "execute_result"
    }
   ],
   "source": [
    "nano23.milage1()"
   ]
  },
  {
   "cell_type": "code",
   "execution_count": 47,
   "id": "a8b98eb8",
   "metadata": {},
   "outputs": [
    {
     "name": "stdout",
     "output_type": "stream",
     "text": [
      "this is from class i have created\n"
     ]
    }
   ],
   "source": [
    "print(nano23)"
   ]
  },
  {
   "cell_type": "code",
   "execution_count": 51,
   "id": "6d9ae194",
   "metadata": {},
   "outputs": [],
   "source": [
    "class Person:\n",
    "    \n",
    "    def __init__(self,first_name,last_name,age):\n",
    "        self.first_name=first_name\n",
    "        self.last_name=last_name\n",
    "        self.age=age\n",
    "        \n",
    "    def __str__(self):\n",
    "        return \" this is the person class\"\n",
    "    "
   ]
  },
  {
   "cell_type": "code",
   "execution_count": 52,
   "id": "b6a7ddb1",
   "metadata": {},
   "outputs": [],
   "source": [
    "person=Person(\"imran\",\"a\",27)"
   ]
  },
  {
   "cell_type": "code",
   "execution_count": 53,
   "id": "7c3098dd",
   "metadata": {},
   "outputs": [
    {
     "name": "stdout",
     "output_type": "stream",
     "text": [
      " this is the person class\n"
     ]
    }
   ],
   "source": [
    "print(person)"
   ]
  },
  {
   "cell_type": "code",
   "execution_count": 54,
   "id": "2b3d5460",
   "metadata": {},
   "outputs": [
    {
     "data": {
      "text/plain": [
       "27"
      ]
     },
     "execution_count": 54,
     "metadata": {},
     "output_type": "execute_result"
    }
   ],
   "source": [
    "person.age"
   ]
  },
  {
   "cell_type": "code",
   "execution_count": 55,
   "id": "01fa3c83",
   "metadata": {},
   "outputs": [
    {
     "data": {
      "text/plain": [
       "'imran'"
      ]
     },
     "execution_count": 55,
     "metadata": {},
     "output_type": "execute_result"
    }
   ],
   "source": [
    "person.first_name"
   ]
  },
  {
   "cell_type": "code",
   "execution_count": 56,
   "id": "4aa6178b",
   "metadata": {},
   "outputs": [],
   "source": [
    "class Student:\n",
    "    \n",
    "    def __init__(self,name,rollno,joining_date,current_topic):\n",
    "        self.name=name\n",
    "        self.rollno=rollno\n",
    "        self.joining_date=joining_date\n",
    "        self.current_topic=current_topic\n",
    "        \n",
    "        \n",
    "    def cur_topic(self):\n",
    "        print(\"current topic dicussed in class is \", self.current_topic)\n",
    "    \n",
    "    def str_rollno(self):\n",
    "        \n",
    "        try:\n",
    "            if type(self.rollno)==str:\n",
    "                print(\"do nothing\")\n",
    "            \n",
    "            else:\n",
    "                return str(self.rollno)\n",
    "        except Exception as e:\n",
    "            \n",
    "            print(\"this is my error message\", e)\n",
    "            \n",
    "    def duration(self,current_date):\n",
    "        \n",
    "        print(\"durration of student in my class is \", current_date - self.joining_date)\n",
    "        \n",
    "    \n",
    "    def __str__(self):\n",
    "        \n",
    "        return \" this is student class\"\n",
    "        "
   ]
  },
  {
   "cell_type": "code",
   "execution_count": 63,
   "id": "926dff11",
   "metadata": {},
   "outputs": [],
   "source": [
    "s1= Student(\"imran\",'45',2007,\"data science\")"
   ]
  },
  {
   "cell_type": "code",
   "execution_count": 58,
   "id": "3f684b54",
   "metadata": {},
   "outputs": [
    {
     "name": "stdout",
     "output_type": "stream",
     "text": [
      " this is student class\n"
     ]
    }
   ],
   "source": [
    "print(s1)"
   ]
  },
  {
   "cell_type": "code",
   "execution_count": 60,
   "id": "97b3723a",
   "metadata": {},
   "outputs": [
    {
     "name": "stdout",
     "output_type": "stream",
     "text": [
      "durration of student in my class is  1\n"
     ]
    }
   ],
   "source": [
    "s1.duration(2008)"
   ]
  },
  {
   "cell_type": "code",
   "execution_count": 64,
   "id": "9558dcf0",
   "metadata": {},
   "outputs": [
    {
     "name": "stdout",
     "output_type": "stream",
     "text": [
      "do nothing\n"
     ]
    }
   ],
   "source": [
    "s1.str_rollno()"
   ]
  },
  {
   "cell_type": "code",
   "execution_count": 62,
   "id": "e38fe289",
   "metadata": {},
   "outputs": [
    {
     "name": "stdout",
     "output_type": "stream",
     "text": [
      "current topic dicussed in class is  data science\n"
     ]
    }
   ],
   "source": [
    "s1.cur_topic()"
   ]
  },
  {
   "cell_type": "code",
   "execution_count": null,
   "id": "784ee5ef",
   "metadata": {},
   "outputs": [],
   "source": []
  },
  {
   "cell_type": "code",
   "execution_count": 70,
   "id": "f3739d21",
   "metadata": {},
   "outputs": [],
   "source": [
    "class calculator:\n",
    "    def  __init__(self,a,b):\n",
    "        self.a=a\n",
    "        self.b=b\n",
    "    \n",
    "    def add(self):\n",
    "        return self.a+self.b\n",
    "\n",
    "    def sub(self):\n",
    "        return self.a-self.b\n",
    "    \n",
    "    def mul(self):\n",
    "        return self.a*self.b\n",
    "    \n",
    "    def div(self):\n",
    "        return self.a/self.b\n"
   ]
  },
  {
   "cell_type": "code",
   "execution_count": 71,
   "id": "d87223b7",
   "metadata": {},
   "outputs": [],
   "source": [
    "c1=calculator(3,4)"
   ]
  },
  {
   "cell_type": "code",
   "execution_count": 72,
   "id": "c477a0b2",
   "metadata": {},
   "outputs": [
    {
     "data": {
      "text/plain": [
       "7"
      ]
     },
     "execution_count": 72,
     "metadata": {},
     "output_type": "execute_result"
    }
   ],
   "source": [
    "c1.add()"
   ]
  },
  {
   "cell_type": "code",
   "execution_count": null,
   "id": "5e642982",
   "metadata": {},
   "outputs": [],
   "source": []
  },
  {
   "cell_type": "code",
   "execution_count": null,
   "id": "0160f2e9",
   "metadata": {},
   "outputs": [],
   "source": [
    "class Calculator:\n",
    "    def __init__(self,a,b):\n",
    "        self.a=a\n",
    "        self.b=b\n",
    "        \n",
    "    def sum(self):\n",
    "        return self.a+self.b\n",
    "    \n",
    "    def subt(self):\n",
    "        return self.a-self.b\n",
    "    \n",
    "    def mul(self):\n",
    "        return self.a*self.b\n",
    "    def div(self):\n",
    "        return self.a/self.b\n",
    "    \n",
    "    \n",
    "c=Calculator(5,6)\n",
    "print(c.sum())\n",
    "print(c.subt())\n",
    "print(c.mul())\n",
    "print(c.div())\n",
    "    \n"
   ]
  },
  {
   "cell_type": "code",
   "execution_count": null,
   "id": "514edd61",
   "metadata": {},
   "outputs": [],
   "source": [
    "class calculater():\n",
    "\n",
    "  def __init(self,a,b):\n",
    "    self.a = a\n",
    "    self.b = b\n",
    "\n",
    "  def multiply():\n",
    "    return self.a * self.b\n",
    "\n",
    "  def substract(self,a,b):\n",
    "    return self.a - self.b\n",
    "\n",
    "  def division(self,a,b):\n",
    "    return self.a / self.b\n",
    "\n",
    "  def addition(self,a,b):\n",
    "    return self.a + self.b\n",
    "\n",
    "  def __str__():\n",
    "    reutn \"its calling\"\n",
    "\n",
    "s1 = claculater(2,3)\n",
    "\n",
    "print(s1.multiply())\n",
    "\n",
    "print(s1.substract())\n",
    "\n",
    "print(s1.division())\n",
    "\n",
    "print(s1.addition())\n"
   ]
  },
  {
   "cell_type": "code",
   "execution_count": 73,
   "id": "bf1e1cf4",
   "metadata": {},
   "outputs": [],
   "source": [
    "#Default Constructor\n",
    "\n",
    "class Student:\n",
    "    \n",
    "    def who(self):\n",
    "        print(\"iam a student\")"
   ]
  },
  {
   "cell_type": "code",
   "execution_count": 74,
   "id": "4a336009",
   "metadata": {},
   "outputs": [],
   "source": [
    "s1=Student()"
   ]
  },
  {
   "cell_type": "code",
   "execution_count": 75,
   "id": "fc9ae8b1",
   "metadata": {},
   "outputs": [
    {
     "name": "stdout",
     "output_type": "stream",
     "text": [
      "iam a student\n"
     ]
    }
   ],
   "source": [
    "s1.who()"
   ]
  },
  {
   "cell_type": "code",
   "execution_count": 76,
   "id": "98120584",
   "metadata": {},
   "outputs": [],
   "source": [
    "#non parametized constructor\n",
    "class Company:\n",
    "    \n",
    "    def __init__(self):\n",
    "        self.name=\"ineuron\"\n",
    "        self.address=\"Bnagalore\"\n",
    "        \n",
    "        \n",
    "    def show(self):\n",
    "        print(\"name\",self.name,\"address\",self.address)"
   ]
  },
  {
   "cell_type": "code",
   "execution_count": 77,
   "id": "6cc6e61b",
   "metadata": {},
   "outputs": [],
   "source": [
    "cmp=Company()"
   ]
  },
  {
   "cell_type": "code",
   "execution_count": 78,
   "id": "3b3eb675",
   "metadata": {},
   "outputs": [
    {
     "name": "stdout",
     "output_type": "stream",
     "text": [
      "name ineuron address Bnagalore\n"
     ]
    }
   ],
   "source": [
    "cmp.show()"
   ]
  },
  {
   "cell_type": "code",
   "execution_count": 79,
   "id": "74f973e7",
   "metadata": {},
   "outputs": [],
   "source": [
    "#parametized constructor"
   ]
  },
  {
   "cell_type": "code",
   "execution_count": 93,
   "id": "7302a033",
   "metadata": {},
   "outputs": [],
   "source": [
    "class Pub_mod:\n",
    "    \n",
    "    def __init__(self,name,age):\n",
    "        \n",
    "        self._name=name\n",
    "        self.age=age\n",
    "        \n",
    "    def age1(self):\n",
    "        print(\"age1\",self.age)\n",
    "        \n",
    "    "
   ]
  },
  {
   "cell_type": "code",
   "execution_count": 94,
   "id": "1549d398",
   "metadata": {},
   "outputs": [],
   "source": [
    "c1=Pub_mod(\"imran\",27)"
   ]
  },
  {
   "cell_type": "code",
   "execution_count": 95,
   "id": "c16226e8",
   "metadata": {},
   "outputs": [
    {
     "name": "stdout",
     "output_type": "stream",
     "text": [
      "age1 27\n"
     ]
    }
   ],
   "source": [
    "c1.age1()"
   ]
  },
  {
   "cell_type": "code",
   "execution_count": 99,
   "id": "280f6b89",
   "metadata": {},
   "outputs": [],
   "source": [
    "class Rectangle:\n",
    "    #__length = 0\n",
    "    #__breadth=0\n",
    "    \n",
    "    def __init__(self):\n",
    "        self.length=5\n",
    "        self.__breadth=3\n",
    "        \n",
    "        print(self.length)\n",
    "        print(self.__breadth)"
   ]
  },
  {
   "cell_type": "code",
   "execution_count": 100,
   "id": "6dcbff41",
   "metadata": {},
   "outputs": [
    {
     "name": "stdout",
     "output_type": "stream",
     "text": [
      "5\n",
      "3\n"
     ]
    }
   ],
   "source": [
    "r1=Rectangle()"
   ]
  },
  {
   "cell_type": "code",
   "execution_count": 101,
   "id": "d2ccea0a",
   "metadata": {},
   "outputs": [
    {
     "data": {
      "text/plain": [
       "5"
      ]
     },
     "execution_count": 101,
     "metadata": {},
     "output_type": "execute_result"
    }
   ],
   "source": [
    "r1.length"
   ]
  },
  {
   "cell_type": "code",
   "execution_count": 106,
   "id": "92a709a1",
   "metadata": {},
   "outputs": [
    {
     "name": "stdout",
     "output_type": "stream",
     "text": [
      "5\n",
      "3\n",
      "5\n"
     ]
    },
    {
     "ename": "AttributeError",
     "evalue": "'Rectangle' object has no attribute '__breadth'",
     "output_type": "error",
     "traceback": [
      "\u001b[1;31m---------------------------------------------------------------------------\u001b[0m",
      "\u001b[1;31mAttributeError\u001b[0m                            Traceback (most recent call last)",
      "Input \u001b[1;32mIn [106]\u001b[0m, in \u001b[0;36m<cell line: 19>\u001b[1;34m()\u001b[0m\n\u001b[0;32m     17\u001b[0m rect\u001b[38;5;241m=\u001b[39mRectangle()\n\u001b[0;32m     18\u001b[0m \u001b[38;5;28mprint\u001b[39m(rect\u001b[38;5;241m.\u001b[39mlength)\n\u001b[1;32m---> 19\u001b[0m \u001b[38;5;28mprint\u001b[39m(\u001b[43mrect\u001b[49m\u001b[38;5;241;43m.\u001b[39;49m\u001b[43m__breadth\u001b[49m)\n",
      "\u001b[1;31mAttributeError\u001b[0m: 'Rectangle' object has no attribute '__breadth'"
     ]
    }
   ],
   "source": [
    "class Rectangle:\n",
    "    #__length = 0\n",
    "    #__breadth=0\n",
    "    \n",
    "    def __init__(self):\n",
    "        self.length=5\n",
    "        self.__breadth=3\n",
    "        \n",
    "        print(self.length)\n",
    "        print(self.__breadth)\n",
    "        \n",
    "    def show(self):\n",
    "        print(\"this is printing private varaivle\", self.__breadth)\n",
    "        \n",
    "\n",
    "        \n",
    "rect=Rectangle()\n",
    "print(rect.length)\n",
    "print(rect.__breadth)"
   ]
  },
  {
   "cell_type": "code",
   "execution_count": 105,
   "id": "bcf6112c",
   "metadata": {},
   "outputs": [
    {
     "name": "stdout",
     "output_type": "stream",
     "text": [
      "this is printing private varaivle 3\n"
     ]
    }
   ],
   "source": [
    "rect.show()"
   ]
  },
  {
   "cell_type": "code",
   "execution_count": 107,
   "id": "59225671",
   "metadata": {},
   "outputs": [
    {
     "data": {
      "text/plain": [
       "3"
      ]
     },
     "execution_count": 107,
     "metadata": {},
     "output_type": "execute_result"
    }
   ],
   "source": [
    "rect._Rectangle__breadth"
   ]
  },
  {
   "cell_type": "code",
   "execution_count": 109,
   "id": "5642545d",
   "metadata": {},
   "outputs": [],
   "source": [
    "class test:\n",
    "    \n",
    "    def __init__(self):\n",
    "        self.a=6\n",
    "        self._b=5\n",
    "        self.__c=8\n",
    "        \n",
    "        print(\"public:\",self.a,\"protected:\",self._b,\"private:\",self.__c)"
   ]
  },
  {
   "cell_type": "code",
   "execution_count": 110,
   "id": "78fb277a",
   "metadata": {},
   "outputs": [
    {
     "name": "stdout",
     "output_type": "stream",
     "text": [
      "public: 6 protected: 5 private: 8\n"
     ]
    }
   ],
   "source": [
    "t1=test()"
   ]
  },
  {
   "cell_type": "code",
   "execution_count": 111,
   "id": "3ad6ab22",
   "metadata": {},
   "outputs": [
    {
     "data": {
      "text/plain": [
       "6"
      ]
     },
     "execution_count": 111,
     "metadata": {},
     "output_type": "execute_result"
    }
   ],
   "source": [
    "t1.a"
   ]
  },
  {
   "cell_type": "code",
   "execution_count": 140,
   "id": "ebd639ca",
   "metadata": {},
   "outputs": [
    {
     "data": {
      "text/plain": [
       "8"
      ]
     },
     "execution_count": 140,
     "metadata": {},
     "output_type": "execute_result"
    }
   ],
   "source": [
    "t1._test__c"
   ]
  },
  {
   "cell_type": "code",
   "execution_count": 113,
   "id": "cb05c29d",
   "metadata": {},
   "outputs": [
    {
     "ename": "AttributeError",
     "evalue": "'test' object has no attribute 'c'",
     "output_type": "error",
     "traceback": [
      "\u001b[1;31m---------------------------------------------------------------------------\u001b[0m",
      "\u001b[1;31mAttributeError\u001b[0m                            Traceback (most recent call last)",
      "Input \u001b[1;32mIn [113]\u001b[0m, in \u001b[0;36m<cell line: 1>\u001b[1;34m()\u001b[0m\n\u001b[1;32m----> 1\u001b[0m \u001b[43mt1\u001b[49m\u001b[38;5;241;43m.\u001b[39;49m\u001b[43mc\u001b[49m\n",
      "\u001b[1;31mAttributeError\u001b[0m: 'test' object has no attribute 'c'"
     ]
    }
   ],
   "source": [
    "t1.c"
   ]
  },
  {
   "cell_type": "code",
   "execution_count": 117,
   "id": "d3848f18",
   "metadata": {},
   "outputs": [],
   "source": [
    "class test:\n",
    "    \n",
    "    def __init__(self):\n",
    "        self.a=6\n",
    "        self._b=5\n",
    "        self.__c=8\n",
    "        \n",
    "        print(\"public:\",self.a,\"protected:\",self._b,\"private:\",self.__c)\n",
    "        \n",
    "    def show(self):\n",
    "        \n",
    "        print(\"protected:\",self._b ,\"private:\",self.__c)"
   ]
  },
  {
   "cell_type": "code",
   "execution_count": 119,
   "id": "ee8a4ce4",
   "metadata": {},
   "outputs": [
    {
     "name": "stdout",
     "output_type": "stream",
     "text": [
      "public: 6 protected: 5 private: 8\n"
     ]
    }
   ],
   "source": [
    "t2=test()"
   ]
  },
  {
   "cell_type": "code",
   "execution_count": 120,
   "id": "0aa3a1e8",
   "metadata": {},
   "outputs": [
    {
     "name": "stdout",
     "output_type": "stream",
     "text": [
      "protected: 5 private: 8\n"
     ]
    }
   ],
   "source": [
    "t2.show()"
   ]
  },
  {
   "cell_type": "code",
   "execution_count": 129,
   "id": "1a51a6b6",
   "metadata": {},
   "outputs": [
    {
     "data": {
      "text/plain": [
       "8"
      ]
     },
     "execution_count": 129,
     "metadata": {},
     "output_type": "execute_result"
    }
   ],
   "source": [
    "t2._test__c"
   ]
  },
  {
   "cell_type": "code",
   "execution_count": 137,
   "id": "e6d75137",
   "metadata": {},
   "outputs": [
    {
     "ename": "AttributeError",
     "evalue": "'test' object has no attribute '__c'",
     "output_type": "error",
     "traceback": [
      "\u001b[1;31m---------------------------------------------------------------------------\u001b[0m",
      "\u001b[1;31mAttributeError\u001b[0m                            Traceback (most recent call last)",
      "Input \u001b[1;32mIn [137]\u001b[0m, in \u001b[0;36m<cell line: 1>\u001b[1;34m()\u001b[0m\n\u001b[1;32m----> 1\u001b[0m \u001b[43mt2\u001b[49m\u001b[38;5;241;43m.\u001b[39;49m\u001b[43m__c\u001b[49m\n",
      "\u001b[1;31mAttributeError\u001b[0m: 'test' object has no attribute '__c'"
     ]
    }
   ],
   "source": [
    "t2.__c"
   ]
  },
  {
   "cell_type": "code",
   "execution_count": 132,
   "id": "b09ab297",
   "metadata": {},
   "outputs": [
    {
     "data": {
      "text/plain": [
       "5"
      ]
     },
     "execution_count": 132,
     "metadata": {},
     "output_type": "execute_result"
    }
   ],
   "source": [
    "t2._b"
   ]
  },
  {
   "cell_type": "code",
   "execution_count": 133,
   "id": "527a7a7e",
   "metadata": {},
   "outputs": [
    {
     "name": "stdout",
     "output_type": "stream",
     "text": [
      "public: 6 protected: 5 private: 8\n"
     ]
    }
   ],
   "source": [
    "t3=test()"
   ]
  },
  {
   "cell_type": "code",
   "execution_count": 136,
   "id": "bbd9be5a",
   "metadata": {},
   "outputs": [
    {
     "data": {
      "text/plain": [
       "5"
      ]
     },
     "execution_count": 136,
     "metadata": {},
     "output_type": "execute_result"
    }
   ],
   "source": [
    "t3._b"
   ]
  },
  {
   "cell_type": "code",
   "execution_count": 141,
   "id": "869c63e1",
   "metadata": {},
   "outputs": [],
   "source": [
    "class Tyres:\n",
    "    def __init__(self,branch,belted_bias,opt_pressure):\n",
    "        self.branch=branch\n",
    "        self.belted_bias=belted_bias\n",
    "        self.opt_pressure=opt_pressure\n",
    "        \n",
    "    def __str__(self):\n",
    "        return (\"Tyres: \\n \\tBranch\" + self.branch +\n",
    "               \"\\n \\t Belted-bias\" + str(self.belted_bias) +\n",
    "               \"\\n \\t optimal pressure\" + str(self.opt_pressure))\n",
    "    \n",
    "    \n",
    "    \n",
    "    \n",
    "class Engine:\n",
    "    def __init__(self,fuel_type,noise_level):\n",
    "        self.fuel_type=fuel_type\n",
    "        self.noise_level=noise_level\n",
    "        \n",
    "    def __str__(self):\n",
    "        return (\"Engine: \\n \\tFuel type\" + self.fuel_type +\n",
    "               \"\\n \\t Noise level:\" + str(self.noise_level))\n",
    "    \n",
    "\n",
    "    \n",
    "class Body:\n",
    "    \n",
    "    def __init__(self,size):\n",
    "        self.size=size\n",
    "        \n",
    "    def __str__(self):\n",
    "        return (\"Body:\\n \\t size\" + self.size)\n",
    "    \n",
    "\n",
    "\n",
    "    \n",
    "class Car:\n",
    "    \n",
    "    def __init__(self,tyres,engine,body):\n",
    "        \n",
    "        self.tyres=tyres\n",
    "        self.engine=engine\n",
    "        self.body=body\n",
    "        \n",
    "    def __str__(self):\n",
    "        return (str(self.tyres) + \"\\n\" + str(self.engine) + \"\\n\" + str(self.body))\n",
    "        \n",
    "        \n",
    "        \n",
    "\n",
    "\n",
    "        \n",
    "    \n",
    "                \n",
    "                \n",
    "                \n",
    "\n",
    "                "
   ]
  },
  {
   "cell_type": "code",
   "execution_count": 142,
   "id": "acc5951a",
   "metadata": {},
   "outputs": [],
   "source": [
    "t=Tyres('banaglore',True,2.0)\n",
    "e=Engine('Desel',3)\n",
    "b=Body('Medium')\n"
   ]
  },
  {
   "cell_type": "code",
   "execution_count": 143,
   "id": "9060d583",
   "metadata": {},
   "outputs": [
    {
     "name": "stdout",
     "output_type": "stream",
     "text": [
      "Tyres: \n",
      " \tBranchbanaglore\n",
      " \t Belted-biasTrue\n",
      " \t optimal pressure2.0\n",
      "Engine: \n",
      " \tFuel typeDesel\n",
      " \t Noise level:3\n",
      "Body:\n",
      " \t sizeMedium\n"
     ]
    }
   ],
   "source": [
    "c=Car(t,e,b)\n",
    "print(c)"
   ]
  },
  {
   "cell_type": "code",
   "execution_count": 144,
   "id": "3e0fc462",
   "metadata": {},
   "outputs": [
    {
     "name": "stdout",
     "output_type": "stream",
     "text": [
      "Tyres: \n",
      " \tBranchbanaglore\n",
      " \t Belted-biasTrue\n",
      " \t optimal pressure2.0\n"
     ]
    }
   ],
   "source": [
    "print(t)"
   ]
  },
  {
   "cell_type": "code",
   "execution_count": 145,
   "id": "3a822f54",
   "metadata": {},
   "outputs": [
    {
     "data": {
      "text/plain": [
       "'banaglore'"
      ]
     },
     "execution_count": 145,
     "metadata": {},
     "output_type": "execute_result"
    }
   ],
   "source": [
    "t.branch"
   ]
  },
  {
   "cell_type": "code",
   "execution_count": 146,
   "id": "b5ef2bce",
   "metadata": {},
   "outputs": [
    {
     "data": {
      "text/plain": [
       "['__call__',\n",
       " '__class__',\n",
       " '__delattr__',\n",
       " '__dir__',\n",
       " '__doc__',\n",
       " '__eq__',\n",
       " '__format__',\n",
       " '__ge__',\n",
       " '__getattribute__',\n",
       " '__gt__',\n",
       " '__hash__',\n",
       " '__init__',\n",
       " '__init_subclass__',\n",
       " '__le__',\n",
       " '__lt__',\n",
       " '__module__',\n",
       " '__name__',\n",
       " '__ne__',\n",
       " '__new__',\n",
       " '__qualname__',\n",
       " '__reduce__',\n",
       " '__reduce_ex__',\n",
       " '__repr__',\n",
       " '__self__',\n",
       " '__setattr__',\n",
       " '__sizeof__',\n",
       " '__str__',\n",
       " '__subclasshook__',\n",
       " '__text_signature__']"
      ]
     },
     "execution_count": 146,
     "metadata": {},
     "output_type": "execute_result"
    }
   ],
   "source": [
    "dir(print)"
   ]
  },
  {
   "cell_type": "code",
   "execution_count": null,
   "id": "51c43ed1",
   "metadata": {},
   "outputs": [],
   "source": [
    "imran@ineuron.ai"
   ]
  }
 ],
 "metadata": {
  "kernelspec": {
   "display_name": "Python 3 (ipykernel)",
   "language": "python",
   "name": "python3"
  },
  "language_info": {
   "codemirror_mode": {
    "name": "ipython",
    "version": 3
   },
   "file_extension": ".py",
   "mimetype": "text/x-python",
   "name": "python",
   "nbconvert_exporter": "python",
   "pygments_lexer": "ipython3",
   "version": "3.9.12"
  }
 },
 "nbformat": 4,
 "nbformat_minor": 5
}
